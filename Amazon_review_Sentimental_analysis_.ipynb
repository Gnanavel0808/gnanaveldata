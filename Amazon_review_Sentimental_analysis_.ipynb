{
 "cells": [
  {
   "cell_type": "code",
   "execution_count": 1,
   "metadata": {
    "colab": {
     "base_uri": "https://localhost:8080/"
    },
    "id": "f8KXH8mjohc_",
    "outputId": "bb0ecbc5-bb81-4e6a-c8b6-85df19eb5f67"
   },
   "outputs": [
    {
     "name": "stderr",
     "output_type": "stream",
     "text": [
      "[nltk_data] Error loading stopwords: <urlopen error [Errno 11001]\n",
      "[nltk_data]     getaddrinfo failed>\n"
     ]
    }
   ],
   "source": [
    "import numpy as np\n",
    "import pandas as pd\n",
    "import matplotlib.pyplot as plt\n",
    "import seaborn as sns\n",
    "import re \n",
    "import nltk\n",
    "nltk.download('stopwords')\n",
    "from nltk.corpus import stopwords\n",
    "from nltk.stem.porter import PorterStemmer\n",
    "from sklearn.feature_extraction.text import CountVectorizer, TfidfTransformer\n",
    "from sklearn.metrics import confusion_matrix, classification_report, balanced_accuracy_score\n",
    "from sklearn.pipeline import Pipeline\n",
    "from sklearn.model_selection import GridSearchCV\n",
    "\n",
    "%matplotlib inline"
   ]
  },
  {
   "cell_type": "code",
   "execution_count": 2,
   "metadata": {
    "colab": {
     "base_uri": "https://localhost:8080/",
     "height": 195
    },
    "id": "TXBhiv35q8nP",
    "outputId": "74af19c3-abfa-46a4-da11-5a228404ce71"
   },
   "outputs": [
    {
     "data": {
      "text/html": [
       "<div>\n",
       "<style scoped>\n",
       "    .dataframe tbody tr th:only-of-type {\n",
       "        vertical-align: middle;\n",
       "    }\n",
       "\n",
       "    .dataframe tbody tr th {\n",
       "        vertical-align: top;\n",
       "    }\n",
       "\n",
       "    .dataframe thead th {\n",
       "        text-align: right;\n",
       "    }\n",
       "</style>\n",
       "<table border=\"1\" class=\"dataframe\">\n",
       "  <thead>\n",
       "    <tr style=\"text-align: right;\">\n",
       "      <th></th>\n",
       "      <th>rating</th>\n",
       "      <th>date</th>\n",
       "      <th>variation</th>\n",
       "      <th>verified_reviews</th>\n",
       "      <th>feedback</th>\n",
       "    </tr>\n",
       "  </thead>\n",
       "  <tbody>\n",
       "    <tr>\n",
       "      <th>0</th>\n",
       "      <td>5</td>\n",
       "      <td>31-Jul-18</td>\n",
       "      <td>Charcoal Fabric</td>\n",
       "      <td>Love my Echo!</td>\n",
       "      <td>1</td>\n",
       "    </tr>\n",
       "    <tr>\n",
       "      <th>1</th>\n",
       "      <td>5</td>\n",
       "      <td>31-Jul-18</td>\n",
       "      <td>Charcoal Fabric</td>\n",
       "      <td>Loved it!</td>\n",
       "      <td>1</td>\n",
       "    </tr>\n",
       "    <tr>\n",
       "      <th>2</th>\n",
       "      <td>4</td>\n",
       "      <td>31-Jul-18</td>\n",
       "      <td>Walnut Finish</td>\n",
       "      <td>Sometimes while playing a game, you can answer...</td>\n",
       "      <td>1</td>\n",
       "    </tr>\n",
       "    <tr>\n",
       "      <th>3</th>\n",
       "      <td>5</td>\n",
       "      <td>31-Jul-18</td>\n",
       "      <td>Charcoal Fabric</td>\n",
       "      <td>I have had a lot of fun with this thing. My 4 ...</td>\n",
       "      <td>1</td>\n",
       "    </tr>\n",
       "    <tr>\n",
       "      <th>4</th>\n",
       "      <td>5</td>\n",
       "      <td>31-Jul-18</td>\n",
       "      <td>Charcoal Fabric</td>\n",
       "      <td>Music</td>\n",
       "      <td>1</td>\n",
       "    </tr>\n",
       "  </tbody>\n",
       "</table>\n",
       "</div>"
      ],
      "text/plain": [
       "   rating       date         variation  \\\n",
       "0       5  31-Jul-18  Charcoal Fabric    \n",
       "1       5  31-Jul-18  Charcoal Fabric    \n",
       "2       4  31-Jul-18    Walnut Finish    \n",
       "3       5  31-Jul-18  Charcoal Fabric    \n",
       "4       5  31-Jul-18  Charcoal Fabric    \n",
       "\n",
       "                                    verified_reviews  feedback  \n",
       "0                                      Love my Echo!         1  \n",
       "1                                          Loved it!         1  \n",
       "2  Sometimes while playing a game, you can answer...         1  \n",
       "3  I have had a lot of fun with this thing. My 4 ...         1  \n",
       "4                                              Music         1  "
      ]
     },
     "execution_count": 2,
     "metadata": {},
     "output_type": "execute_result"
    }
   ],
   "source": [
    "data = pd.read_csv('amazon_alexa.tsv', delimiter='\\t')\n",
    "data.head()"
   ]
  },
  {
   "cell_type": "code",
   "execution_count": 3,
   "metadata": {
    "colab": {
     "base_uri": "https://localhost:8080/",
     "height": 195
    },
    "id": "IBFQ99JBGc18",
    "outputId": "b8c80270-4da5-48a6-aaf6-421e3b18ec58"
   },
   "outputs": [
    {
     "data": {
      "text/html": [
       "<div>\n",
       "<style scoped>\n",
       "    .dataframe tbody tr th:only-of-type {\n",
       "        vertical-align: middle;\n",
       "    }\n",
       "\n",
       "    .dataframe tbody tr th {\n",
       "        vertical-align: top;\n",
       "    }\n",
       "\n",
       "    .dataframe thead th {\n",
       "        text-align: right;\n",
       "    }\n",
       "</style>\n",
       "<table border=\"1\" class=\"dataframe\">\n",
       "  <thead>\n",
       "    <tr style=\"text-align: right;\">\n",
       "      <th></th>\n",
       "      <th>rating</th>\n",
       "      <th>date</th>\n",
       "      <th>variation</th>\n",
       "      <th>verified_reviews</th>\n",
       "      <th>feedback</th>\n",
       "    </tr>\n",
       "  </thead>\n",
       "  <tbody>\n",
       "    <tr>\n",
       "      <th>3145</th>\n",
       "      <td>5</td>\n",
       "      <td>30-Jul-18</td>\n",
       "      <td>Black  Dot</td>\n",
       "      <td>Perfect for kids, adults and everyone in betwe...</td>\n",
       "      <td>1</td>\n",
       "    </tr>\n",
       "    <tr>\n",
       "      <th>3146</th>\n",
       "      <td>5</td>\n",
       "      <td>30-Jul-18</td>\n",
       "      <td>Black  Dot</td>\n",
       "      <td>Listening to music, searching locations, check...</td>\n",
       "      <td>1</td>\n",
       "    </tr>\n",
       "    <tr>\n",
       "      <th>3147</th>\n",
       "      <td>5</td>\n",
       "      <td>30-Jul-18</td>\n",
       "      <td>Black  Dot</td>\n",
       "      <td>I do love these things, i have them running my...</td>\n",
       "      <td>1</td>\n",
       "    </tr>\n",
       "    <tr>\n",
       "      <th>3148</th>\n",
       "      <td>5</td>\n",
       "      <td>30-Jul-18</td>\n",
       "      <td>White  Dot</td>\n",
       "      <td>Only complaint I have is that the sound qualit...</td>\n",
       "      <td>1</td>\n",
       "    </tr>\n",
       "    <tr>\n",
       "      <th>3149</th>\n",
       "      <td>4</td>\n",
       "      <td>29-Jul-18</td>\n",
       "      <td>Black  Dot</td>\n",
       "      <td>Good</td>\n",
       "      <td>1</td>\n",
       "    </tr>\n",
       "  </tbody>\n",
       "</table>\n",
       "</div>"
      ],
      "text/plain": [
       "      rating       date   variation  \\\n",
       "3145       5  30-Jul-18  Black  Dot   \n",
       "3146       5  30-Jul-18  Black  Dot   \n",
       "3147       5  30-Jul-18  Black  Dot   \n",
       "3148       5  30-Jul-18  White  Dot   \n",
       "3149       4  29-Jul-18  Black  Dot   \n",
       "\n",
       "                                       verified_reviews  feedback  \n",
       "3145  Perfect for kids, adults and everyone in betwe...         1  \n",
       "3146  Listening to music, searching locations, check...         1  \n",
       "3147  I do love these things, i have them running my...         1  \n",
       "3148  Only complaint I have is that the sound qualit...         1  \n",
       "3149                                               Good         1  "
      ]
     },
     "execution_count": 3,
     "metadata": {},
     "output_type": "execute_result"
    }
   ],
   "source": [
    "data.tail()"
   ]
  },
  {
   "cell_type": "code",
   "execution_count": 4,
   "metadata": {
    "colab": {
     "base_uri": "https://localhost:8080/"
    },
    "id": "fkNv_l8dGdEu",
    "outputId": "03efbcfa-744e-43da-ae3c-de3e88ebe2e8"
   },
   "outputs": [
    {
     "name": "stdout",
     "output_type": "stream",
     "text": [
      "<class 'pandas.core.frame.DataFrame'>\n",
      "RangeIndex: 3150 entries, 0 to 3149\n",
      "Data columns (total 5 columns):\n",
      " #   Column            Non-Null Count  Dtype \n",
      "---  ------            --------------  ----- \n",
      " 0   rating            3150 non-null   int64 \n",
      " 1   date              3150 non-null   object\n",
      " 2   variation         3150 non-null   object\n",
      " 3   verified_reviews  3149 non-null   object\n",
      " 4   feedback          3150 non-null   int64 \n",
      "dtypes: int64(2), object(3)\n",
      "memory usage: 123.2+ KB\n"
     ]
    }
   ],
   "source": [
    "data.info()"
   ]
  },
  {
   "cell_type": "code",
   "execution_count": 5,
   "metadata": {
    "colab": {
     "base_uri": "https://localhost:8080/"
    },
    "id": "BX_raj5qGdNB",
    "outputId": "2e9ff2ad-63d3-472b-e4ee-65bf58207bc1"
   },
   "outputs": [
    {
     "data": {
      "text/plain": [
       "rating              0\n",
       "date                0\n",
       "variation           0\n",
       "verified_reviews    1\n",
       "feedback            0\n",
       "dtype: int64"
      ]
     },
     "execution_count": 5,
     "metadata": {},
     "output_type": "execute_result"
    }
   ],
   "source": [
    "data.isnull().sum()"
   ]
  },
  {
   "cell_type": "code",
   "execution_count": 6,
   "metadata": {},
   "outputs": [
    {
     "data": {
      "text/plain": [
       "(3150, 5)"
      ]
     },
     "execution_count": 6,
     "metadata": {},
     "output_type": "execute_result"
    }
   ],
   "source": [
    "data.shape"
   ]
  },
  {
   "cell_type": "code",
   "execution_count": 7,
   "metadata": {
    "colab": {
     "base_uri": "https://localhost:8080/",
     "height": 284
    },
    "id": "lJx4XIJWGdTh",
    "outputId": "db4134c6-e384-490a-98d3-1530fe00b68e"
   },
   "outputs": [
    {
     "data": {
      "text/html": [
       "<div>\n",
       "<style scoped>\n",
       "    .dataframe tbody tr th:only-of-type {\n",
       "        vertical-align: middle;\n",
       "    }\n",
       "\n",
       "    .dataframe tbody tr th {\n",
       "        vertical-align: top;\n",
       "    }\n",
       "\n",
       "    .dataframe thead th {\n",
       "        text-align: right;\n",
       "    }\n",
       "</style>\n",
       "<table border=\"1\" class=\"dataframe\">\n",
       "  <thead>\n",
       "    <tr style=\"text-align: right;\">\n",
       "      <th></th>\n",
       "      <th>rating</th>\n",
       "      <th>feedback</th>\n",
       "    </tr>\n",
       "  </thead>\n",
       "  <tbody>\n",
       "    <tr>\n",
       "      <th>count</th>\n",
       "      <td>3150.000000</td>\n",
       "      <td>3150.000000</td>\n",
       "    </tr>\n",
       "    <tr>\n",
       "      <th>mean</th>\n",
       "      <td>4.463175</td>\n",
       "      <td>0.918413</td>\n",
       "    </tr>\n",
       "    <tr>\n",
       "      <th>std</th>\n",
       "      <td>1.068506</td>\n",
       "      <td>0.273778</td>\n",
       "    </tr>\n",
       "    <tr>\n",
       "      <th>min</th>\n",
       "      <td>1.000000</td>\n",
       "      <td>0.000000</td>\n",
       "    </tr>\n",
       "    <tr>\n",
       "      <th>25%</th>\n",
       "      <td>4.000000</td>\n",
       "      <td>1.000000</td>\n",
       "    </tr>\n",
       "    <tr>\n",
       "      <th>50%</th>\n",
       "      <td>5.000000</td>\n",
       "      <td>1.000000</td>\n",
       "    </tr>\n",
       "    <tr>\n",
       "      <th>75%</th>\n",
       "      <td>5.000000</td>\n",
       "      <td>1.000000</td>\n",
       "    </tr>\n",
       "    <tr>\n",
       "      <th>max</th>\n",
       "      <td>5.000000</td>\n",
       "      <td>1.000000</td>\n",
       "    </tr>\n",
       "  </tbody>\n",
       "</table>\n",
       "</div>"
      ],
      "text/plain": [
       "            rating     feedback\n",
       "count  3150.000000  3150.000000\n",
       "mean      4.463175     0.918413\n",
       "std       1.068506     0.273778\n",
       "min       1.000000     0.000000\n",
       "25%       4.000000     1.000000\n",
       "50%       5.000000     1.000000\n",
       "75%       5.000000     1.000000\n",
       "max       5.000000     1.000000"
      ]
     },
     "execution_count": 7,
     "metadata": {},
     "output_type": "execute_result"
    }
   ],
   "source": [
    "data.describe()"
   ]
  },
  {
   "cell_type": "markdown",
   "metadata": {
    "id": "8NiwC4c9H6Lf"
   },
   "source": [
    "# Analysis and Visualization"
   ]
  },
  {
   "cell_type": "code",
   "execution_count": 8,
   "metadata": {
    "colab": {
     "base_uri": "https://localhost:8080/",
     "height": 336
    },
    "id": "1sdeG_z_GdXJ",
    "outputId": "9055bdb2-2cdd-40bb-dd25-bad307c5efd2"
   },
   "outputs": [
    {
     "data": {
      "image/png": "[encoded data removed]",
      "text/plain": [
       "<Figure size 1300x500 with 2 Axes>"
      ]
     },
     "metadata": {},
     "output_type": "display_data"
    }
   ],
   "source": [
    "data.hist(bins = 30, figsize = (13,5), color = 'r')\n",
    "plt.show()"
   ]
  },
  {
   "cell_type": "markdown",
   "metadata": {
    "id": "pjIn2vZ7H0_J"
   },
   "source": [
    "we can see that rating distribution indicates a dominant positive feedback as almost 3000 reviews are labeled as positive, with average value of ~ 4.5 and standard deviation of 1"
   ]
  },
  {
   "cell_type": "code",
   "execution_count": 9,
   "metadata": {},
   "outputs": [
    {
     "name": "stdout",
     "output_type": "stream",
     "text": [
      "   rating       date         variation  \\\n",
      "0       5  31-Jul-18  Charcoal Fabric    \n",
      "1       5  31-Jul-18  Charcoal Fabric    \n",
      "2       4  31-Jul-18    Walnut Finish    \n",
      "3       5  31-Jul-18  Charcoal Fabric    \n",
      "4       5  31-Jul-18  Charcoal Fabric    \n",
      "\n",
      "                                    verified_reviews  feedback  review length  \n",
      "0                                      Love my Echo!         1             13  \n",
      "1                                          Loved it!         1              9  \n",
      "2  Sometimes while playing a game, you can answer...         1            195  \n",
      "3  I have had a lot of fun with this thing. My 4 ...         1            172  \n",
      "4                                              Music         1              5  \n"
     ]
    }
   ],
   "source": [
    "data['verified_reviews'] = data['verified_reviews'].fillna(\"\").astype(str)\n",
    "\n",
    "data['review length'] = data['verified_reviews'].apply(len)\n",
    "\n",
    "print(data.head())"
   ]
  },
  {
   "cell_type": "code",
   "execution_count": 10,
   "metadata": {
    "colab": {
     "base_uri": "https://localhost:8080/",
     "height": 195
    },
    "id": "_3CGbo1nGdZ4",
    "outputId": "d49bd174-d64e-484f-b495-b8c0747a6c58"
   },
   "outputs": [
    {
     "data": {
      "text/html": [
       "<div>\n",
       "<style scoped>\n",
       "    .dataframe tbody tr th:only-of-type {\n",
       "        vertical-align: middle;\n",
       "    }\n",
       "\n",
       "    .dataframe tbody tr th {\n",
       "        vertical-align: top;\n",
       "    }\n",
       "\n",
       "    .dataframe thead th {\n",
       "        text-align: right;\n",
       "    }\n",
       "</style>\n",
       "<table border=\"1\" class=\"dataframe\">\n",
       "  <thead>\n",
       "    <tr style=\"text-align: right;\">\n",
       "      <th></th>\n",
       "      <th>rating</th>\n",
       "      <th>date</th>\n",
       "      <th>variation</th>\n",
       "      <th>verified_reviews</th>\n",
       "      <th>feedback</th>\n",
       "      <th>review length</th>\n",
       "    </tr>\n",
       "  </thead>\n",
       "  <tbody>\n",
       "    <tr>\n",
       "      <th>0</th>\n",
       "      <td>5</td>\n",
       "      <td>31-Jul-18</td>\n",
       "      <td>Charcoal Fabric</td>\n",
       "      <td>Love my Echo!</td>\n",
       "      <td>1</td>\n",
       "      <td>13</td>\n",
       "    </tr>\n",
       "    <tr>\n",
       "      <th>1</th>\n",
       "      <td>5</td>\n",
       "      <td>31-Jul-18</td>\n",
       "      <td>Charcoal Fabric</td>\n",
       "      <td>Loved it!</td>\n",
       "      <td>1</td>\n",
       "      <td>9</td>\n",
       "    </tr>\n",
       "    <tr>\n",
       "      <th>2</th>\n",
       "      <td>4</td>\n",
       "      <td>31-Jul-18</td>\n",
       "      <td>Walnut Finish</td>\n",
       "      <td>Sometimes while playing a game, you can answer...</td>\n",
       "      <td>1</td>\n",
       "      <td>195</td>\n",
       "    </tr>\n",
       "    <tr>\n",
       "      <th>3</th>\n",
       "      <td>5</td>\n",
       "      <td>31-Jul-18</td>\n",
       "      <td>Charcoal Fabric</td>\n",
       "      <td>I have had a lot of fun with this thing. My 4 ...</td>\n",
       "      <td>1</td>\n",
       "      <td>172</td>\n",
       "    </tr>\n",
       "    <tr>\n",
       "      <th>4</th>\n",
       "      <td>5</td>\n",
       "      <td>31-Jul-18</td>\n",
       "      <td>Charcoal Fabric</td>\n",
       "      <td>Music</td>\n",
       "      <td>1</td>\n",
       "      <td>5</td>\n",
       "    </tr>\n",
       "  </tbody>\n",
       "</table>\n",
       "</div>"
      ],
      "text/plain": [
       "   rating       date         variation  \\\n",
       "0       5  31-Jul-18  Charcoal Fabric    \n",
       "1       5  31-Jul-18  Charcoal Fabric    \n",
       "2       4  31-Jul-18    Walnut Finish    \n",
       "3       5  31-Jul-18  Charcoal Fabric    \n",
       "4       5  31-Jul-18  Charcoal Fabric    \n",
       "\n",
       "                                    verified_reviews  feedback  review length  \n",
       "0                                      Love my Echo!         1             13  \n",
       "1                                          Loved it!         1              9  \n",
       "2  Sometimes while playing a game, you can answer...         1            195  \n",
       "3  I have had a lot of fun with this thing. My 4 ...         1            172  \n",
       "4                                              Music         1              5  "
      ]
     },
     "execution_count": 10,
     "metadata": {},
     "output_type": "execute_result"
    }
   ],
   "source": [
    "# Let's get the length of the reviews\n",
    "\n",
    "data['review length'] = data['verified_reviews'].apply(len)\n",
    "data.head()"
   ]
  },
  {
   "cell_type": "code",
   "execution_count": 11,
   "metadata": {
    "colab": {
     "base_uri": "https://localhost:8080/",
     "height": 265
    },
    "id": "AJ-mOaQoGddb",
    "outputId": "4d9550ea-f1ea-4422-c0d5-71c00efe85cf"
   },
   "outputs": [
    {
     "data": {
      "image/png": "[encoded data removed]",
      "text/plain": [
       "<Figure size 640x480 with 1 Axes>"
      ]
     },
     "metadata": {},
     "output_type": "display_data"
    }
   ],
   "source": [
    "data['review length'].plot(bins=100, kind='hist') \n",
    "plt.show()"
   ]
  },
  {
   "cell_type": "markdown",
   "metadata": {
    "id": "gE74QfHZHxRl"
   },
   "source": [
    "Most reviews do not exceed 500-character long. Let's compare the length of reviews based on rating"
   ]
  },
  {
   "cell_type": "code",
   "execution_count": 12,
   "metadata": {
    "colab": {
     "base_uri": "https://localhost:8080/",
     "height": 279
    },
    "id": "0OHg92YwGsYI",
    "outputId": "858f3558-e8b8-471a-c02d-feda7200190e"
   },
   "outputs": [
    {
     "data": {
      "image/png": "[encoded data removed]",
      "text/plain": [
       "<Figure size 640x480 with 1 Axes>"
      ]
     },
     "metadata": {},
     "output_type": "display_data"
    }
   ],
   "source": [
    "sns.boxplot(x='rating', y='review length', data=data)\n",
    "plt.show()"
   ]
  },
  {
   "cell_type": "code",
   "execution_count": 13,
   "metadata": {
    "colab": {
     "base_uri": "https://localhost:8080/",
     "height": 279
    },
    "id": "bc6s2PPhGsa_",
    "outputId": "7b8a8079-8c99-4de9-e398-254324457803"
   },
   "outputs": [
    {
     "data": {
      "image/png": "[encoded data removed]",
      "text/plain": [
       "<Figure size 640x480 with 1 Axes>"
      ]
     },
     "metadata": {},
     "output_type": "display_data"
    }
   ],
   "source": [
    "sns.boxplot(x='feedback', y='review length', data=data)\n",
    "plt.show()"
   ]
  },
  {
   "cell_type": "markdown",
   "metadata": {
    "id": "YKBWduryHtpb"
   },
   "source": [
    "we can observe that reviews tend to be longer with lower ratings indicating that users tend to be more expressive in negative experiences"
   ]
  },
  {
   "cell_type": "code",
   "execution_count": 14,
   "metadata": {
    "colab": {
     "base_uri": "https://localhost:8080/",
     "height": 416
    },
    "id": "7CGp3HtZGsrs",
    "outputId": "11da39a6-f815-4a77-cfbf-5a387ce36e5c"
   },
   "outputs": [
    {
     "name": "stderr",
     "output_type": "stream",
     "text": [
      "C:\\Users\\gnana\\AppData\\Local\\Temp\\ipykernel_13052\\161684021.py:2: FutureWarning: \n",
      "\n",
      "Passing `palette` without assigning `hue` is deprecated and will be removed in v0.14.0. Assign the `x` variable to `hue` and set `legend=False` for the same effect.\n",
      "\n",
      "  sns.barplot(x = 'variation', y='rating', data = data, palette = 'deep')\n"
     ]
    },
    {
     "data": {
      "text/plain": [
       "<Axes: xlabel='variation', ylabel='rating'>"
      ]
     },
     "execution_count": 14,
     "metadata": {},
     "output_type": "execute_result"
    },
    {
     "data": {
      "image/png": "[encoded data removed]",
      "text/plain": [
       "<Figure size 3000x1000 with 1 Axes>"
      ]
     },
     "metadata": {},
     "output_type": "display_data"
    }
   ],
   "source": [
    "plt.figure(figsize = (30,10))\n",
    "sns.barplot(x = 'variation', y='rating', data = data, palette = 'deep')"
   ]
  },
  {
   "cell_type": "markdown",
   "metadata": {
    "id": "sau6tD0YHocf"
   },
   "source": [
    "Different variations has no significant impact on the rating, However, Oak finish is slightly more highly rated than other variations"
   ]
  },
  {
   "cell_type": "code",
   "execution_count": 15,
   "metadata": {
    "colab": {
     "base_uri": "https://localhost:8080/",
     "height": 281
    },
    "id": "CvJqnTh6Gdf1",
    "outputId": "d60a6f14-b392-44cc-ff16-7080c3b9079b"
   },
   "outputs": [
    {
     "data": {
      "image/png": "[encoded data removed]",
      "text/plain": [
       "<Figure size 640x480 with 1 Axes>"
      ]
     },
     "metadata": {},
     "output_type": "display_data"
    }
   ],
   "source": [
    "sns.countplot(x = 'feedback', data = data)\n",
    "plt.show()"
   ]
  },
  {
   "cell_type": "markdown",
   "metadata": {
    "id": "IBxNTw9AHjYH"
   },
   "source": [
    "Positive feedback is much higher than negative ones so we expect our model to be biased toward the positive instances"
   ]
  },
  {
   "cell_type": "markdown",
   "metadata": {
    "id": "oAy-RqTtZrrJ"
   },
   "source": [
    "# Data Preprocessing"
   ]
  },
  {
   "cell_type": "code",
   "execution_count": 16,
   "metadata": {
    "id": "oey4u_J7G7gT"
   },
   "outputs": [],
   "source": [
    "# drop unnecessary columns\n",
    "data.drop(['date', 'variation', 'rating', 'review length'],axis=1, inplace=True)"
   ]
  },
  {
   "cell_type": "code",
   "execution_count": 17,
   "metadata": {
    "colab": {
     "base_uri": "https://localhost:8080/",
     "height": 195
    },
    "id": "-OiNYNJrHAJW",
    "outputId": "68edc64b-442a-4908-e972-3e1da427a2dc"
   },
   "outputs": [
    {
     "data": {
      "text/html": [
       "<div>\n",
       "<style scoped>\n",
       "    .dataframe tbody tr th:only-of-type {\n",
       "        vertical-align: middle;\n",
       "    }\n",
       "\n",
       "    .dataframe tbody tr th {\n",
       "        vertical-align: top;\n",
       "    }\n",
       "\n",
       "    .dataframe thead th {\n",
       "        text-align: right;\n",
       "    }\n",
       "</style>\n",
       "<table border=\"1\" class=\"dataframe\">\n",
       "  <thead>\n",
       "    <tr style=\"text-align: right;\">\n",
       "      <th></th>\n",
       "      <th>verified_reviews</th>\n",
       "      <th>feedback</th>\n",
       "    </tr>\n",
       "  </thead>\n",
       "  <tbody>\n",
       "    <tr>\n",
       "      <th>0</th>\n",
       "      <td>Love my Echo!</td>\n",
       "      <td>1</td>\n",
       "    </tr>\n",
       "    <tr>\n",
       "      <th>1</th>\n",
       "      <td>Loved it!</td>\n",
       "      <td>1</td>\n",
       "    </tr>\n",
       "    <tr>\n",
       "      <th>2</th>\n",
       "      <td>Sometimes while playing a game, you can answer...</td>\n",
       "      <td>1</td>\n",
       "    </tr>\n",
       "    <tr>\n",
       "      <th>3</th>\n",
       "      <td>I have had a lot of fun with this thing. My 4 ...</td>\n",
       "      <td>1</td>\n",
       "    </tr>\n",
       "    <tr>\n",
       "      <th>4</th>\n",
       "      <td>Music</td>\n",
       "      <td>1</td>\n",
       "    </tr>\n",
       "  </tbody>\n",
       "</table>\n",
       "</div>"
      ],
      "text/plain": [
       "                                    verified_reviews  feedback\n",
       "0                                      Love my Echo!         1\n",
       "1                                          Loved it!         1\n",
       "2  Sometimes while playing a game, you can answer...         1\n",
       "3  I have had a lot of fun with this thing. My 4 ...         1\n",
       "4                                              Music         1"
      ]
     },
     "execution_count": 17,
     "metadata": {},
     "output_type": "execute_result"
    }
   ],
   "source": [
    "data.head()"
   ]
  },
  {
   "cell_type": "code",
   "execution_count": 22,
   "metadata": {
    "id": "s49PWfYZq-aw"
   },
   "outputs": [],
   "source": [
    "corpus = []\n",
    "for i in range(len(data)):\n",
    "  review = re.sub('[^a-zA-Z]', ' ', data['verified_reviews'][i]) # remove all what's not a character\n",
    "  review = review.lower().split()\n",
    "  ps = PorterStemmer()\n",
    "  all_stop_words = stopwords.words('english')\n",
    "  all_stop_words.remove('not')\n",
    "  review = [ps.stem(word) for word in review if not word  in set(all_stop_words)]  # remove stop words, perform stemming\n",
    "  review = ' '.join(review)\n",
    "  corpus.append(review)"
   ]
  },
  {
   "cell_type": "code",
   "execution_count": 23,
   "metadata": {
    "colab": {
     "base_uri": "https://localhost:8080/"
    },
    "id": "3NrpfLVlHDuH",
    "outputId": "02257903-4a91-41ee-ba94-7e86a20c357a"
   },
   "outputs": [
    {
     "data": {
      "text/plain": [
       "['love echo',\n",
       " 'love',\n",
       " 'sometim play game answer question correctli alexa say got wrong answer like abl turn light away home',\n",
       " 'lot fun thing yr old learn dinosaur control light play game like categori nice sound play music well',\n",
       " 'music',\n",
       " 'receiv echo gift need anoth bluetooth someth play music easili access found smart speaker wait see els',\n",
       " 'without cellphon cannot use mani featur ipad not see use great alarm u r almost deaf hear alarm bedroom live room reason enough keep fun ask random question hear respons not seem smartbon polit yet',\n",
       " 'think th one purchas work get one everi room hous realli like featur offer specifili play music echo control light throughout hous',\n",
       " 'look great',\n",
       " 'love listen song heard sinc childhood get news weather inform great']"
      ]
     },
     "execution_count": 23,
     "metadata": {},
     "output_type": "execute_result"
    }
   ],
   "source": [
    "corpus[:10]"
   ]
  },
  {
   "cell_type": "code",
   "execution_count": 91,
   "metadata": {},
   "outputs": [
    {
     "name": "stdout",
     "output_type": "stream",
     "text": [
      "Collecting textblob\n",
      "  Downloading textblob-0.18.0.post0-py3-none-any.whl.metadata (4.5 kB)\n",
      "Requirement already satisfied: nltk>=3.8 in c:\\users\\gnana\\anaconda3\\lib\\site-packages (from textblob) (3.8.1)\n",
      "Requirement already satisfied: click in c:\\users\\gnana\\anaconda3\\lib\\site-packages (from nltk>=3.8->textblob) (8.1.7)\n",
      "Requirement already satisfied: joblib in c:\\users\\gnana\\anaconda3\\lib\\site-packages (from nltk>=3.8->textblob) (1.2.0)\n",
      "Requirement already satisfied: regex>=2021.8.3 in c:\\users\\gnana\\anaconda3\\lib\\site-packages (from nltk>=3.8->textblob) (2023.10.3)\n",
      "Requirement already satisfied: tqdm in c:\\users\\gnana\\anaconda3\\lib\\site-packages (from nltk>=3.8->textblob) (4.65.0)\n",
      "Requirement already satisfied: colorama in c:\\users\\gnana\\anaconda3\\lib\\site-packages (from click->nltk>=3.8->textblob) (0.4.6)\n",
      "Downloading textblob-0.18.0.post0-py3-none-any.whl (626 kB)\n",
      "   ---------------------------------------- 0.0/626.3 kB ? eta -:--:--\n",
      "    --------------------------------------- 10.2/626.3 kB ? eta -:--:--\n",
      "    --------------------------------------- 10.2/626.3 kB ? eta -:--:--\n",
      "    --------------------------------------- 10.2/626.3 kB ? eta -:--:--\n",
      "   - ------------------------------------- 30.7/626.3 kB 109.5 kB/s eta 0:00:06\n",
      "   - ------------------------------------- 30.7/626.3 kB 109.5 kB/s eta 0:00:06\n",
      "   -- ------------------------------------ 41.0/626.3 kB 115.9 kB/s eta 0:00:06\n",
      "   -- ------------------------------------ 41.0/626.3 kB 115.9 kB/s eta 0:00:06\n",
      "   -- ------------------------------------ 41.0/626.3 kB 115.9 kB/s eta 0:00:06\n",
      "   --- ----------------------------------- 61.4/626.3 kB 131.3 kB/s eta 0:00:05\n",
      "   --- ----------------------------------- 61.4/626.3 kB 131.3 kB/s eta 0:00:05\n",
      "   ----- --------------------------------- 81.9/626.3 kB 143.4 kB/s eta 0:00:04\n",
      "   ----- --------------------------------- 81.9/626.3 kB 143.4 kB/s eta 0:00:04\n",
      "   ----- --------------------------------- 92.2/626.3 kB 134.5 kB/s eta 0:00:04\n",
      "   ----- --------------------------------- 92.2/626.3 kB 134.5 kB/s eta 0:00:04\n",
      "   ------ ------------------------------- 112.6/626.3 kB 142.6 kB/s eta 0:00:04\n",
      "   ------ ------------------------------- 112.6/626.3 kB 142.6 kB/s eta 0:00:04\n",
      "   ------- ------------------------------ 122.9/626.3 kB 141.3 kB/s eta 0:00:04\n",
      "   ------- ------------------------------ 122.9/626.3 kB 141.3 kB/s eta 0:00:04\n",
      "   ------- ------------------------------ 122.9/626.3 kB 141.3 kB/s eta 0:00:04\n",
      "   ------- ------------------------------ 122.9/626.3 kB 141.3 kB/s eta 0:00:04\n",
      "   -------- ----------------------------- 143.4/626.3 kB 133.1 kB/s eta 0:00:04\n",
      "   -------- ----------------------------- 143.4/626.3 kB 133.1 kB/s eta 0:00:04\n",
      "   --------- ---------------------------- 163.8/626.3 kB 138.5 kB/s eta 0:00:04\n",
      "   --------- ---------------------------- 163.8/626.3 kB 138.5 kB/s eta 0:00:04\n",
      "   ---------- --------------------------- 174.1/626.3 kB 134.5 kB/s eta 0:00:04\n",
      "   ---------- --------------------------- 174.1/626.3 kB 134.5 kB/s eta 0:00:04\n",
      "   ---------- --------------------------- 174.1/626.3 kB 134.5 kB/s eta 0:00:04\n",
      "   ---------- --------------------------- 174.1/626.3 kB 134.5 kB/s eta 0:00:04\n",
      "   ---------- --------------------------- 174.1/626.3 kB 134.5 kB/s eta 0:00:04\n",
      "   ----------- -------------------------- 194.6/626.3 kB 129.6 kB/s eta 0:00:04\n",
      "   ----------- -------------------------- 194.6/626.3 kB 129.6 kB/s eta 0:00:04\n",
      "   ------------ ------------------------- 204.8/626.3 kB 128.4 kB/s eta 0:00:04\n",
      "   ------------ ------------------------- 204.8/626.3 kB 128.4 kB/s eta 0:00:04\n",
      "   ------------ ------------------------- 204.8/626.3 kB 128.4 kB/s eta 0:00:04\n",
      "   ------------ ------------------------- 204.8/626.3 kB 128.4 kB/s eta 0:00:04\n",
      "   ------------- ------------------------ 225.3/626.3 kB 124.0 kB/s eta 0:00:04\n",
      "   ------------- ------------------------ 225.3/626.3 kB 124.0 kB/s eta 0:00:04\n",
      "   -------------- ----------------------- 245.8/626.3 kB 128.8 kB/s eta 0:00:03\n",
      "   -------------- ----------------------- 245.8/626.3 kB 128.8 kB/s eta 0:00:03\n",
      "   --------------- ---------------------- 256.0/626.3 kB 126.9 kB/s eta 0:00:03\n",
      "   --------------- ---------------------- 256.0/626.3 kB 126.9 kB/s eta 0:00:03\n",
      "   --------------- ---------------------- 256.0/626.3 kB 126.9 kB/s eta 0:00:03\n",
      "   ---------------- --------------------- 276.5/626.3 kB 130.1 kB/s eta 0:00:03\n",
      "   ---------------- --------------------- 276.5/626.3 kB 130.1 kB/s eta 0:00:03\n",
      "   ---------------- --------------------- 276.5/626.3 kB 130.1 kB/s eta 0:00:03\n",
      "   ---------------- --------------------- 276.5/626.3 kB 130.1 kB/s eta 0:00:03\n",
      "   ----------------- -------------------- 286.7/626.3 kB 123.8 kB/s eta 0:00:03\n",
      "   ----------------- -------------------- 286.7/626.3 kB 123.8 kB/s eta 0:00:03\n",
      "   ------------------- ------------------ 327.7/626.3 kB 134.6 kB/s eta 0:00:03\n",
      "   -------------------- ----------------- 337.9/626.3 kB 135.3 kB/s eta 0:00:03\n",
      "   -------------------- ----------------- 337.9/626.3 kB 135.3 kB/s eta 0:00:03\n",
      "   -------------------- ----------------- 337.9/626.3 kB 135.3 kB/s eta 0:00:03\n",
      "   ---------------------- --------------- 368.6/626.3 kB 139.9 kB/s eta 0:00:02\n",
      "   ---------------------- --------------- 368.6/626.3 kB 139.9 kB/s eta 0:00:02\n",
      "   ----------------------- -------------- 389.1/626.3 kB 143.5 kB/s eta 0:00:02\n",
      "   ----------------------- -------------- 389.1/626.3 kB 143.5 kB/s eta 0:00:02\n",
      "   ------------------------ ------------- 409.6/626.3 kB 145.2 kB/s eta 0:00:02\n",
      "   ------------------------- ------------ 419.8/626.3 kB 148.1 kB/s eta 0:00:02\n",
      "   -------------------------- ----------- 440.3/626.3 kB 151.3 kB/s eta 0:00:02\n",
      "   -------------------------- ----------- 440.3/626.3 kB 151.3 kB/s eta 0:00:02\n",
      "   --------------------------- ---------- 450.6/626.3 kB 149.1 kB/s eta 0:00:02\n",
      "   ---------------------------- --------- 471.0/626.3 kB 153.6 kB/s eta 0:00:02\n",
      "   ---------------------------- --------- 471.0/626.3 kB 153.6 kB/s eta 0:00:02\n",
      "   ----------------------------- -------- 491.5/626.3 kB 157.2 kB/s eta 0:00:01\n",
      "   ----------------------------- -------- 491.5/626.3 kB 157.2 kB/s eta 0:00:01\n",
      "   ------------------------------- ------ 522.2/626.3 kB 161.4 kB/s eta 0:00:01\n",
      "   -------------------------------- ----- 532.5/626.3 kB 161.5 kB/s eta 0:00:01\n",
      "   --------------------------------- ---- 553.0/626.3 kB 165.4 kB/s eta 0:00:01\n",
      "   ----------------------------------- -- 583.7/626.3 kB 172.3 kB/s eta 0:00:01\n",
      "   ----------------------------------- -- 583.7/626.3 kB 172.3 kB/s eta 0:00:01\n",
      "   ----------------------------------- -- 583.7/626.3 kB 172.3 kB/s eta 0:00:01\n",
      "   -------------------------------------  624.6/626.3 kB 177.2 kB/s eta 0:00:01\n",
      "   -------------------------------------- 626.3/626.3 kB 174.5 kB/s eta 0:00:00\n",
      "Installing collected packages: textblob\n",
      "Successfully installed textblob-0.18.0.post0\n"
     ]
    }
   ],
   "source": [
    "!pip install textblob\n"
   ]
  },
  {
   "cell_type": "code",
   "execution_count": 24,
   "metadata": {},
   "outputs": [],
   "source": [
    "from textblob import TextBlob"
   ]
  },
  {
   "cell_type": "code",
   "execution_count": 25,
   "metadata": {},
   "outputs": [
    {
     "name": "stdout",
     "output_type": "stream",
     "text": [
      "                                       verified_reviews  feedback Sentiment\n",
      "0                                         Love my Echo!         1  Positive\n",
      "1                                             Loved it!         1  Positive\n",
      "2     Sometimes while playing a game, you can answer...         1  Negative\n",
      "3     I have had a lot of fun with this thing. My 4 ...         1  Positive\n",
      "4                                                 Music         1   Neutral\n",
      "...                                                 ...       ...       ...\n",
      "3145  Perfect for kids, adults and everyone in betwe...         1  Positive\n",
      "3146  Listening to music, searching locations, check...         1  Positive\n",
      "3147  I do love these things, i have them running my...         1  Positive\n",
      "3148  Only complaint I have is that the sound qualit...         1  Positive\n",
      "3149                                               Good         1  Positive\n",
      "\n",
      "[3150 rows x 3 columns]\n",
      "Sentence: a there is a beautiful flower\n",
      "Sentiment: Positive\n"
     ]
    }
   ],
   "source": [
    "from textblob import TextBlob\n",
    "\n",
    "\n",
    "# Function to determine sentiment\n",
    "def predict_sentiment(review):\n",
    "    \n",
    "    analysis = TextBlob(review)\n",
    "    # Polarity ranges from -1 (negative) to 1 (positive)\n",
    "    if analysis.sentiment.polarity > 0:\n",
    "        return \"Positive\"\n",
    "    elif analysis.sentiment.polarity < 0:\n",
    "        return \"Negative\"\n",
    "    else:\n",
    "        return \"Neutral\"\n",
    "\n",
    "# Apply the function to predict sentiment\n",
    "data['Sentiment'] = data['verified_reviews'].apply(lambda x: predict_sentiment(x))\n",
    "\n",
    "# Display the DataFrame\n",
    "print(data)\n",
    "sentence = \"a there is a beautiful flower\"\n",
    "result = predict_sentiment(sentence)\n",
    "print(f\"Sentence: {sentence}\")\n",
    "print(f\"Sentiment: {result}\")"
   ]
  },
  {
   "cell_type": "code",
   "execution_count": 26,
   "metadata": {},
   "outputs": [
    {
     "data": {
      "text/plain": [
       "array(['Positive', 'Negative', 'Neutral'], dtype=object)"
      ]
     },
     "execution_count": 26,
     "metadata": {},
     "output_type": "execute_result"
    }
   ],
   "source": [
    "data[\"Sentiment\"].unique()"
   ]
  },
  {
   "cell_type": "code",
   "execution_count": 27,
   "metadata": {},
   "outputs": [
    {
     "data": {
      "text/plain": [
       "['love echo',\n",
       " 'love',\n",
       " 'sometim play game answer question correctli alexa say got wrong answer like abl turn light away home',\n",
       " 'lot fun thing yr old learn dinosaur control light play game like categori nice sound play music well',\n",
       " 'music',\n",
       " 'receiv echo gift need anoth bluetooth someth play music easili access found smart speaker wait see els',\n",
       " 'without cellphon cannot use mani featur ipad not see use great alarm u r almost deaf hear alarm bedroom live room reason enough keep fun ask random question hear respons not seem smartbon polit yet',\n",
       " 'think th one purchas work get one everi room hous realli like featur offer specifili play music echo control light throughout hous',\n",
       " 'look great',\n",
       " 'love listen song heard sinc childhood get news weather inform great',\n",
       " 'sent year old dad talk constantli',\n",
       " 'love learn knew thing eveyday still figur everyth work far easi use understand make laugh time',\n",
       " 'purchas mother knee problem give someth tri come not get around fast like enjoy littl big thing alexa play song time cook',\n",
       " 'love love love',\n",
       " 'expect',\n",
       " 'love wife hate',\n",
       " 'realli happi purchas great speaker easi set',\n",
       " 'use alexa coupl day lot fun new toy like new household member tri learn differ featu benefit come',\n",
       " 'love size nd gener echo still need littl improv sound',\n",
       " 'like origin echo shorter greater fabric color choic miss volum ring top plu minu button not big deal ring w comfort well like use standard usb charger port instead previou round pin guess sound seem work still answer alexa echo comput not like',\n",
       " 'love echo good music sound play alexa understand command difficult time find specif playlist song spotifi good amazon music lack major program',\n",
       " 'love alexa use play music play radio itun play podcast anypod set remind listen flash brief news weather everi morn reli custom list like abl voic control volum sure continu find new use sometim bit frustrat alexa understand say',\n",
       " 'set day still ad smart home devic speaker great play music like size station kitchen counter not intrus look',\n",
       " 'love play sleep sound immedi ask',\n",
       " 'got second unit bedroom expect sound improv didnt realli see differ overal not big improv st gener',\n",
       " 'amaz product',\n",
       " 'love echo easi oper load fun everyth advertis use mainli play favorit tune test alexa knowledg',\n",
       " 'sound great love',\n",
       " 'fun item play get use use sometim hard time answer question ask think better',\n",
       " 'like one',\n",
       " 'still learn capabl far pretti pretti pretti good',\n",
       " 'like',\n",
       " 'work well need learn command uniqu owner user like alexa learn tasha birthday alexa learn definit fine etc great',\n",
       " 'speaker sound pretti good small setup pretti easi bought two reason rate follow instruct synch music unit know done correctli sync primari motiv purchas multipl unit',\n",
       " 'devic awesom',\n",
       " 'bought compar speaker qualiti first gener speaker like sound better ship daughter though like fact first gener chargeabl base bought keep mobil need better sound',\n",
       " 'love echo still learn thing abl follow instruct includ packag found great one u tube',\n",
       " 'speaker better st gener echo',\n",
       " 'thing way cool get one want cool',\n",
       " 'first digit assist give good review speaker realli good cheap price prime day fun play use alarm clock go get first place end echo go one definit tri like best number devic connect purchas came smart plug connect lamp alexa turn light',\n",
       " 'husband like abl use listen music wish knew capabl',\n",
       " 'android would not allow alexa connect fortun sister appl cell hour tech support fix glitch run',\n",
       " 'far good',\n",
       " 'tri play certain broadway show like camelot give ne group camelot',\n",
       " 'great',\n",
       " 'satisfi echo alexa control light famili room wife listen jimmi buffet ask alexa',\n",
       " 'like siri fact siri answer accur alexa see real need household though good bargain prime day deal',\n",
       " 'love echo still learn everi thing work ton fun',\n",
       " 'love much',\n",
       " 'differ appl play specif list music must amazon spotifi plu prime etc account must pay play music star reason everyth els',\n",
       " 'excelent lo unico es que esta en espa ol',\n",
       " 'still learn use far echo great sound actual much better expect',\n",
       " 'work expect also good sound qualiti consid price sale featur',\n",
       " 'sound echo nd gener phenomen not mention love alexa help',\n",
       " 'like googl better',\n",
       " 'let play learn get',\n",
       " 'work advertis easi setup still learn',\n",
       " 'great sound easi set',\n",
       " 'love alexa bought other friend',\n",
       " 'love echo purchas compani husband alexa great say name tell joke play favorit song',\n",
       " '',\n",
       " 'love abl listen music easili still learn featur avail',\n",
       " 'realli know could use devic use thing need overview',\n",
       " 'love wish built hub',\n",
       " 'use primarili play music work wonder still get use mani thing amazon sent sever tip sinc got thank help',\n",
       " 'easi set',\n",
       " 'fast respons amaz clear concis answer sound qualiti fantast still get use alexia not usd echo full extent',\n",
       " 'need na na nana',\n",
       " 'everyth expect',\n",
       " 'love echo work like said would smart home cannot speak function everyth els good',\n",
       " 'great sound small packag easi set use fun',\n",
       " 'work sound great',\n",
       " 'sound amaz mani collect music',\n",
       " 'set',\n",
       " 'alway listen',\n",
       " 'awesom',\n",
       " 'bought control fio televis work well hope time control fio discov thing alexa play music ask great sound alexa play game play radio station play old time radio program like long ranger alexa mani app add abil day play madlib great fun also alexa control household applianc purchas alexa compat power strip control light fan tv compon look forward implement control also add alexa compon chosen music play room compon locat',\n",
       " 'speaker excel sound work perfectli',\n",
       " 'like',\n",
       " 'love everyth',\n",
       " 'littl nervou receiv new echo not realli tech savvi found bit intimid first take long figur happi purchas think ad echo spot',\n",
       " 'like still learn use',\n",
       " 'great technolog believ speaker volum qualiti wonder wish bought anoth one',\n",
       " 'purchas echo dot husband father day use constantli hear qualiti sound echo nd gener brainer best gift ever',\n",
       " 'work fine',\n",
       " '',\n",
       " 'clear music',\n",
       " 'fun use good sound qualiti',\n",
       " 'echo work well abl sync amazon music devic',\n",
       " 'work great think amazon charg anoth cent unlimit music prime buy echo',\n",
       " 'alreadi echo dot echo even better fuller sound also setup let phone call made contact list great',\n",
       " 'speaker sound realli good',\n",
       " 'good sound work well',\n",
       " 'love alexa not savvi support help patient',\n",
       " 'love think get one prime day discount offer could not pass fun ask alexa play song group come playlist amazon prime music also connect iphon bluetooth play music pandora youtub video use alexa speaker fun ask alexa differ type question inform like weather news even time countri downsid limit data wifi plan alexa use burn play music',\n",
       " 'like far lot tri yet',\n",
       " 'love use strictli music great',\n",
       " 'love echo love size materi speaker qualiti hook one light easili work addit light thermostat next echo dot bedroom lot echo think traffic weather trivia etc',\n",
       " 'love',\n",
       " 'entir famili love alexa echo part famili',\n",
       " 'great fun get know function product wow famili fun homework help talk grandchildren also echo huge bonu wait learn',\n",
       " 'love',\n",
       " 'awesom thing love alexa',\n",
       " 'work exactli expect speaker great sound perfect classroom',\n",
       " 'love love new littl gadget made live much easier like person secretari live home hardli need cd anymor sinc alexa play everyth need go get alexa dot soon room thank',\n",
       " 'speaker surpris qualiti happi purchas',\n",
       " 'easi set work wonder love',\n",
       " 'realli impress sound qualiti play music devic bass sound almost like come bigger speaker prop amazon',\n",
       " 'still great product sound qualiti seem wors get wrong definit get use within hour definit feel like echo gen sound qualiti better besid great addit abl play bluetooth wifi even better',\n",
       " 'outlet not work disappoint',\n",
       " 'great devic respons help',\n",
       " 'sound terribl u want good music get bose',\n",
       " 'like sound troubl paid extra money access million song sometim work ex alexa play italian song understand play opera tosca respons sorri',\n",
       " 'easi set use bad plug would nice take outsid oper batteri recharg',\n",
       " 'still learn way use real hit grandkid ask play music danc yr cute',\n",
       " 'star gener like product great ask like play music set timer make call reason rate sometim connect die echo stop play music show red ring seem connect issu overal great product',\n",
       " 'work great upgrad echo dot full size echo happier',\n",
       " 'alexa els say',\n",
       " 'upgrad lilttl echo dot happi sound',\n",
       " 'excel product set eas well',\n",
       " 'first gen echo sinc first came work well purchas nd gen prime day far happi seem improv speaker provid enhanc sound music',\n",
       " 'love echo smart speaker love volum clariti easi set wonder gift age',\n",
       " 'wonder product fast deliveri',\n",
       " 'initi harder set call tech knowledg work great',\n",
       " 'easi set famili love',\n",
       " 'great sound respons voic command',\n",
       " 'live long without echo get enjoy music style ask alexa go gread wireless love echo love alexa',\n",
       " 'cool product speaker sound good spotifi blast',\n",
       " 'much fun alexa love abl listen music across room busi someth els',\n",
       " 'far seem nice item pick voic understand without problem day ask turn music next room heard fine use listen music check weather done thing well',\n",
       " 'love echo',\n",
       " 'love help use rememb thing sleep ask anyth week still learn',\n",
       " 'better st gen everi way except one realli miss ring top volum control quicker easier grab top twist without look button find one press time also wish bass bit better great devic happi',\n",
       " 'love alexa',\n",
       " 'far like',\n",
       " 'thoroughli enjoy ecoo love read audiobook offic simpli open audiobook kindl continu elsewher wonder listen music not mood book great set remind much',\n",
       " 'still love',\n",
       " 'love',\n",
       " 'love sound qualiti unit clear sound',\n",
       " 'listen talk radio morn turn light etc system excel job full hous sound system stream siriu',\n",
       " 'week still learn alexa learn process love music call time listen podcast radio station start keep shop list groceri list love search paper pencil get time temperatur great not wait weather report sound good not fussi woofer tweeter base etc echo fine afternoon go tri drop son get home go surpris',\n",
       " 'not much featur',\n",
       " 'great sound qualiti great featur great product multi room music cool',\n",
       " 'cool',\n",
       " 'everyon echo two three bought echo qvc',\n",
       " 'annoy everyth show alexa abl download spend much time tri figur phrase machin may well look',\n",
       " 'alexa sinc begin accident spill water replac nd gener decid without echo setup easi work within minut',\n",
       " 'like abl tell alexia music want hear sometim troubl find song not specif titl',\n",
       " 'like look better origin echo move old echo basement famili room nice sound',\n",
       " 'echo wonder still learn use music request somewhat limit',\n",
       " 'know half thing ask recogn sprinkler wifi control even though product detail say compat program chang wifi thermostat set match wifi router handi music player amazon music',\n",
       " 'love',\n",
       " 'awesom understand kid',\n",
       " 'pleasantli surpris sound qualiti mani featur nice easili hear particular artist hear book simpl command look forward explor option devic',\n",
       " 'met exceed expect easi set realli quick respons',\n",
       " 'like fact get kind music prime want request alexa like inform photo littl pamphlet wish includ connect tv etc command alexa realli love music',\n",
       " 'not found way access echo thorough prime account think part top line video music etc also think setup app defin exampl music like not well integr echo tri ask playlist echo not sure even though set play list set also not like fact word exact match playlist name never rememb like readi natur echo respond queri',\n",
       " 'great item ad audibl book make even better thank',\n",
       " 'prime day nd gen echo sale resist begin smart home set happier say alexa done amaz job connect smart devic thank control light smart plug tv etc troubl connect echo wifi phone app work perfectli fine let add skill routin smart devic timer much sound qualiti good enough sinc not audiophil alexa hear voic even watch movi high volum design great modern definit add nice touch home chang cover like sale overal great addit home enabl mani possibl yet sure add alexa home',\n",
       " 'versatil fun',\n",
       " 'work great killer speaker wife son love',\n",
       " 'regret wait long purchas item surpris pleas sound qualiti',\n",
       " 'stop work week follow command realli fun work',\n",
       " 'far love work get thing set love groceri list app',\n",
       " 'perform pretti much expect disappoint not provid terminolog need play variou kind music without subscrib amazon music servic understand music choic may limit without know ask cannot access music provid free along echo purchas chart show languag need use',\n",
       " 'easi set',\n",
       " 'like product except speaker not high qualiti expect',\n",
       " 'great invest alexa help made laugh',\n",
       " 'yet anoth exho home love',\n",
       " 'love plan gender music big band jazz not easi find local radio sound good stop voic command get phone call',\n",
       " 'good valu',\n",
       " 'super easi set love new echo',\n",
       " 'what not like speaker ask alexa',\n",
       " 'best father day gift dad joke mom alexa one listen repeat stori go forward',\n",
       " 'great addit breakfast room kitchen tune inform instantli avail slowli learn featur',\n",
       " 'sound qualiti',\n",
       " 'sad joke worthless',\n",
       " 'entertain',\n",
       " 'good qualiti',\n",
       " 'work great sound great not miss beat wish batteri better portabl',\n",
       " 'love till someon stole afford replac yet go',\n",
       " 'alexa rock',\n",
       " 'got gift love never would bought one allow play music amozon prime music worth also give new brief tell joke',\n",
       " '',\n",
       " 'mom bought echo dot repeat ask take one great told two day made take hour later could not live life without amaz four larg speaker small echo dot return say go order alexa speaker go big get echo otherwis tou return two echo dot live without',\n",
       " 'love great product',\n",
       " 'easi set user friendli',\n",
       " 'realli disappoint alexa plug wall socket time fault not check made assumpt compani technolog advanc amazon would sell product recharg batteri could return would appl music boom speaker give flexibl alexa',\n",
       " 'think nd gen sound good st aux could add extern speaker go get dot nd issu uniqu unit understand overrid default prevent play blue tooth speaker play group get delay use bt speaker unit not heard abl play group use bt speaker',\n",
       " 'everyth',\n",
       " 'like interact ask question like ask setup schedul connect lamp',\n",
       " 'supberb sound definit worth extra money listen lot music',\n",
       " 'realli love amazon echo think sound qualiti great lot fun realli handi music get updat weather sport',\n",
       " 'love grandkid',\n",
       " 'far work well not alway intuit link differ devic skill get hang',\n",
       " 'work advertis',\n",
       " 'love',\n",
       " 'love new addit hous speaker qualiti great love alexa two not complaint suggest futur seri would better commun abil exampl smart light hous unless specifi kitchen light kitchen light prior command either respond say recogn may want alexa respond say thank afterward repeat alexa thank time respond husband know sound odd laugh mayb southern thing want alexa manner',\n",
       " 'like everyth music trivia game weather',\n",
       " 'describ receiv time not like automat enrol music',\n",
       " 'great devic',\n",
       " 'own echo overa year new lack easi way increas decreas volum without tell increas decreas volum hard wife sinc english second languag born korea sound echo superb keep',\n",
       " 'love kitchen work well',\n",
       " 'nice impress wish say though',\n",
       " 'love product nice easi access much info',\n",
       " 'got great sound bass work time still hot miss recogn thing',\n",
       " 'still discov echo',\n",
       " 'amaz paroduct',\n",
       " 'good hear rang sound qualiti bit complic set quit understand lot even speak slowli clearli love flash brief featur interfac abod home secur system',\n",
       " 'speaker sound good',\n",
       " 'absolut love',\n",
       " 'best part product control thermostat light hous anyth dislik',\n",
       " 'thoroughli enjoy amazon echo instal easi use alexa app purchas kasa smart plug control live room light instal easi use kasa app sinqu right echo enjoy play music echo sound qualiti awesom ad kasa smart bulb kitchen setup seamless look forward ad autom home',\n",
       " 'home entertain',\n",
       " 'cool product easi setup fun use sound qualiti much better anticip',\n",
       " 'love great sound easi connect use',\n",
       " 'work fairli new smart tv mainli tv manufactur lg fault due not support anyth older tv year smart lock also need addit piec equip order connect well speaker sound great work well',\n",
       " 'great sound littl speaker',\n",
       " 'enjoy',\n",
       " '',\n",
       " 'cool',\n",
       " 'good qualiti great sound qualiti',\n",
       " 'work perfectli',\n",
       " 'great product sometim alexa not understand command fire tv fabul speaker',\n",
       " 'love echo great sound smart',\n",
       " 'sure love',\n",
       " 'play great',\n",
       " 'work absolut great',\n",
       " 'amaz product great sound qualiti',\n",
       " 'best thing invest thank much',\n",
       " 'extrem impress item bought warehous outlet minor imperfect tell even one work great come packag seal damag miss anyth like sound qualiti see knock not bose great famili easi use minor learn curv learn voic integr seamlessli amazon servic wait get classroom lot fun even speaker let alon plan',\n",
       " 'love echo show bedroom wonder music info sleep sound',\n",
       " 'awesom life changer serious abl start morn alexa wake alarm play music gotten use voic anoth room listen say love echo hesit get one price speaker unbeliev buy cordless holder take echo anywher love purchas love alexa',\n",
       " 'not super impress alexa prime laps play anyth smart enough differenti among spotifi account use either randomli speak nobodi talk today unplug not sure ever use alexa',\n",
       " 'like everyth',\n",
       " 'like',\n",
       " 'never issu buy use electron long get good like new read comment see use',\n",
       " 'famili realli love new echo',\n",
       " 'bought wife love',\n",
       " 'fun got today pod go car use hous',\n",
       " 'like',\n",
       " 'third echo worth everi penni like household employe small flat rate keep bedroom live room drop use intercom listen music answer quick question alarm wake school etc',\n",
       " 'listen music set timer',\n",
       " 'receiv echo perfect condit devic easi set respond quickli without issu alexa great addit famili',\n",
       " 'good sound like music schedul like get random thought record think joke cute',\n",
       " 'purchas begin learn far pleas amaz differ action perform enjoy look forward learn option provid',\n",
       " 'echo great other even though smaller',\n",
       " 'funni buy someth look fun wind total use part home love',\n",
       " 'bought replac dot live room speaker slightli better hear better tv unfortun understand respond request well dot frequent request time get want dot usual exactli want first request consid upgrad',\n",
       " 'good experi far second gener echo mani thing learn not time yet right mostli enjoy music weather updat use alarm featur person also purchas mini smart socket ye excit begin use',\n",
       " 'troubl connect tv not exactli tech smart sure one grandson figur far use mostli music',\n",
       " 'simpli love echo hardli watch tv anymor busi listen music speaker pretti goo size fun skill realli make echo fun whole famili',\n",
       " 'enjoy entir echo experi',\n",
       " 'easi set',\n",
       " 'echo amaz devic mani time seem intuit time ask someth seem clear simpl get result instal fairli straightforward mess sever time simpli thought step complet actual made lose ground figur advic patient app let know move next step biggest issu moment sever echo devic home would like use intercom told done howev make echo awar other exist ask alexa answer instruct chang name know like fault would think design would anticip make easier find need instruct small deal mani devic savvi peopl challeng',\n",
       " 'love much',\n",
       " 'origin alexa tap far nd gener best happi see make improv new one would great updat littl think would help lot bug happi play music throughout whole hous adjust bass trebl thank',\n",
       " 'pleas echo nd gener nice alexa avail music weather news probabl lot discov',\n",
       " 'pleasantli surpris sound qualiti echo big fan deep bass might not suffici though potenti control home option explor evolv home smart home voic recognit impress stylish fun regret purchas great technic chang peopl ask play song movi respond instantli elderli love one would great gift connect wifi simpl use want unlimit music control sure amazon prime premium spotifi blown away person dj even convers echo not embarrass say echo made laugh coupl time ask tell joke tell packag sinc amazon prime addict come extrem handi',\n",
       " 'easi setup love thing',\n",
       " 'alexa throughout hous futur arriv',\n",
       " 'alreadi alexa amazon find today could not resist get echo also best thing ever use side hous happier',\n",
       " 'arriv expect',\n",
       " 'bought week ago everyth product excel forget buy charger order must take outsid pool not worri hire electrician put outlet yard',\n",
       " 'terrif',\n",
       " 'love echo',\n",
       " 'smaller origin look nicer',\n",
       " 'work great',\n",
       " 'husband would call late adopt come technolog decid would tri echo serv primarili music sourc wow amaz great sound also great time listen favorit song buy ask alexa may even buy one elderli dad think enjoy one listen music even place call us',\n",
       " 'realli enjoy chang directv channel play iheartradio pandora adjust ac thermostat turn live room light outsid light',\n",
       " 'want one bought prime day absolut love',\n",
       " 'glad got echo bluetooth speaker alexa much stuff non smart speaker person love timer featur help cook multipl thing simultan pandora integr anoth featur use daili happi prime day purchas get echo hub echo dot futur',\n",
       " 'see subject line love',\n",
       " 'love',\n",
       " 'easi setup',\n",
       " 'hesit buy echo echo dot seem good enough echo except sound qualiti realli feel need howev glad got differ sound realli far superior echo dot listen greatest showman littl power',\n",
       " 'sound qualiti great still learn differ thing fun',\n",
       " 'got good deal work great prime setup bit pain fault crappi internet servic work great nice sound small speaker',\n",
       " 'love',\n",
       " 'work great perfect offic',\n",
       " 'love one insid hous one pool good bose speaker around hous',\n",
       " 'easi use amaz',\n",
       " 'nice product',\n",
       " 'love echo total amaz speaker qualiti bum buy two sinc got prime day',\n",
       " 'respons great sound qualiti size',\n",
       " 'effici amaz cool use often everi day',\n",
       " 'impress qualiti sound echo definit compar bose mini gave star use appl music account',\n",
       " 'technolog small devic price good sound amaz must featur home',\n",
       " 'mainli use music learn time realli noth bad say',\n",
       " 'replac st gen concern smaller unit not sound wrong anyth volum clear good product',\n",
       " 'great addit echo plu',\n",
       " 'best',\n",
       " 'love featur play music everi room multipl echo',\n",
       " 'love alexa surpris much use',\n",
       " 'use product enjoy love',\n",
       " 'easi use great sound great purchas great price',\n",
       " 'easi set issu',\n",
       " 'unit add much pleasur echo plu music inform home one room',\n",
       " 'extrem use simpl thing like spotifi audibl thing like sometim answer everyth ask still nice use',\n",
       " 'difficult set keep time enter password',\n",
       " 'get use use echo use shop list listen music timer work great far',\n",
       " 'cool lot fun use week still learn capabl',\n",
       " 'love love',\n",
       " 'love hard time set app',\n",
       " 'use offic anoth apart music inform',\n",
       " 'great music littl hard figur work',\n",
       " 'given year time birthday gift dad love ask alexa anyth answer plu good homework purchas one prime day bathroom get readi work listen music base metro boom replac clock radio plu echo dot night stand alarm clock',\n",
       " 'impress look clariti sound color',\n",
       " 'alexa amaz great speaker',\n",
       " 'still get use alexa connect tv yet thing right use music inform great',\n",
       " 'work sound great hous bare sf sit kitchen counter hear speak room lot function still discov',\n",
       " 'pure fun echo weather joke news brief music still much use lot fun money',\n",
       " 'use time especi commun kid throughout home',\n",
       " 'love still learn make lot thing easier like forget turn light anoth room ask alexa turn light',\n",
       " 'bought daughter turn love especi like call featur sinc cell phone love play music danc amazon music play favorit song sometim lol',\n",
       " 'got wed gift discov featur yet updat play music great though',\n",
       " 'impress sound qualiti',\n",
       " 'pleas purchas echo smart speaker love fact play music differ genr whenev want troubl first wi fi work',\n",
       " 'wife enjoy eas play music game fun entertain look forward ad smart product home',\n",
       " 'second echo love help kitchen set timer listen news prepar groceri list get great music',\n",
       " 'sound qualiti good wish alexa could answer question',\n",
       " 'second echo dot speaker weak purchas listen music speaker great',\n",
       " 'great sound',\n",
       " 'great',\n",
       " 'realli use speaker stream music month kinda useless',\n",
       " 'set user friendli set user friendli hope alexa app abl download pc without instal invas driver wife retir abl instal alexa son suppli smart phone use alexa yet',\n",
       " 'easi set realli enjoy',\n",
       " 'echo come built batteri plug time use make quit inconveni',\n",
       " 'compact bit better origin',\n",
       " 'love pretti cool',\n",
       " 'live room music sound realli good live room hear upstair',\n",
       " 'great product set easi sound wonder',\n",
       " 'far like bought music though sound pretti good',\n",
       " 'love',\n",
       " 'love',\n",
       " 'glad bought',\n",
       " 'like type fun music',\n",
       " 'like volum top turn quickli',\n",
       " 'beyond capabl program grandkid lve',\n",
       " 'love new echo give hour music help thing difficult set help tekki',\n",
       " 'almost good bose love whole hous music',\n",
       " 'alexa hardli came',\n",
       " 'easi setup use app also easi instal phone sound qualiti listen music pandora wonder',\n",
       " 'still learn use echo far love',\n",
       " 'work awesom',\n",
       " 'work great',\n",
       " 'small speaker sound great',\n",
       " 'great sound size prize cours alexa',\n",
       " 'echo definit need one',\n",
       " 'great devic seem work better st gener',\n",
       " 'item longer work month use not connect wifi unrespons reset request',\n",
       " 'love echo dot easi fun get drop grandaught live mile away sound like right next',\n",
       " 'work great differ new one',\n",
       " 'one go kitchen timer music duti',\n",
       " 'love volum could definit use boost better built speaker would definit star thought ahead put audio auxiliari input bought dedic speaker echo prove best way go',\n",
       " 'work fine',\n",
       " 'work great look brand new love new echo dot get main room hous',\n",
       " 'refurbish item work like new love easi set love issu volum listen relax fine expect anyth els recommend purchas speaker',\n",
       " 'not loud',\n",
       " 'nd one love',\n",
       " 'not sure feel echo dot mani thing need get use ask right question understand',\n",
       " 'thing bare work select rd parti app stuff think could box send mine back asap wast money',\n",
       " 'gift man like plug pictur not show cord would prefer cordless still work though purpos bought',\n",
       " 'th amazon echo devic purchas refurbish satisfi time differ tell brand new price cheaper echo wake us keep timer play music us act encyclopedia turn light much',\n",
       " 'small echo dot amaz sound come great chang nest thermostat phillip hue light without leav chair',\n",
       " 'talk time song dislik devic',\n",
       " 'never disappoint amazon technolog',\n",
       " 'work promis',\n",
       " 'return echo dot get refund return one packag want refund packag not see',\n",
       " 'not work',\n",
       " 'weird paus speech pattern not present echo devic',\n",
       " 'sure love alexa lol thank great price product',\n",
       " 'work',\n",
       " 'echo fan one not work',\n",
       " '',\n",
       " 'bought bathroom listen shower love',\n",
       " 'alway respond spoken promp word thought would connect echo upstair use like intercom abl',\n",
       " 'fast ship work well',\n",
       " 'love',\n",
       " 'love love love new free assist',\n",
       " 'six word alexa tell poop joke',\n",
       " 'work month stop tri everyth tri make work noth work want refund',\n",
       " 'poor qualiti gave away',\n",
       " 'refurbish way go echo work like new',\n",
       " 'love',\n",
       " 'five need say',\n",
       " 'speaker arent loud alexa great though besid naw',\n",
       " 'work great sound good',\n",
       " 'never could get work techi friend look said adapt strong enough power look like bought dollar store go replac adapt hope work',\n",
       " 'almost like star trek home fun tri outsmart',\n",
       " 'add echo system refurbish product work like new',\n",
       " 'great offic use daili mani way includ spell background music',\n",
       " 'awesom love alexa',\n",
       " 'sure realli want one extrem use get one love',\n",
       " 'initi echo dot work well time dot stop respond alexa unless within one foot yell echo echo dot room would respond without respons echo dot would not recommend buy refurbish',\n",
       " 'great product fast ship',\n",
       " 'bought echo dot refurbish stop whatev function perform quit often wake everi time randomli turn noth not buy refurbish echo dot',\n",
       " 'perfect work great problem refurbish',\n",
       " 'dont trust',\n",
       " 'perfect condit love echo',\n",
       " 'love beauti experi especi hook smart light accessori',\n",
       " 'got within last coupl week tell issu son want alexa th birthday could tell joke could ask question listen music enjoy one much bought second one week prime deal day',\n",
       " 'divertido',\n",
       " 'great product work great',\n",
       " 'bought guest room radio alarm clock inform center much',\n",
       " 'great buy bought go echo love speaker best music work great kitchen timer alarm',\n",
       " '',\n",
       " 'work perfect save buck buy refurbish look brand new',\n",
       " 'look work perfect glad got good deal',\n",
       " 'good new one bought less',\n",
       " 'love work well',\n",
       " 'everyth perfect',\n",
       " 'good price prompt ship work flawlessli',\n",
       " 'love alexa',\n",
       " 'room improv price cannot complain much still complain howev audio terribl kind like listen speak n spell',\n",
       " 'iov bought son want awesom',\n",
       " 'echo work price great deal issu dot speaker bit tinni good second unit like attach extern speaker sound good buy',\n",
       " 'thank',\n",
       " 'want use radio intercom get terribl fm recept live speech recognit softwar horribl wife nativ american whose languag english north texa neither accent birth area yet not good job understand us bought two thing addit wifi recept poor margin buy wifi rang extend offic ten feet router problem switch around differ disconnect dust collector',\n",
       " 'third dot work perfectli use one multipl time day absolut love',\n",
       " 'item never work box broken spent sever day tri get work run fix amazon thing accomplish never order anoth refurbish devic',\n",
       " 'alreadi echo plu bought one bedroom love function',\n",
       " 'simpl set music everywher',\n",
       " 'work like brand new dot satisfi',\n",
       " 'great product return new alexa dot refurbish alreadi give problem connect',\n",
       " 'echo alreadi went one refurbish save buck work great love new gener one rubber bottom nice',\n",
       " 'love fact unplug take basement want laundri',\n",
       " 'refurbish good new one bought',\n",
       " 'good new',\n",
       " 'granddaught love',\n",
       " 'price great troubl hear across room move anoth spot seem work fine buy want everi room',\n",
       " 'set alexa blue tooth speaker enjoy listen music outdoor wait tri new stuff use alexa',\n",
       " 'thank',\n",
       " 'work great',\n",
       " 'never buy certifi refurbish echo dot bought certifi refurbish echo dot unit poor receiv command sometim not even acknowledg command never buy refurbish echo dot unit receiv probabl never certifi refurbish indic also bought new echo dot work perfectli disappoint',\n",
       " 'start amazon productsand regret noth absolut great journey product continu improv day day life',\n",
       " 'use sever month without problem',\n",
       " 'first smart devic sure buy devic compat one',\n",
       " 'love',\n",
       " 'love good new one',\n",
       " 'larger echo time love bought one anoth portion hous sinc sever wifi home devic want voic control hous',\n",
       " 'love product use turn light answer quick question',\n",
       " 'great buy',\n",
       " 'leari refurbish work great',\n",
       " 'puni sound work great',\n",
       " 'great',\n",
       " 'exactli like new tell differ new dot got prior one work perfectli love alexa',\n",
       " 'work perfect wear tear devic love alexa work make home smart',\n",
       " 'work good',\n",
       " 'thing like shut work great',\n",
       " 'excel product mint condit refurbish unit would never know refurbish',\n",
       " 'alreadi own coupl echo frustrat also use intercom final amazon enabl drop featur use echo reach famili remot part hous teenag insist never heard yell come dinner featur mainli use echo standard stuff play music set alarm answer question etc not life chang home devic amazon would believ conveni around refurb save buck look work brand new one',\n",
       " 'love worri refurbish part first first echo awesom use everyth light sinc work night shop well spotifi plan get parent help everyday thing take grant young would recommend everyon',\n",
       " 'love alexa hope everi room soon',\n",
       " 'simplic use set',\n",
       " 'great got one gazebo one upstair',\n",
       " 'work great never issu',\n",
       " 'everyth ask',\n",
       " 'work great good sound',\n",
       " 'use echo listen music well sort research tool answer varieti question would like volum could go littl bit louder complain also believ intern power sourc order use echo must plug time use univers charg cord would nice use echo dot go without buy product',\n",
       " 'love great fun',\n",
       " 'love',\n",
       " 'outstand use time work like say',\n",
       " 'save alway nice son alway say buy refurbish mean get new devic product less run diagnost everyth correct',\n",
       " 'work perfectli alexa turn light tv roomba',\n",
       " 'never would know refurbish',\n",
       " 'far good',\n",
       " 'look perform new complaint',\n",
       " 'goe great echo',\n",
       " 'work great like new one alreadi',\n",
       " 'item not work certifi refurbish mean work advertis instead item crash soon turn plug tri connect phone echo dot crash not would disconnect orang light would freez thing would reboot blue light alexa would tell readi connect freez mid sentenc tri hold action button second anyth return immedi hope actual fix item next buyer purchas',\n",
       " 'fast servic got order thank',\n",
       " 'love even though still tri figur thing item work great phone',\n",
       " '',\n",
       " 'echo one bought brand new refurbish one honestli tell differ perform look',\n",
       " 'great product learn work thing awesom',\n",
       " 'work',\n",
       " 'not work time',\n",
       " 'love though wish portabl',\n",
       " 'cours',\n",
       " 'could not tell refurbish work excel would highli recommend instead purchas new',\n",
       " 'got mom love',\n",
       " 'love echo dot look brand new work perfect satisfi',\n",
       " 'new',\n",
       " 'small problem box rep amazon call walk reset process solv issu shock get respons quickli real effort made includ follow email get thing work one googl clone use learn like also plan instal one car boat garag alexa new best friend lol think gf worri alexa learn cook time limit',\n",
       " 'love alexa dot play game son ask weather love work amazon fire tv',\n",
       " 'like could ask differ question differ thing work intermitt smart tv ask chang volum sometim ask chang channel sometim reset know refurbish okay not expect',\n",
       " 'far certifi refurbish echo dot work well littl confus green ring echo dot not know ask alexa said receiv call drop not case took minut figur notif deliveri amazon believ ring suppos yellow pulsat messag notif refurbish echo dot green puls',\n",
       " 'arriv quickli easi set refurbish amazon echo dot beyond expect alexa becom buddi great assist',\n",
       " 'work advertis speak clearli research command also get wall holder keep way set breez make sure close devic initi connect phone reason made set easier though could psycholog haha',\n",
       " 'love two echo dot third one order give gift defect speaker return process still done alreadi taken week',\n",
       " 'alreadi return',\n",
       " 'refurbish echo wonder purchas mother love abil contact without phone listen music weather ask question wonder gift work excel problem',\n",
       " 'work good howev price went week purchas',\n",
       " 'work amazingli bought daughter love',\n",
       " 'love alexa great help make appoint play song like els look forward',\n",
       " 'got bathroom love listen music whe shower',\n",
       " 'dot origin new one work perfectli buy futur dot recondit',\n",
       " 'littl hard get pare other problem',\n",
       " 'weari pick convers not activ use heard happen news concern wish amazon would releas someth widespread push firmwar prevent not heard yet',\n",
       " 'realli dislik alexa dot thought cortna cool alexa awesom applic famili unbeliev devic seem aliv must get',\n",
       " 'happi refurbish echo dot two week far work perfectli even though not come origin box look like new happi purchas',\n",
       " 'thumb',\n",
       " 'workreat',\n",
       " 'someth wrong first one even rep spoke could fix replac regist someon els price dot went price refurbish one bought brand spank new one problem new one',\n",
       " 'work expect',\n",
       " 'problem',\n",
       " 'almost everi room realli enjoy work perfectli',\n",
       " 'purchas grandson',\n",
       " 'like new',\n",
       " 'happi order',\n",
       " 'love dot especi abil talk one realli conveni issu refurbish like new',\n",
       " 'start take use sinc unplug day one talk daughter lay bed next start go movi moana complet scare sh daughter',\n",
       " 'work great speaker sound fine overal would recommend',\n",
       " 'great like new',\n",
       " 'love price essenti brand new dot open realli tell refurbish everyth look brand new less new unit consid better deal realli love versatil echo dot get one',\n",
       " 'pleas order want',\n",
       " 'think throughout hous conveni set timer check weather whatev wherev',\n",
       " 'love best experi refurbish devic excel',\n",
       " 'love echo dot',\n",
       " 'refurbish item fine awar fee echo set room howev miss cordthank',\n",
       " 'two week set longer work connect light sound guess purchas refurbish dot',\n",
       " 'work like brandnew unit great addit collect',\n",
       " 'great price work perfectli save money refurb would buy',\n",
       " '',\n",
       " 'god',\n",
       " 'not good',\n",
       " 'great bought one bought anoth right away grab smart switch set smart home capabl highli recommend',\n",
       " 'like new',\n",
       " 'work still need figur link devic though set sono pretti easi not product fault not time figur',\n",
       " 'use',\n",
       " 'worst amazon purchas made big amazon fan love brand unlimit digit music prime video even buy onlin game music movi amazon app tri use make simpl purchas anyth useless',\n",
       " 'work well microphon pick well full size echo audio qualiti okay size',\n",
       " 'bought two refurbish one work home work perfectli appear brand new',\n",
       " 'amazon disappoint',\n",
       " 'work great bt receiv output connect vintag stereo equip',\n",
       " 'work great far tell not new edit longev year real test',\n",
       " 'amaz',\n",
       " 'love everyth',\n",
       " 'use dot work fine compliment echo',\n",
       " 'work like new one tell differ new one bough refurbish one',\n",
       " 'well big fan echo one went bathroom work great expect',\n",
       " 'purchas year old mother love talk alexa respons detect name room',\n",
       " 'like new perform brand new one problem',\n",
       " 'echo dot disconnect speaker time day not buy refurbish product star effort',\n",
       " 'love great product',\n",
       " 'work good satisfi',\n",
       " 'love alexa sound dot not best echo nd gen kitchen live room got bedroom signific differ sound dot lack full base sound sound come cheap portabl speaker realli disappoint return right away shell money buy second echo bedroom also',\n",
       " 'took awhil get connect not electron savi love',\n",
       " 'cant seem get thing sink wireless not sure return tri one time',\n",
       " 'absolut love',\n",
       " 'product stop work return time ran',\n",
       " 'second dot work great refurbishedthought new',\n",
       " 'love guy work great',\n",
       " 'love second alexa bedroom great check weather medit music timer perfect husband use eye drop multipl time day keep eye close minut',\n",
       " 'purchas refurbish work like brand new minut set easi echo dot command start play music backyard deck sound system',\n",
       " 'not substitut origin echo dot perform well sound qualiti poor listen highest level',\n",
       " 'love echo dot help husband get netflix app amazon fire tv problem refurbish plan get anoth one amazon fire stick bedroom',\n",
       " 'stop work month warranti good month would assum amazon product sold amazon would higher standard guarante would work whole month mean product suppos piec junk offer discount want buy anoth one would want buy anoth one',\n",
       " 'like new problem whatsoev alexa thank',\n",
       " 'like uncl sometim goe littl haywir',\n",
       " 'bought son work return',\n",
       " 'bought quit connect wifi respond voic within month hard soft reset not fix problem',\n",
       " 'receiv echo dot today good condit advis paid amazon write rais price research buy get good deal set dot went simpl enough plug follow app instruct except initi took actual show iphon wifi set call amazon custom servic dunno late get terribl support guy took call rambl complet unhelp script end set dot middl spiel not sure norm refurbish dot pretti finicki wifi rang randomli disconnect even though app show rang ghz connect strong reconnect pain time well said alexa work work amazingli well speaker hook one thing realli enjoy mic rang sensit one annoy limit appl siri play audio devic speaker music podcast etc hey siri featur useless alexa problem hear whatev play time amazingli fast respons tri louder speaker yet not sure continu hold true set alexa control wireless devic breez albeit limit support arlo devic nil special set led devic eg rainbow effect alexa handl know chang solid color bright level rate would lower not gotten decent price item connect problem persist may exchang return item want though alexa kind grow',\n",
       " 'bought everyon say much love need use volum not loud enough play music treadmil rather use tower speaker xs louder',\n",
       " 'work like new',\n",
       " 'second one refurbish model work least not home',\n",
       " 'bad devic know refurbish activ nobodi talk activ start talk talk yell super laud',\n",
       " 'good new like brand new save money get one',\n",
       " 'ad room conveni',\n",
       " 'nice work good time not easi recogn voic repeat sever time time almost scream',\n",
       " 'took chanc certifi refurbish unit look brand new excus disappoint minut troubl free set effortless bluetooth speaker connect alexa app iphon flawless listen favorit tune bose bluetooth setup happier walk door ask alexa play music viola instant atmospher open ipad go set turn bluetooth access pandora app make thing effortless true joy right box discov use fine piec technolog worth everi penni',\n",
       " 'alexa sister second dot',\n",
       " 'love alexa echo dot two one new one refurbish work great becom go sooo mani thing love alarm everi morn whenev love play music sound ocean natur sound tri sleep love mani thing',\n",
       " 'bought refurb work new one bought prior came origin packag well',\n",
       " 'love like second wife',\n",
       " 'far not impress not save group correctli not understand time not sure excit alexa voic sound like water suppos understand go return tri googl home',\n",
       " 'work well obviou issu refurbish',\n",
       " 'work great tell refurbish set kid mode home ad love thing',\n",
       " 'great product useless overal mani unnecessari featur unless smart home need',\n",
       " 'work good two new echo dot precious purchas',\n",
       " 'bought mother love love guard dog featur say give sens secur night leav hous',\n",
       " 'bought mainli speaker play music video phone not work read instruct not work',\n",
       " 'work',\n",
       " 'bought two work great not much electron run home alexa want need done',\n",
       " 'nd one come',\n",
       " 'blue light blink time',\n",
       " 'fun use still learn new trick use function futur human comput interfac household autom like star trek knew would soon',\n",
       " 'work great control tv light variou devic late use wake know time want open eye shout alexa time could figur get hous hold chore walk dog golden sound not great size expect echo plu much better audio get larger expens echo',\n",
       " 'work great',\n",
       " 'sure like product littl want one everi room daughter constantli ask alexa spell word bare tap thing product capabl look forward learn capabl',\n",
       " '',\n",
       " 'great product work well',\n",
       " 'absolutli love',\n",
       " 'bought first echo dot love got work absolut love',\n",
       " 'work promis',\n",
       " 'work great exist smart home setup',\n",
       " 'perfect could not tell differ new one',\n",
       " 'cant figur use',\n",
       " 'good sometim hear well',\n",
       " 'littl apprehens buy refurbish electron product amazon guarante thought would tri glad probabl buy anoth refurb product form amazon love alexa product sever one sit desk small footprint great sound use daili work great',\n",
       " 'not bad bad speaker sound',\n",
       " 'great devic mainli use verbal add thing shop list occasion use number fun thing program like go red alert make tardi land ye hous geek even chose wake word comput instead alexa need majel barret voic geek heaven not easi get premium spotifi work properli still not sure get multipl music account attach listen differ music differ room far still worth often ask time weather even give us news brief also use intercom system realli awesom plu fun know nsa listen everyth',\n",
       " 'love',\n",
       " 'purchas daughter love amaz love game',\n",
       " 'alway work',\n",
       " 'good new perfectli packag zero issu dot',\n",
       " 'love bought granddaught play music ask question entertain hour good buy honest opinion',\n",
       " 'issu work look great',\n",
       " 'fun toy daughter read',\n",
       " 'refurbish echo dot receiv new condit new packag complaint neat littl gadget drive wife nut',\n",
       " 'receiv echo gift love much decid get dot bedroom easi set big differ sound qualiti would still buy',\n",
       " 'work advertis thank',\n",
       " 'new amazon product great everyth bought refurbish complet garbag never purchas amazon refurbish total dissatisfact',\n",
       " 'work good microphon not good better echo product',\n",
       " 'took littl work set final got sound qualiti not best got work great check weather ask cook question kitchen play radio want music probabl upgrad echo plu better sound',\n",
       " 'love alexa best thing ever bought know ever live thing amaz happi product wish would use googl',\n",
       " 'love work great',\n",
       " 'extrem low volum',\n",
       " 'troubl get program download phone end use comput interest answer come wikipedia howev give echo dot music play depart heard song music total forgotten mainstream station also amus alexa respond know think yard cotton fabric refer footbal play paid full price gadget would sore disappoint seem reason step hal',\n",
       " 'brought replac one move rang previou non refurbish unit would seldom abl find wi fi connect got tire hear messag troubl connect check alexa app unplug went troubleshoot reconnect sever time not strong',\n",
       " 'want listen music come sever echo dot unit simultan must pay monthli fee thought amazon not appl paid mani could one room not enough money',\n",
       " 'purchas gift',\n",
       " 'love',\n",
       " 'overal good devic bought workout room issu reach volum heard standard row machin could use much better speaker',\n",
       " 'work great simpl set alexa way accur imagin im use thought wish alarm could set bit that complaint not listen say wake word worri lose conspiraci theori speaker great hold get one turn gen like',\n",
       " 'voic clariti made eavesdrop effort much easier govern',\n",
       " 'work perfect',\n",
       " 'littl troubl begin replac old router work good except current temperatur time alexa much degre like degre alexa would say degre otherwis everyth work expect enjoy listen music amazon pandora station request favorit song record artist',\n",
       " 'bought three three work flawlessli label refurbish known',\n",
       " 'devic work perfectli good price love alexa great fun music great get radio station need morn traffic report think would enjoy ai hous fun educ entertain even peopl tech savvi',\n",
       " 'eh work half time not respond say wake name work fine',\n",
       " 'great littl thing work better siri',\n",
       " 'amaz love',\n",
       " 'bought son love',\n",
       " 'first second gener echo dot think prefer volum ring first gen better button second gen still job great price got still definit recommend',\n",
       " 'fun use morn brief',\n",
       " 'arriv time work amaz',\n",
       " 'like new set quick easi',\n",
       " 'like new good refurbish',\n",
       " 'love',\n",
       " 'love echo dot',\n",
       " 'like know music type least wireless volum not high',\n",
       " 'great product',\n",
       " 'work great reason leav star wont play unless plug whole time pretti irrit especi outlet avail',\n",
       " 'work great',\n",
       " 'love ita like person assist comput everyth els one',\n",
       " 'problem item could inexperi order wrong thing decid set use alexa tri replac small bluetooth speaker bedroom thought could learn go download app never could get echo sync iphon decid give one kid probabl enjoy use intend',\n",
       " 'es perfecto',\n",
       " 'work good far',\n",
       " 'work great daughter love',\n",
       " 'work great',\n",
       " 'love',\n",
       " 'want white dot white bathroom top black shown knew not realiz cord plug also black want white cord plug',\n",
       " '',\n",
       " 'work great',\n",
       " 'amaz',\n",
       " 'great product',\n",
       " 'work perfectli',\n",
       " 'perfect',\n",
       " 'set echo dot work hour die complet not buy refurbish sent back return day receiv',\n",
       " 'echo dot horribl volum phone louder devic boss one not case',\n",
       " 'overal work well connect issu definit worth money',\n",
       " 'issu refurbish unit perform expect would buy anoth one need',\n",
       " 'great mom insid owlhead jacuzzi',\n",
       " 'work great put son room use drop option get attent game watch tv',\n",
       " 'perfect',\n",
       " 'look brand nrw noth complain defent order',\n",
       " 'ok speaker pretti terribl googl home better product',\n",
       " 'love',\n",
       " 'love answer stupid question tell weather get couch',\n",
       " 'first one quit work shortli got next one becom unrespons voic time way get work app not sure dot way',\n",
       " 'bought go niec room tell refurbish look good work like new',\n",
       " 'devic not work follow instruct alexa echo dot not come upset',\n",
       " 'sent back due crackl nois turn expect refurbish item',\n",
       " 'best price could find use around answer question handi not find phone also intercom system',\n",
       " 'never satisfi product perfect introduct alexa',\n",
       " 'work well speaker not grand get anoth speaker drop futur would gone full size echo',\n",
       " 'love echo thing full size version sound better though',\n",
       " 'work great',\n",
       " 'need life plan time date music',\n",
       " 'seem troubl hear say wake word despit train voic wonder someth buy refurbish googl home mini problem hear us much louder',\n",
       " 'love work perfectli',\n",
       " 'brand new echo dot thought refurbish would good quit differ expect refurbish unit not even turn realiz power adapt faulti way amazon send power adapt accord return option love amazon buy even toilet paper truli let updat amazon contact credit enough buy new power adapt shop amazon alway trust deliv product',\n",
       " 'bought famili member gift call see like said love',\n",
       " 'not loud qualiti eas use great sound perfect background music would suggest connect togeth tri use host louder parti',\n",
       " 'look brand new work great love echo dot refurbish one like new',\n",
       " 'nd one use time',\n",
       " 'work like new one l anoth alexa devic lm fanat',\n",
       " 'echo good',\n",
       " 'work great',\n",
       " 'great price extend rang super valu dot offer hook wireless speaker use work outsid dot made outdoor sound rang possibl without disturb indoor light control possibl',\n",
       " 'amazingli fun daughter ask question first day set daili alarm weekend remind playlist morn show random song daili bibl vers weather morn commut tell way go dodg traffic get one link phone yet',\n",
       " 'work perfect differ refurb one new one hous buy refurb',\n",
       " 'great product wake everi morn time',\n",
       " 'like new differ new unus origin',\n",
       " 'complaint far know exactli like new littl cheaper great',\n",
       " 'perfect condit',\n",
       " 'like new',\n",
       " 'work well new version got discount echo speaker decid purchas version amazon state warranti',\n",
       " 'receiv echo gift need anoth bluetooth someth play music easili access found smart speaker wait see els',\n",
       " 'without cellphon cannot use mani featur ipad not see use great alarm u r almost deaf hear alarm bedroom live room reason enough keep fun ask random question hear respons not seem smartbon polit yet',\n",
       " 'think th one purchas work get one everi room hous realli like featur offer specifili play music echo control light throughout hous',\n",
       " 'look great',\n",
       " 'love listen song heard sinc childhood get news weather inform great',\n",
       " 'sent year old dad talk constantli',\n",
       " 'love learn knew thing eveyday still figur everyth work far easi use understand make laugh time',\n",
       " 'purchas mother knee problem give someth tri come not get around fast like enjoy littl big thing alexa play song time cook',\n",
       " 'love love love',\n",
       " 'expect',\n",
       " 'love wife hate',\n",
       " 'realli happi purchas great speaker easi set',\n",
       " 'use alexa coupl day lot fun new toy like new household member tri learn differ featu benefit come',\n",
       " 'love size nd gener echo still need littl improv sound',\n",
       " 'like origin echo shorter greater fabric color choic miss volum ring top plu minu button not big deal ring w comfort well like use standard usb charger port instead previou round pin guess sound seem work still answer alexa echo comput not like',\n",
       " 'love echo good music sound play alexa understand command difficult time find specif playlist song spotifi good amazon music lack major program',\n",
       " 'love alexa use play music play radio itun play podcast anypod set remind listen flash brief news weather everi morn reli custom list like abl voic control volum sure continu find new use sometim bit frustrat alexa understand say',\n",
       " 'set day still ad smart home devic speaker great play music like size station kitchen counter not intrus look',\n",
       " 'love play sleep sound immedi ask',\n",
       " 'got second unit bedroom expect sound improv didnt realli see differ overal not big improv st gener',\n",
       " 'amaz product',\n",
       " 'love echo easi oper load fun everyth advertis use mainli play favorit tune test alexa knowledg',\n",
       " 'sound great love',\n",
       " 'fun item play get use use sometim hard time answer question ask think better',\n",
       " 'like one',\n",
       " 'still learn capabl far pretti pretti pretti good',\n",
       " 'like',\n",
       " 'work well need learn command uniqu owner user like alexa learn tasha birthday alexa learn definit fine etc great',\n",
       " 'speaker sound pretti good small setup pretti easi bought two reason rate follow instruct synch music unit know done correctli sync primari motiv purchas multipl unit',\n",
       " 'devic awesom',\n",
       " 'bought compar speaker qualiti first gener speaker like sound better ship daughter though like fact first gener chargeabl base bought keep mobil need better sound',\n",
       " 'love echo still learn thing abl follow instruct includ packag found great one u tube',\n",
       " 'speaker better st gener echo',\n",
       " 'thing way cool get one want cool',\n",
       " 'first digit assist give good review speaker realli good cheap price prime day fun play use alarm clock go get first place end echo go one definit tri like best number devic connect purchas came smart plug connect lamp alexa turn light',\n",
       " 'husband like abl use listen music wish knew capabl',\n",
       " 'android would not allow alexa connect fortun sister appl cell hour tech support fix glitch run',\n",
       " 'far good',\n",
       " 'tri play certain broadway show like camelot give ne group camelot',\n",
       " 'great',\n",
       " 'satisfi echo alexa control light famili room wife listen jimmi buffet ask alexa',\n",
       " 'like siri fact siri answer accur alexa see real need household though good bargain prime day deal',\n",
       " 'love echo still learn everi thing work ton fun',\n",
       " 'love much',\n",
       " 'differ appl play specif list music must amazon spotifi plu prime etc account must pay play music star reason everyth els',\n",
       " 'excelent lo unico es que esta en espa ol',\n",
       " 'still learn use far echo great sound actual much better expect',\n",
       " 'work expect also good sound qualiti consid price sale featur',\n",
       " 'sound echo nd gener phenomen not mention love alexa help',\n",
       " 'like googl better',\n",
       " 'let play learn get',\n",
       " 'work advertis easi setup still learn',\n",
       " 'great sound easi set',\n",
       " 'love alexa bought other friend',\n",
       " 'love echo purchas compani husband alexa great say name tell joke play favorit song',\n",
       " '',\n",
       " 'love abl listen music easili still learn featur avail',\n",
       " 'realli know could use devic use thing need overview',\n",
       " 'love wish built hub',\n",
       " 'use primarili play music work wonder still get use mani thing amazon sent sever tip sinc got thank help',\n",
       " 'easi set',\n",
       " 'fast respons amaz clear concis answer sound qualiti fantast still get use alexia not usd echo full extent',\n",
       " 'need na na nana',\n",
       " 'everyth expect',\n",
       " 'love echo work like said would smart home cannot speak function everyth els good',\n",
       " 'great sound small packag easi set use fun',\n",
       " 'work sound great',\n",
       " 'sound amaz mani collect music',\n",
       " 'set',\n",
       " 'alway listen',\n",
       " 'awesom',\n",
       " 'bought control fio televis work well hope time control fio discov thing alexa play music ask great sound alexa play game play radio station play old time radio program like long ranger alexa mani app add abil day play madlib great fun also alexa control household applianc purchas alexa compat power strip control light fan tv compon look forward implement control also add alexa compon chosen music play room compon locat',\n",
       " 'speaker excel sound work perfectli',\n",
       " 'like',\n",
       " 'love everyth',\n",
       " 'littl nervou receiv new echo not realli tech savvi found bit intimid first take long figur happi purchas think ad echo spot',\n",
       " 'like still learn use',\n",
       " 'great technolog believ speaker volum qualiti wonder wish bought anoth one',\n",
       " 'purchas echo dot husband father day use constantli hear qualiti sound echo nd gener brainer best gift ever',\n",
       " 'work fine',\n",
       " '',\n",
       " 'clear music',\n",
       " 'fun use good sound qualiti',\n",
       " 'echo work well abl sync amazon music devic',\n",
       " 'work great think amazon charg anoth cent unlimit music prime buy echo',\n",
       " 'alreadi echo dot echo even better fuller sound also setup let phone call made contact list great',\n",
       " 'speaker sound realli good',\n",
       " 'good sound work well',\n",
       " 'love alexa not savvi support help patient',\n",
       " 'love think get one prime day discount offer could not pass fun ask alexa play song group come playlist amazon prime music also connect iphon bluetooth play music pandora youtub video use alexa speaker fun ask alexa differ type question inform like weather news even time countri downsid limit data wifi plan alexa use burn play music',\n",
       " 'like far lot tri yet',\n",
       " 'love use strictli music great',\n",
       " 'love echo love size materi speaker qualiti hook one light easili work addit light thermostat next echo dot bedroom lot echo think traffic weather trivia etc',\n",
       " 'love',\n",
       " 'entir famili love alexa echo part famili',\n",
       " 'great fun get know function product wow famili fun homework help talk grandchildren also echo huge bonu wait learn',\n",
       " 'love',\n",
       " 'awesom thing love alexa',\n",
       " 'work exactli expect speaker great sound perfect classroom',\n",
       " 'love love new littl gadget made live much easier like person secretari live home hardli need cd anymor sinc alexa play everyth need go get alexa dot soon room thank',\n",
       " 'speaker surpris qualiti happi purchas',\n",
       " 'easi set work wonder love',\n",
       " 'realli impress sound qualiti play music devic bass sound almost like come bigger speaker prop amazon',\n",
       " 'still great product sound qualiti seem wors get wrong definit get use within hour definit feel like echo gen sound qualiti better besid great addit abl play bluetooth wifi even better',\n",
       " 'outlet not work disappoint',\n",
       " 'great devic respons help',\n",
       " 'sound terribl u want good music get bose',\n",
       " 'like sound troubl paid extra money access million song sometim work ex alexa play italian song understand play opera tosca respons sorri',\n",
       " 'easi set use bad plug would nice take outsid oper batteri recharg',\n",
       " 'still learn way use real hit grandkid ask play music danc yr cute',\n",
       " 'star gener like product great ask like play music set timer make call reason rate sometim connect die echo stop play music show red ring seem connect issu overal great product',\n",
       " 'work great upgrad echo dot full size echo happier',\n",
       " 'alexa els say',\n",
       " 'upgrad lilttl echo dot happi sound',\n",
       " 'excel product set eas well',\n",
       " 'first gen echo sinc first came work well purchas nd gen prime day far happi seem improv speaker provid enhanc sound music',\n",
       " 'love echo smart speaker love volum clariti easi set wonder gift age',\n",
       " 'wonder product fast deliveri',\n",
       " 'initi harder set call tech knowledg work great',\n",
       " 'easi set famili love',\n",
       " 'great sound respons voic command',\n",
       " 'live long without echo get enjoy music style ask alexa go gread wireless love echo love alexa',\n",
       " 'cool product speaker sound good spotifi blast',\n",
       " 'much fun alexa love abl listen music across room busi someth els',\n",
       " 'far seem nice item pick voic understand without problem day ask turn music next room heard fine use listen music check weather done thing well',\n",
       " 'love echo',\n",
       " 'love help use rememb thing sleep ask anyth week still learn',\n",
       " 'better st gen everi way except one realli miss ring top volum control quicker easier grab top twist without look button find one press time also wish bass bit better great devic happi',\n",
       " 'love alexa',\n",
       " 'far like',\n",
       " 'thoroughli enjoy ecoo love read audiobook offic simpli open audiobook kindl continu elsewher wonder listen music not mood book great set remind much',\n",
       " 'still love',\n",
       " 'love',\n",
       " 'love sound qualiti unit clear sound',\n",
       " 'listen talk radio morn turn light etc system excel job full hous sound system stream siriu',\n",
       " 'week still learn alexa learn process love music call time listen podcast radio station start keep shop list groceri list love search paper pencil get time temperatur great not wait weather report sound good not fussi woofer tweeter base etc echo fine afternoon go tri drop son get home go surpris',\n",
       " 'not much featur',\n",
       " 'great sound qualiti great featur great product multi room music cool',\n",
       " 'cool',\n",
       " 'everyon echo two three bought echo qvc',\n",
       " 'annoy everyth show alexa abl download spend much time tri figur phrase machin may well look',\n",
       " 'alexa sinc begin accident spill water replac nd gener decid without echo setup easi work within minut',\n",
       " 'like abl tell alexia music want hear sometim troubl find song not specif titl',\n",
       " 'like look better origin echo move old echo basement famili room nice sound',\n",
       " 'echo wonder still learn use music request somewhat limit',\n",
       " 'know half thing ask recogn sprinkler wifi control even though product detail say compat program chang wifi thermostat set match wifi router handi music player amazon music',\n",
       " 'love',\n",
       " 'awesom understand kid',\n",
       " 'pleasantli surpris sound qualiti mani featur nice easili hear particular artist hear book simpl command look forward explor option devic',\n",
       " 'met exceed expect easi set realli quick respons',\n",
       " 'like fact get kind music prime want request alexa like inform photo littl pamphlet wish includ connect tv etc command alexa realli love music',\n",
       " 'not found way access echo thorough prime account think part top line video music etc also think setup app defin exampl music like not well integr echo tri ask playlist echo not sure even though set play list set also not like fact word exact match playlist name never rememb like readi natur echo respond queri',\n",
       " 'great item ad audibl book make even better thank',\n",
       " 'prime day nd gen echo sale resist begin smart home set happier say alexa done amaz job connect smart devic thank control light smart plug tv etc troubl connect echo wifi phone app work perfectli fine let add skill routin smart devic timer much sound qualiti good enough sinc not audiophil alexa hear voic even watch movi high volum design great modern definit add nice touch home chang cover like sale overal great addit home enabl mani possibl yet sure add alexa home',\n",
       " 'versatil fun',\n",
       " 'work great killer speaker wife son love',\n",
       " 'regret wait long purchas item surpris pleas sound qualiti',\n",
       " 'stop work week follow command realli fun work',\n",
       " 'far love work get thing set love groceri list app',\n",
       " 'perform pretti much expect disappoint not provid terminolog need play variou kind music without subscrib amazon music servic understand music choic may limit without know ask cannot access music provid free along echo purchas chart show languag need use',\n",
       " 'easi set',\n",
       " 'like product except speaker not high qualiti expect',\n",
       " 'great invest alexa help made laugh',\n",
       " 'yet anoth exho home love',\n",
       " 'love plan gender music big band jazz not easi find local radio sound good stop voic command get phone call',\n",
       " 'good valu',\n",
       " 'super easi set love new echo',\n",
       " 'what not like speaker ask alexa',\n",
       " 'best father day gift dad joke mom alexa one listen repeat stori go forward',\n",
       " 'great addit breakfast room kitchen tune inform instantli avail slowli learn featur',\n",
       " 'sound qualiti',\n",
       " 'sad joke worthless',\n",
       " 'entertain',\n",
       " 'good qualiti',\n",
       " 'work great sound great not miss beat wish batteri better portabl',\n",
       " 'love till someon stole afford replac yet go',\n",
       " 'alexa rock',\n",
       " 'got gift love never would bought one allow play music amozon prime music worth also give new brief tell joke',\n",
       " '',\n",
       " 'mom bought echo dot repeat ask take one great told two day made take hour later could not live life without amaz four larg speaker small echo dot return say go order alexa speaker go big get echo otherwis tou return two echo dot live without',\n",
       " 'love great product',\n",
       " 'easi set user friendli',\n",
       " 'realli disappoint alexa plug wall socket time fault not check made assumpt compani technolog advanc amazon would sell product recharg batteri could return would appl music boom speaker give flexibl alexa',\n",
       " 'think nd gen sound good st aux could add extern speaker go get dot nd issu uniqu unit understand overrid default prevent play blue tooth speaker play group get delay use bt speaker unit not heard abl play group use bt speaker',\n",
       " 'everyth',\n",
       " 'like interact ask question like ask setup schedul connect lamp',\n",
       " 'supberb sound definit worth extra money listen lot music',\n",
       " 'realli love amazon echo think sound qualiti great lot fun realli handi music get updat weather sport',\n",
       " 'love grandkid',\n",
       " 'far work well not alway intuit link differ devic skill get hang',\n",
       " 'work advertis',\n",
       " 'love',\n",
       " 'love new addit hous speaker qualiti great love alexa two not complaint suggest futur seri would better commun abil exampl smart light hous unless specifi kitchen light kitchen light prior command either respond say recogn may want alexa respond say thank afterward repeat alexa thank time respond husband know sound odd laugh mayb southern thing want alexa manner',\n",
       " 'like everyth music trivia game weather',\n",
       " 'describ receiv time not like automat enrol music',\n",
       " 'great devic',\n",
       " 'own echo overa year new lack easi way increas decreas volum without tell increas decreas volum hard wife sinc english second languag born korea sound echo superb keep',\n",
       " 'love kitchen work well',\n",
       " 'nice impress wish say though',\n",
       " 'love product nice easi access much info',\n",
       " 'got great sound bass work time still hot miss recogn thing',\n",
       " 'still discov echo',\n",
       " 'amaz paroduct',\n",
       " 'good hear rang sound qualiti bit complic set quit understand lot even speak slowli clearli love flash brief featur interfac abod home secur system',\n",
       " 'speaker sound good',\n",
       " 'absolut love',\n",
       " 'best part product control thermostat light hous anyth dislik',\n",
       " 'thoroughli enjoy amazon echo instal easi use alexa app purchas kasa smart plug control live room light instal easi use kasa app sinqu right echo enjoy play music echo sound qualiti awesom ad kasa smart bulb kitchen setup seamless look forward ad autom home',\n",
       " 'home entertain',\n",
       " 'cool product easi setup fun use sound qualiti much better anticip',\n",
       " 'love great sound easi connect use',\n",
       " 'work fairli new smart tv mainli tv manufactur lg fault due not support anyth older tv year smart lock also need addit piec equip order connect well speaker sound great work well',\n",
       " 'great sound littl speaker',\n",
       " 'enjoy',\n",
       " '',\n",
       " 'cool',\n",
       " 'good qualiti great sound qualiti',\n",
       " 'work perfectli',\n",
       " 'great product sometim alexa not understand command fire tv fabul speaker',\n",
       " 'love echo great sound smart',\n",
       " 'sure love',\n",
       " 'play great',\n",
       " 'work absolut great',\n",
       " 'amaz product great sound qualiti',\n",
       " 'best thing invest thank much',\n",
       " 'extrem impress item bought warehous outlet minor imperfect tell even one work great come packag seal damag miss anyth like sound qualiti see knock not bose great famili easi use minor learn curv learn voic integr seamlessli amazon servic wait get classroom lot fun even speaker let alon plan',\n",
       " 'love echo show bedroom wonder music info sleep sound',\n",
       " 'awesom life changer serious abl start morn alexa wake alarm play music gotten use voic anoth room listen say love echo hesit get one price speaker unbeliev buy cordless holder take echo anywher love purchas love alexa',\n",
       " 'not super impress alexa prime laps play anyth smart enough differenti among spotifi account use either randomli speak nobodi talk today unplug not sure ever use alexa',\n",
       " 'like everyth',\n",
       " 'like',\n",
       " 'never issu buy use electron long get good like new read comment see use',\n",
       " 'famili realli love new echo',\n",
       " 'bought wife love',\n",
       " 'fun got today pod go car use hous',\n",
       " 'like',\n",
       " 'third echo worth everi penni like household employe small flat rate keep bedroom live room drop use intercom listen music answer quick question alarm wake school etc',\n",
       " 'listen music set timer',\n",
       " 'receiv echo perfect condit devic easi set respond quickli without issu alexa great addit famili',\n",
       " 'good sound like music schedul like get random thought record think joke cute',\n",
       " 'purchas begin learn far pleas amaz differ action perform enjoy look forward learn option provid',\n",
       " 'echo great other even though smaller',\n",
       " 'funni buy someth look fun wind total use part home love',\n",
       " 'bought replac dot live room speaker slightli better hear better tv unfortun understand respond request well dot frequent request time get want dot usual exactli want first request consid upgrad',\n",
       " 'good experi far second gener echo mani thing learn not time yet right mostli enjoy music weather updat use alarm featur person also purchas mini smart socket ye excit begin use',\n",
       " 'troubl connect tv not exactli tech smart sure one grandson figur far use mostli music',\n",
       " 'simpli love echo hardli watch tv anymor busi listen music speaker pretti goo size fun skill realli make echo fun whole famili',\n",
       " 'enjoy entir echo experi',\n",
       " 'easi set',\n",
       " 'echo amaz devic mani time seem intuit time ask someth seem clear simpl get result instal fairli straightforward mess sever time simpli thought step complet actual made lose ground figur advic patient app let know move next step biggest issu moment sever echo devic home would like use intercom told done howev make echo awar other exist ask alexa answer instruct chang name know like fault would think design would anticip make easier find need instruct small deal mani devic savvi peopl challeng',\n",
       " 'love much',\n",
       " 'origin alexa tap far nd gener best happi see make improv new one would great updat littl think would help lot bug happi play music throughout whole hous adjust bass trebl thank',\n",
       " 'pleas echo nd gener nice alexa avail music weather news probabl lot discov',\n",
       " 'pleasantli surpris sound qualiti echo big fan deep bass might not suffici though potenti control home option explor evolv home smart home voic recognit impress stylish fun regret purchas great technic chang peopl ask play song movi respond instantli elderli love one would great gift connect wifi simpl use want unlimit music control sure amazon prime premium spotifi blown away person dj even convers echo not embarrass say echo made laugh coupl time ask tell joke tell packag sinc amazon prime addict come extrem handi',\n",
       " 'easi setup love thing',\n",
       " 'alexa throughout hous futur arriv',\n",
       " 'alreadi alexa amazon find today could not resist get echo also best thing ever use side hous happier',\n",
       " 'arriv expect',\n",
       " 'bought week ago everyth product excel forget buy charger order must take outsid pool not worri hire electrician put outlet yard',\n",
       " 'terrif',\n",
       " 'love echo',\n",
       " 'smaller origin look nicer',\n",
       " 'work great',\n",
       " 'husband would call late adopt come technolog decid would tri echo serv primarili music sourc wow amaz great sound also great time listen favorit song buy ask alexa may even buy one elderli dad think enjoy one listen music even place call us',\n",
       " 'realli enjoy chang directv channel play iheartradio pandora adjust ac thermostat turn live room light outsid light',\n",
       " 'want one bought prime day absolut love',\n",
       " 'glad got echo bluetooth speaker alexa much stuff non smart speaker person love timer featur help cook multipl thing simultan pandora integr anoth featur use daili happi prime day purchas get echo hub echo dot futur',\n",
       " 'see subject line love',\n",
       " 'love',\n",
       " 'easi setup',\n",
       " 'hesit buy echo echo dot seem good enough echo except sound qualiti realli feel need howev glad got differ sound realli far superior echo dot listen greatest showman littl power',\n",
       " 'sound qualiti great still learn differ thing fun',\n",
       " 'got good deal work great prime setup bit pain fault crappi internet servic work great nice sound small speaker',\n",
       " 'love',\n",
       " 'work great perfect offic',\n",
       " 'love one insid hous one pool good bose speaker around hous',\n",
       " 'easi use amaz',\n",
       " 'nice product',\n",
       " 'love echo total amaz speaker qualiti bum buy two sinc got prime day',\n",
       " 'respons great sound qualiti size',\n",
       " 'effici amaz cool use often everi day',\n",
       " 'impress qualiti sound echo definit compar bose mini gave star use appl music account',\n",
       " 'technolog small devic price good sound amaz must featur home',\n",
       " 'mainli use music learn time realli noth bad say',\n",
       " 'replac st gen concern smaller unit not sound wrong anyth volum clear good product',\n",
       " 'great addit echo plu',\n",
       " 'best',\n",
       " 'love featur play music everi room multipl echo',\n",
       " 'love alexa surpris much use',\n",
       " 'use product enjoy love',\n",
       " 'easi use great sound great purchas great price',\n",
       " 'easi set issu',\n",
       " 'unit add much pleasur echo plu music inform home one room',\n",
       " 'extrem use simpl thing like spotifi audibl thing like sometim answer everyth ask still nice use',\n",
       " 'difficult set keep time enter password',\n",
       " 'get use use echo use shop list listen music timer work great far',\n",
       " 'cool lot fun use week still learn capabl',\n",
       " 'love love',\n",
       " 'love hard time set app',\n",
       " 'use offic anoth apart music inform',\n",
       " ...]"
      ]
     },
     "execution_count": 27,
     "metadata": {},
     "output_type": "execute_result"
    }
   ],
   "source": [
    "X=corpus\n",
    "X"
   ]
  },
  {
   "cell_type": "code",
   "execution_count": 28,
   "metadata": {
    "id": "l2k5gsgmrVQx"
   },
   "outputs": [
    {
     "data": {
      "text/plain": [
       "0       1\n",
       "1       1\n",
       "2       1\n",
       "3       1\n",
       "4       1\n",
       "       ..\n",
       "3145    1\n",
       "3146    1\n",
       "3147    1\n",
       "3148    1\n",
       "3149    1\n",
       "Name: feedback, Length: 3150, dtype: int64"
      ]
     },
     "execution_count": 28,
     "metadata": {},
     "output_type": "execute_result"
    }
   ],
   "source": [
    "y = data['feedback']\n",
    "y"
   ]
  },
  {
   "cell_type": "markdown",
   "metadata": {
    "id": "OHYHRp0jHLQb"
   },
   "source": [
    "## Split the dataset into the Training set and Test set"
   ]
  },
  {
   "cell_type": "code",
   "execution_count": 29,
   "metadata": {
    "id": "C4tkrqE2rNyJ"
   },
   "outputs": [],
   "source": [
    "from sklearn.model_selection import train_test_split\n",
    "X_train, X_test, y_train, y_test = train_test_split(X, y, test_size=0.2, random_state=1)"
   ]
  },
  {
   "cell_type": "markdown",
   "metadata": {
    "id": "yyPkraJCHRbL"
   },
   "source": [
    "# Model Development"
   ]
  },
  {
   "cell_type": "markdown",
   "metadata": {
    "id": "UXxo9xwStiVK"
   },
   "source": [
    "## Logistic Regression"
   ]
  },
  {
   "cell_type": "code",
   "execution_count": 30,
   "metadata": {
    "colab": {
     "base_uri": "https://localhost:8080/"
    },
    "id": "l0wVupqCDtU-",
    "outputId": "cf1e12ec-3b80-4381-cb55-82f49e391eb0"
   },
   "outputs": [
    {
     "data": {
      "text/html": [
       "<style>#sk-container-id-1 {color: black;background-color: white;}#sk-container-id-1 pre{padding: 0;}#sk-container-id-1 div.sk-toggleable {background-color: white;}#sk-container-id-1 label.sk-toggleable__label {cursor: pointer;display: block;width: 100%;margin-bottom: 0;padding: 0.3em;box-sizing: border-box;text-align: center;}#sk-container-id-1 label.sk-toggleable__label-arrow:before {content: \"▸\";float: left;margin-right: 0.25em;color: #696969;}#sk-container-id-1 label.sk-toggleable__label-arrow:hover:before {color: black;}#sk-container-id-1 div.sk-estimator:hover label.sk-toggleable__label-arrow:before {color: black;}#sk-container-id-1 div.sk-toggleable__content {max-height: 0;max-width: 0;overflow: hidden;text-align: left;background-color: #f0f8ff;}#sk-container-id-1 div.sk-toggleable__content pre {margin: 0.2em;color: black;border-radius: 0.25em;background-color: #f0f8ff;}#sk-container-id-1 input.sk-toggleable__control:checked~div.sk-toggleable__content {max-height: 200px;max-width: 100%;overflow: auto;}#sk-container-id-1 input.sk-toggleable__control:checked~label.sk-toggleable__label-arrow:before {content: \"▾\";}#sk-container-id-1 div.sk-estimator input.sk-toggleable__control:checked~label.sk-toggleable__label {background-color: #d4ebff;}#sk-container-id-1 div.sk-label input.sk-toggleable__control:checked~label.sk-toggleable__label {background-color: #d4ebff;}#sk-container-id-1 input.sk-hidden--visually {border: 0;clip: rect(1px 1px 1px 1px);clip: rect(1px, 1px, 1px, 1px);height: 1px;margin: -1px;overflow: hidden;padding: 0;position: absolute;width: 1px;}#sk-container-id-1 div.sk-estimator {font-family: monospace;background-color: #f0f8ff;border: 1px dotted black;border-radius: 0.25em;box-sizing: border-box;margin-bottom: 0.5em;}#sk-container-id-1 div.sk-estimator:hover {background-color: #d4ebff;}#sk-container-id-1 div.sk-parallel-item::after {content: \"\";width: 100%;border-bottom: 1px solid gray;flex-grow: 1;}#sk-container-id-1 div.sk-label:hover label.sk-toggleable__label {background-color: #d4ebff;}#sk-container-id-1 div.sk-serial::before {content: \"\";position: absolute;border-left: 1px solid gray;box-sizing: border-box;top: 0;bottom: 0;left: 50%;z-index: 0;}#sk-container-id-1 div.sk-serial {display: flex;flex-direction: column;align-items: center;background-color: white;padding-right: 0.2em;padding-left: 0.2em;position: relative;}#sk-container-id-1 div.sk-item {position: relative;z-index: 1;}#sk-container-id-1 div.sk-parallel {display: flex;align-items: stretch;justify-content: center;background-color: white;position: relative;}#sk-container-id-1 div.sk-item::before, #sk-container-id-1 div.sk-parallel-item::before {content: \"\";position: absolute;border-left: 1px solid gray;box-sizing: border-box;top: 0;bottom: 0;left: 50%;z-index: -1;}#sk-container-id-1 div.sk-parallel-item {display: flex;flex-direction: column;z-index: 1;position: relative;background-color: white;}#sk-container-id-1 div.sk-parallel-item:first-child::after {align-self: flex-end;width: 50%;}#sk-container-id-1 div.sk-parallel-item:last-child::after {align-self: flex-start;width: 50%;}#sk-container-id-1 div.sk-parallel-item:only-child::after {width: 0;}#sk-container-id-1 div.sk-dashed-wrapped {border: 1px dashed gray;margin: 0 0.4em 0.5em 0.4em;box-sizing: border-box;padding-bottom: 0.4em;background-color: white;}#sk-container-id-1 div.sk-label label {font-family: monospace;font-weight: bold;display: inline-block;line-height: 1.2em;}#sk-container-id-1 div.sk-label-container {text-align: center;}#sk-container-id-1 div.sk-container {/* jupyter's `normalize.less` sets `[hidden] { display: none; }` but bootstrap.min.css set `[hidden] { display: none !important; }` so we also need the `!important` here to be able to override the default hidden behavior on the sphinx rendered scikit-learn.org. See: https://github.com/scikit-learn/scikit-learn/issues/21755 */display: inline-block !important;position: relative;}#sk-container-id-1 div.sk-text-repr-fallback {display: none;}</style><div id=\"sk-container-id-1\" class=\"sk-top-container\"><div class=\"sk-text-repr-fallback\"><pre>Pipeline(steps=[(&#x27;count&#x27;, CountVectorizer()), (&#x27;tfidf&#x27;, TfidfTransformer()),\n",
       "                (&#x27;clf&#x27;, LogisticRegression())])</pre><b>In a Jupyter environment, please rerun this cell to show the HTML representation or trust the notebook. <br />On GitHub, the HTML representation is unable to render, please try loading this page with nbviewer.org.</b></div><div class=\"sk-container\" hidden><div class=\"sk-item sk-dashed-wrapped\"><div class=\"sk-label-container\"><div class=\"sk-label sk-toggleable\"><input class=\"sk-toggleable__control sk-hidden--visually\" id=\"sk-estimator-id-1\" type=\"checkbox\" ><label for=\"sk-estimator-id-1\" class=\"sk-toggleable__label sk-toggleable__label-arrow\">Pipeline</label><div class=\"sk-toggleable__content\"><pre>Pipeline(steps=[(&#x27;count&#x27;, CountVectorizer()), (&#x27;tfidf&#x27;, TfidfTransformer()),\n",
       "                (&#x27;clf&#x27;, LogisticRegression())])</pre></div></div></div><div class=\"sk-serial\"><div class=\"sk-item\"><div class=\"sk-estimator sk-toggleable\"><input class=\"sk-toggleable__control sk-hidden--visually\" id=\"sk-estimator-id-2\" type=\"checkbox\" ><label for=\"sk-estimator-id-2\" class=\"sk-toggleable__label sk-toggleable__label-arrow\">CountVectorizer</label><div class=\"sk-toggleable__content\"><pre>CountVectorizer()</pre></div></div></div><div class=\"sk-item\"><div class=\"sk-estimator sk-toggleable\"><input class=\"sk-toggleable__control sk-hidden--visually\" id=\"sk-estimator-id-3\" type=\"checkbox\" ><label for=\"sk-estimator-id-3\" class=\"sk-toggleable__label sk-toggleable__label-arrow\">TfidfTransformer</label><div class=\"sk-toggleable__content\"><pre>TfidfTransformer()</pre></div></div></div><div class=\"sk-item\"><div class=\"sk-estimator sk-toggleable\"><input class=\"sk-toggleable__control sk-hidden--visually\" id=\"sk-estimator-id-4\" type=\"checkbox\" ><label for=\"sk-estimator-id-4\" class=\"sk-toggleable__label sk-toggleable__label-arrow\">LogisticRegression</label><div class=\"sk-toggleable__content\"><pre>LogisticRegression()</pre></div></div></div></div></div></div></div>"
      ],
      "text/plain": [
       "Pipeline(steps=[('count', CountVectorizer()), ('tfidf', TfidfTransformer()),\n",
       "                ('clf', LogisticRegression())])"
      ]
     },
     "execution_count": 30,
     "metadata": {},
     "output_type": "execute_result"
    }
   ],
   "source": [
    "from sklearn.linear_model import LogisticRegression\n",
    "model= Pipeline([\n",
    "                  ('count', CountVectorizer()),\n",
    "                  ('tfidf', TfidfTransformer()),\n",
    "                  ('clf', LogisticRegression()),\n",
    "                  ])\n",
    "model.fit(X_train, y_train)"
   ]
  },
  {
   "cell_type": "code",
   "execution_count": 31,
   "metadata": {
    "colab": {
     "base_uri": "https://localhost:8080/"
    },
    "id": "497KLH4-F9Tg",
    "outputId": "e3fc8293-1868-4f94-f76a-3cd929f0551b"
   },
   "outputs": [
    {
     "data": {
      "text/plain": [
       "array([[  2,  44],\n",
       "       [  0, 584]], dtype=int64)"
      ]
     },
     "execution_count": 31,
     "metadata": {},
     "output_type": "execute_result"
    }
   ],
   "source": [
    "y_hat = model.predict(X_test)\n",
    "confusion_matrix(y_test, y_hat)"
   ]
  },
  {
   "cell_type": "code",
   "execution_count": 32,
   "metadata": {
    "colab": {
     "base_uri": "https://localhost:8080/"
    },
    "id": "sxMz9BRz-HwC",
    "outputId": "3fe38684-2477-47b2-baed-8da4f508cded"
   },
   "outputs": [
    {
     "name": "stdout",
     "output_type": "stream",
     "text": [
      "              precision    recall  f1-score   support\n",
      "\n",
      "           0       1.00      0.04      0.08        46\n",
      "           1       0.93      1.00      0.96       584\n",
      "\n",
      "    accuracy                           0.93       630\n",
      "   macro avg       0.96      0.52      0.52       630\n",
      "weighted avg       0.94      0.93      0.90       630\n",
      "\n"
     ]
    }
   ],
   "source": [
    "print(classification_report(y_test, y_hat))"
   ]
  },
  {
   "cell_type": "markdown",
   "metadata": {
    "id": "cRuNNYuRBI2B"
   },
   "source": [
    "In line with our expectation, there is a strong bias toward the majority class, with no false positive instances yet high misclassification rate of the minority class. \n",
    "we will compare the performance of Logistic regression with that of `SVM` and `Random Forest`"
   ]
  },
  {
   "cell_type": "markdown",
   "metadata": {
    "id": "SY9o59FfEAUh"
   },
   "source": [
    "## Suppor Vector Machine"
   ]
  },
  {
   "cell_type": "code",
   "execution_count": 33,
   "metadata": {
    "id": "dkOWzbecZ1qQ"
   },
   "outputs": [],
   "source": [
    "from sklearn.svm import SVC\n",
    "model_sv = Pipeline([\n",
    "                  ('count', CountVectorizer(ngram_range=(1,2))),\n",
    "                  ('tfidf', TfidfTransformer()),\n",
    "                  ('clf', SVC(kernel='linear')),\n",
    "                  ])"
   ]
  },
  {
   "cell_type": "code",
   "execution_count": 34,
   "metadata": {
    "colab": {
     "base_uri": "https://localhost:8080/"
    },
    "id": "jsruWvWHakPo",
    "outputId": "97e4b445-aec8-4656-ed47-29f7b0ad8242"
   },
   "outputs": [
    {
     "name": "stdout",
     "output_type": "stream",
     "text": [
      "Best Accuracy: 66.59 %\n",
      "Best Parameters: {'clf__C': 1, 'clf__kernel': 'linear', 'count__ngram_range': (1, 2), 'tfidf__use_idf': True}\n"
     ]
    }
   ],
   "source": [
    "# grid search to find best n-gram range, svm kernel and regularization parameter\n",
    "parameters = {'count__ngram_range':[(1, 1), (1, 2)], \n",
    "              'tfidf__use_idf': [True, False],\n",
    "              'clf__kernel': ['linear', 'rbf'], \n",
    "              'clf__C': [.0001, .001, 0.1, 1]}\n",
    "            \n",
    "grid_search = GridSearchCV(model_sv,\n",
    "                           param_grid = parameters,\n",
    "                           scoring = 'balanced_accuracy',\n",
    "                           cv = 10)\n",
    "                          \n",
    "grid_search.fit(X_train, y_train)\n",
    "accuracy = grid_search.best_score_\n",
    "best_parameters = grid_search.best_params_\n",
    "print('Best Accuracy: {:.2f} %'.format(accuracy*100))\n",
    "print('Best Parameters:', best_parameters)"
   ]
  },
  {
   "cell_type": "code",
   "execution_count": 35,
   "metadata": {
    "colab": {
     "base_uri": "https://localhost:8080/"
    },
    "id": "9iQgqBhJFNGh",
    "outputId": "78a95b6d-e9e7-495a-bd09-d3bafa423c0b"
   },
   "outputs": [
    {
     "data": {
      "text/plain": [
       "array([[ 17,  29],\n",
       "       [  7, 577]], dtype=int64)"
      ]
     },
     "execution_count": 35,
     "metadata": {},
     "output_type": "execute_result"
    }
   ],
   "source": [
    "model_sv.fit(X_train, y_train)\n",
    "confusion_matrix(y_test, model_sv.predict(X_test))"
   ]
  },
  {
   "cell_type": "code",
   "execution_count": 36,
   "metadata": {
    "colab": {
     "base_uri": "https://localhost:8080/"
    },
    "id": "o95cL3uIGcSh",
    "outputId": "f7a3298a-ba5a-4003-82a3-c2b7bf0bc358"
   },
   "outputs": [
    {
     "name": "stdout",
     "output_type": "stream",
     "text": [
      "              precision    recall  f1-score   support\n",
      "\n",
      "           0       0.71      0.37      0.49        46\n",
      "           1       0.95      0.99      0.97       584\n",
      "\n",
      "    accuracy                           0.94       630\n",
      "   macro avg       0.83      0.68      0.73       630\n",
      "weighted avg       0.93      0.94      0.93       630\n",
      "\n"
     ]
    }
   ],
   "source": [
    "print(classification_report(y_test, model_sv.predict(X_test)))"
   ]
  },
  {
   "cell_type": "markdown",
   "metadata": {
    "id": "TmXZ_IYUHMIx"
   },
   "source": [
    "with using a linear kernelized SVM, combined with n-gram of size 2, we achieve a remarkable improvement in model performance in terms of specificity, along with high sensitivity. "
   ]
  },
  {
   "cell_type": "markdown",
   "metadata": {
    "id": "OoO1M1wpBM2u"
   },
   "source": [
    "## Random Forest Classifier"
   ]
  },
  {
   "cell_type": "code",
   "execution_count": 37,
   "metadata": {
    "id": "G-dcOo-1tLLn"
   },
   "outputs": [],
   "source": [
    "from sklearn.ensemble import RandomForestClassifier\n",
    "model_rn = Pipeline([\n",
    "                  ('count', CountVectorizer(ngram_range=(1,2))),\n",
    "                  ('tfidf', TfidfTransformer()),\n",
    "                  ('clf', RandomForestClassifier()),\n",
    "                  ])"
   ]
  },
  {
   "cell_type": "code",
   "execution_count": 38,
   "metadata": {
    "colab": {
     "base_uri": "https://localhost:8080/"
    },
    "id": "clAIIppItu86",
    "outputId": "1df77e2c-ffe5-4b71-80a3-d62dc275548c"
   },
   "outputs": [
    {
     "data": {
      "text/plain": [
       "array([[ 14,  32],\n",
       "       [  1, 583]], dtype=int64)"
      ]
     },
     "execution_count": 38,
     "metadata": {},
     "output_type": "execute_result"
    }
   ],
   "source": [
    "model_rn.fit(X_train, y_train)\n",
    "yhat_rn = model_rn.predict(X_test)\n",
    "confusion_matrix(y_test, yhat_rn)"
   ]
  },
  {
   "cell_type": "code",
   "execution_count": 39,
   "metadata": {},
   "outputs": [
    {
     "data": {
      "text/plain": [
       "0.6513177486599167"
      ]
     },
     "execution_count": 39,
     "metadata": {},
     "output_type": "execute_result"
    }
   ],
   "source": [
    "accu= balanced_accuracy_score(y_test,yhat_rn)\n",
    "accu"
   ]
  },
  {
   "cell_type": "code",
   "execution_count": 40,
   "metadata": {
    "colab": {
     "base_uri": "https://localhost:8080/"
    },
    "id": "5bETTXRuYx-a",
    "outputId": "61012333-f2e9-43c9-ee44-71d55756a67a"
   },
   "outputs": [
    {
     "name": "stdout",
     "output_type": "stream",
     "text": [
      "              precision    recall  f1-score   support\n",
      "\n",
      "           0       0.93      0.30      0.46        46\n",
      "           1       0.95      1.00      0.97       584\n",
      "\n",
      "    accuracy                           0.95       630\n",
      "   macro avg       0.94      0.65      0.72       630\n",
      "weighted avg       0.95      0.95      0.93       630\n",
      "\n"
     ]
    }
   ],
   "source": [
    " print(classification_report(y_test, yhat_rn))"
   ]
  },
  {
   "cell_type": "code",
   "execution_count": null,
   "metadata": {
    "id": "QFxOMbJKKCpn"
   },
   "outputs": [],
   "source": [
    "Random forest achieves a comparable results to that of SVM, with average f-measure of 0.66"
   ]
  }
 ],
 "metadata": {
  "colab": {
   "collapsed_sections": [],
   "name": "Analysis model development.ipynb",
   "provenance": []
  },
  "kernelspec": {
   "display_name": "Python 3 (ipykernel)",
   "language": "python",
   "name": "python3"
  },
  "language_info": {
   "codemirror_mode": {
    "name": "ipython",
    "version": 3
   },
   "file_extension": ".py",
   "mimetype": "text/x-python",
   "name": "python",
   "nbconvert_exporter": "python",
   "pygments_lexer": "ipython3",
   "version": "3.11.7"
  }
 },
 "nbformat": 4,
 "nbformat_minor": 4
}
