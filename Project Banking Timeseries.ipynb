{
 "cells": [
  {
   "cell_type": "markdown",
   "id": "5287120c",
   "metadata": {},
   "source": [
    "PROJECT DOMAIN: BANKING"
   ]
  },
  {
   "cell_type": "markdown",
   "id": "03444670",
   "metadata": {},
   "source": [
    "PROJECT TITLE : CREDIT CARD FRAUD DETECTION "
   ]
  },
  {
   "cell_type": "markdown",
   "id": "ffa75cd1",
   "metadata": {},
   "source": [
    "OVERVIEW:\n",
    "        This project aims to build a model with time series to detect fraud using logistic regression, DecisionTreeClassifier, RandomForestClassifier.Fraud detection is an important case for machine learning in industries like banking."
   ]
  },
  {
   "cell_type": "markdown",
   "id": "1ff877d1",
   "metadata": {},
   "source": [
    "OJECTIVE: \n",
    "         Detect whether the credict card is fraud or not."
   ]
  },
  {
   "cell_type": "markdown",
   "id": "3723971b",
   "metadata": {},
   "source": [
    "OUTCOME: \n",
    "         A trained model that can classify on the basis of fraud or not using logistic regression  "
   ]
  },
  {
   "cell_type": "markdown",
   "id": "4e8d3b92",
   "metadata": {},
   "source": [
    "TOOLS:\n",
    "     Programming Language: Python\n",
    "     \n",
    "LIBRARIES:\n",
    "    Data Manipulation: Pandas\n",
    "    Machine Learning: Sklearn\n",
    "    Data Visualization: Matplotlib, Seaborn\n",
    "    Time Series Handling: Pandas\n",
    "    Model Evaluation: Sklearn.metrics\n"
   ]
  },
  {
   "cell_type": "markdown",
   "id": "9cce2ced",
   "metadata": {},
   "source": [
    "1) IMPORT THE NECESSARY LIBRARIES:"
   ]
  },
  {
   "cell_type": "code",
   "execution_count": 1,
   "id": "e6ec2331",
   "metadata": {},
   "outputs": [],
   "source": [
    "import pandas as pd\n",
    "import seaborn as sns\n",
    "import matplotlib.pyplot as plt\n",
    "from sklearn.preprocessing import LabelEncoder\n",
    "from sklearn.model_selection import train_test_split\n",
    "from sklearn.linear_model import LogisticRegression\n",
    "from sklearn.tree import DecisionTreeClassifier\n",
    "from sklearn.ensemble import RandomForestClassifier\n",
    "from sklearn.metrics import accuracy_score,roc_curve,roc_auc_score\n",
    "from sklearn import tree"
   ]
  },
  {
   "cell_type": "markdown",
   "id": "0d80504a",
   "metadata": {},
   "source": [
    "2) IMPORT THE DATASET\n",
    "   (since the dataset has datetime column use parse_dates) "
   ]
  },
  {
   "cell_type": "code",
   "execution_count": 3,
   "id": "a1766798",
   "metadata": {},
   "outputs": [],
   "source": [
    "data=pd.read_csv('fraud test.csv',parse_dates=['trans_date_trans_time']) #converting the datatype str to Timestamp using parse_dates"
   ]
  },
  {
   "cell_type": "markdown",
   "id": "b82ec33a",
   "metadata": {},
   "source": [
    "3) DATA VISUALIZATION"
   ]
  },
  {
   "cell_type": "code",
   "execution_count": 4,
   "id": "2ed44c2e",
   "metadata": {},
   "outputs": [],
   "source": [
    "df=data.copy()   # Make a copy of the daataset to not affect the original dataset"
   ]
  },
  {
   "cell_type": "code",
   "execution_count": 5,
   "id": "9860e077",
   "metadata": {},
   "outputs": [],
   "source": [
    "pd.set_option('display.max_columns',23)  # View the maximun number of columns"
   ]
  },
  {
   "cell_type": "code",
   "execution_count": 6,
   "id": "9383194e",
   "metadata": {},
   "outputs": [
    {
     "data": {
      "text/html": [
       "<div>\n",
       "<style scoped>\n",
       "    .dataframe tbody tr th:only-of-type {\n",
       "        vertical-align: middle;\n",
       "    }\n",
       "\n",
       "    .dataframe tbody tr th {\n",
       "        vertical-align: top;\n",
       "    }\n",
       "\n",
       "    .dataframe thead th {\n",
       "        text-align: right;\n",
       "    }\n",
       "</style>\n",
       "<table border=\"1\" class=\"dataframe\">\n",
       "  <thead>\n",
       "    <tr style=\"text-align: right;\">\n",
       "      <th></th>\n",
       "      <th>Unnamed: 0</th>\n",
       "      <th>trans_date_trans_time</th>\n",
       "      <th>cc_num</th>\n",
       "      <th>merchant</th>\n",
       "      <th>category</th>\n",
       "      <th>amt</th>\n",
       "      <th>first</th>\n",
       "      <th>last</th>\n",
       "      <th>gender</th>\n",
       "      <th>street</th>\n",
       "      <th>city</th>\n",
       "      <th>state</th>\n",
       "      <th>zip</th>\n",
       "      <th>lat</th>\n",
       "      <th>long</th>\n",
       "      <th>city_pop</th>\n",
       "      <th>job</th>\n",
       "      <th>dob</th>\n",
       "      <th>trans_num</th>\n",
       "      <th>unix_time</th>\n",
       "      <th>merch_lat</th>\n",
       "      <th>merch_long</th>\n",
       "      <th>is_fraud</th>\n",
       "    </tr>\n",
       "  </thead>\n",
       "  <tbody>\n",
       "    <tr>\n",
       "      <th>0</th>\n",
       "      <td>0</td>\n",
       "      <td>2020-06-21 12:14:00</td>\n",
       "      <td>2.291160e+15</td>\n",
       "      <td>fraud_Kirlin and Sons</td>\n",
       "      <td>personal_care</td>\n",
       "      <td>2.86</td>\n",
       "      <td>Jeff</td>\n",
       "      <td>Elliott</td>\n",
       "      <td>M</td>\n",
       "      <td>351 Darlene Green</td>\n",
       "      <td>Columbia</td>\n",
       "      <td>SC</td>\n",
       "      <td>29209</td>\n",
       "      <td>33.9659</td>\n",
       "      <td>-80.9355</td>\n",
       "      <td>333497</td>\n",
       "      <td>Mechanical engineer</td>\n",
       "      <td>19/03/1968</td>\n",
       "      <td>2da90c7d74bd46a0caf3777415b3ebd3</td>\n",
       "      <td>1371816865</td>\n",
       "      <td>33.986391</td>\n",
       "      <td>-81.200714</td>\n",
       "      <td>0</td>\n",
       "    </tr>\n",
       "    <tr>\n",
       "      <th>1</th>\n",
       "      <td>1</td>\n",
       "      <td>2020-06-21 12:14:00</td>\n",
       "      <td>3.573030e+15</td>\n",
       "      <td>fraud_Sporer-Keebler</td>\n",
       "      <td>personal_care</td>\n",
       "      <td>29.84</td>\n",
       "      <td>Joanne</td>\n",
       "      <td>Williams</td>\n",
       "      <td>F</td>\n",
       "      <td>3638 Marsh Union</td>\n",
       "      <td>Altonah</td>\n",
       "      <td>UT</td>\n",
       "      <td>84002</td>\n",
       "      <td>40.3207</td>\n",
       "      <td>-110.4360</td>\n",
       "      <td>302</td>\n",
       "      <td>Sales professional, IT</td>\n",
       "      <td>17/01/1990</td>\n",
       "      <td>324cc204407e99f51b0d6ca0055005e7</td>\n",
       "      <td>1371816873</td>\n",
       "      <td>39.450498</td>\n",
       "      <td>-109.960431</td>\n",
       "      <td>0</td>\n",
       "    </tr>\n",
       "    <tr>\n",
       "      <th>2</th>\n",
       "      <td>2</td>\n",
       "      <td>2020-06-21 12:14:00</td>\n",
       "      <td>3.598220e+15</td>\n",
       "      <td>fraud_Swaniawski, Nitzsche and Welch</td>\n",
       "      <td>health_fitness</td>\n",
       "      <td>41.28</td>\n",
       "      <td>Ashley</td>\n",
       "      <td>Lopez</td>\n",
       "      <td>F</td>\n",
       "      <td>9333 Valentine Point</td>\n",
       "      <td>Bellmore</td>\n",
       "      <td>NY</td>\n",
       "      <td>11710</td>\n",
       "      <td>40.6729</td>\n",
       "      <td>-73.5365</td>\n",
       "      <td>34496</td>\n",
       "      <td>Librarian, public</td>\n",
       "      <td>21/10/1970</td>\n",
       "      <td>c81755dbbbea9d5c77f094348a7579be</td>\n",
       "      <td>1371816893</td>\n",
       "      <td>40.495810</td>\n",
       "      <td>-74.196111</td>\n",
       "      <td>0</td>\n",
       "    </tr>\n",
       "    <tr>\n",
       "      <th>3</th>\n",
       "      <td>3</td>\n",
       "      <td>2020-06-21 12:15:00</td>\n",
       "      <td>3.591920e+15</td>\n",
       "      <td>fraud_Haley Group</td>\n",
       "      <td>misc_pos</td>\n",
       "      <td>60.05</td>\n",
       "      <td>Brian</td>\n",
       "      <td>Williams</td>\n",
       "      <td>M</td>\n",
       "      <td>32941 Krystal Mill Apt. 552</td>\n",
       "      <td>Titusville</td>\n",
       "      <td>FL</td>\n",
       "      <td>32780</td>\n",
       "      <td>28.5697</td>\n",
       "      <td>-80.8191</td>\n",
       "      <td>54767</td>\n",
       "      <td>Set designer</td>\n",
       "      <td>25/07/1987</td>\n",
       "      <td>2159175b9efe66dc301f149d3d5abf8c</td>\n",
       "      <td>1371816915</td>\n",
       "      <td>28.812398</td>\n",
       "      <td>-80.883061</td>\n",
       "      <td>0</td>\n",
       "    </tr>\n",
       "    <tr>\n",
       "      <th>4</th>\n",
       "      <td>4</td>\n",
       "      <td>2020-06-21 12:15:00</td>\n",
       "      <td>3.526830e+15</td>\n",
       "      <td>fraud_Johnston-Casper</td>\n",
       "      <td>travel</td>\n",
       "      <td>3.19</td>\n",
       "      <td>Nathan</td>\n",
       "      <td>Massey</td>\n",
       "      <td>M</td>\n",
       "      <td>5783 Evan Roads Apt. 465</td>\n",
       "      <td>Falmouth</td>\n",
       "      <td>MI</td>\n",
       "      <td>49632</td>\n",
       "      <td>44.2529</td>\n",
       "      <td>-85.0170</td>\n",
       "      <td>1126</td>\n",
       "      <td>Furniture designer</td>\n",
       "      <td>06/07/1955</td>\n",
       "      <td>57ff021bd3f328f8738bb535c302a31b</td>\n",
       "      <td>1371816917</td>\n",
       "      <td>44.959148</td>\n",
       "      <td>-85.884734</td>\n",
       "      <td>0</td>\n",
       "    </tr>\n",
       "  </tbody>\n",
       "</table>\n",
       "</div>"
      ],
      "text/plain": [
       "   Unnamed: 0 trans_date_trans_time        cc_num  \\\n",
       "0           0   2020-06-21 12:14:00  2.291160e+15   \n",
       "1           1   2020-06-21 12:14:00  3.573030e+15   \n",
       "2           2   2020-06-21 12:14:00  3.598220e+15   \n",
       "3           3   2020-06-21 12:15:00  3.591920e+15   \n",
       "4           4   2020-06-21 12:15:00  3.526830e+15   \n",
       "\n",
       "                               merchant        category    amt   first  \\\n",
       "0                 fraud_Kirlin and Sons   personal_care   2.86    Jeff   \n",
       "1                  fraud_Sporer-Keebler   personal_care  29.84  Joanne   \n",
       "2  fraud_Swaniawski, Nitzsche and Welch  health_fitness  41.28  Ashley   \n",
       "3                     fraud_Haley Group        misc_pos  60.05   Brian   \n",
       "4                 fraud_Johnston-Casper          travel   3.19  Nathan   \n",
       "\n",
       "       last gender                       street        city state    zip  \\\n",
       "0   Elliott      M            351 Darlene Green    Columbia    SC  29209   \n",
       "1  Williams      F             3638 Marsh Union     Altonah    UT  84002   \n",
       "2     Lopez      F         9333 Valentine Point    Bellmore    NY  11710   \n",
       "3  Williams      M  32941 Krystal Mill Apt. 552  Titusville    FL  32780   \n",
       "4    Massey      M     5783 Evan Roads Apt. 465    Falmouth    MI  49632   \n",
       "\n",
       "       lat      long  city_pop                     job         dob  \\\n",
       "0  33.9659  -80.9355    333497     Mechanical engineer  19/03/1968   \n",
       "1  40.3207 -110.4360       302  Sales professional, IT  17/01/1990   \n",
       "2  40.6729  -73.5365     34496       Librarian, public  21/10/1970   \n",
       "3  28.5697  -80.8191     54767            Set designer  25/07/1987   \n",
       "4  44.2529  -85.0170      1126      Furniture designer  06/07/1955   \n",
       "\n",
       "                          trans_num   unix_time  merch_lat  merch_long  \\\n",
       "0  2da90c7d74bd46a0caf3777415b3ebd3  1371816865  33.986391  -81.200714   \n",
       "1  324cc204407e99f51b0d6ca0055005e7  1371816873  39.450498 -109.960431   \n",
       "2  c81755dbbbea9d5c77f094348a7579be  1371816893  40.495810  -74.196111   \n",
       "3  2159175b9efe66dc301f149d3d5abf8c  1371816915  28.812398  -80.883061   \n",
       "4  57ff021bd3f328f8738bb535c302a31b  1371816917  44.959148  -85.884734   \n",
       "\n",
       "   is_fraud  \n",
       "0         0  \n",
       "1         0  \n",
       "2         0  \n",
       "3         0  \n",
       "4         0  "
      ]
     },
     "execution_count": 6,
     "metadata": {},
     "output_type": "execute_result"
    }
   ],
   "source": [
    "df.head()     # Returns the first five rows"
   ]
  },
  {
   "cell_type": "code",
   "execution_count": 7,
   "id": "fe1a146b",
   "metadata": {},
   "outputs": [
    {
     "data": {
      "text/plain": [
       "(555719, 23)"
      ]
     },
     "execution_count": 7,
     "metadata": {},
     "output_type": "execute_result"
    }
   ],
   "source": [
    "df.shape    # View the no.of. rows and columns"
   ]
  },
  {
   "cell_type": "code",
   "execution_count": 8,
   "id": "ded44e93",
   "metadata": {},
   "outputs": [
    {
     "name": "stdout",
     "output_type": "stream",
     "text": [
      "<class 'pandas.core.frame.DataFrame'>\n",
      "RangeIndex: 555719 entries, 0 to 555718\n",
      "Data columns (total 23 columns):\n",
      " #   Column                 Non-Null Count   Dtype         \n",
      "---  ------                 --------------   -----         \n",
      " 0   Unnamed: 0             555719 non-null  int64         \n",
      " 1   trans_date_trans_time  555719 non-null  datetime64[ns]\n",
      " 2   cc_num                 555719 non-null  float64       \n",
      " 3   merchant               555719 non-null  object        \n",
      " 4   category               555719 non-null  object        \n",
      " 5   amt                    555719 non-null  float64       \n",
      " 6   first                  555719 non-null  object        \n",
      " 7   last                   555719 non-null  object        \n",
      " 8   gender                 555719 non-null  object        \n",
      " 9   street                 555719 non-null  object        \n",
      " 10  city                   555719 non-null  object        \n",
      " 11  state                  555719 non-null  object        \n",
      " 12  zip                    555719 non-null  int64         \n",
      " 13  lat                    555719 non-null  float64       \n",
      " 14  long                   555719 non-null  float64       \n",
      " 15  city_pop               555719 non-null  int64         \n",
      " 16  job                    555719 non-null  object        \n",
      " 17  dob                    555719 non-null  object        \n",
      " 18  trans_num              555719 non-null  object        \n",
      " 19  unix_time              555719 non-null  int64         \n",
      " 20  merch_lat              555719 non-null  float64       \n",
      " 21  merch_long             555719 non-null  float64       \n",
      " 22  is_fraud               555719 non-null  int64         \n",
      "dtypes: datetime64[ns](1), float64(6), int64(5), object(11)\n",
      "memory usage: 97.5+ MB\n"
     ]
    }
   ],
   "source": [
    "df.info()   # Concise summary of the Dataset "
   ]
  },
  {
   "cell_type": "code",
   "execution_count": 9,
   "id": "650d3e11",
   "metadata": {},
   "outputs": [
    {
     "data": {
      "text/html": [
       "<div>\n",
       "<style scoped>\n",
       "    .dataframe tbody tr th:only-of-type {\n",
       "        vertical-align: middle;\n",
       "    }\n",
       "\n",
       "    .dataframe tbody tr th {\n",
       "        vertical-align: top;\n",
       "    }\n",
       "\n",
       "    .dataframe thead th {\n",
       "        text-align: right;\n",
       "    }\n",
       "</style>\n",
       "<table border=\"1\" class=\"dataframe\">\n",
       "  <thead>\n",
       "    <tr style=\"text-align: right;\">\n",
       "      <th></th>\n",
       "      <th>Unnamed: 0</th>\n",
       "      <th>cc_num</th>\n",
       "      <th>amt</th>\n",
       "      <th>zip</th>\n",
       "      <th>lat</th>\n",
       "      <th>long</th>\n",
       "      <th>city_pop</th>\n",
       "      <th>unix_time</th>\n",
       "      <th>merch_lat</th>\n",
       "      <th>merch_long</th>\n",
       "      <th>is_fraud</th>\n",
       "    </tr>\n",
       "  </thead>\n",
       "  <tbody>\n",
       "    <tr>\n",
       "      <th>count</th>\n",
       "      <td>555719.000000</td>\n",
       "      <td>5.557190e+05</td>\n",
       "      <td>555719.000000</td>\n",
       "      <td>555719.000000</td>\n",
       "      <td>555719.000000</td>\n",
       "      <td>555719.000000</td>\n",
       "      <td>5.557190e+05</td>\n",
       "      <td>5.557190e+05</td>\n",
       "      <td>555719.000000</td>\n",
       "      <td>555719.000000</td>\n",
       "      <td>555719.000000</td>\n",
       "    </tr>\n",
       "    <tr>\n",
       "      <th>mean</th>\n",
       "      <td>277859.000000</td>\n",
       "      <td>4.178387e+17</td>\n",
       "      <td>69.392810</td>\n",
       "      <td>48842.628015</td>\n",
       "      <td>38.543253</td>\n",
       "      <td>-90.231325</td>\n",
       "      <td>8.822189e+04</td>\n",
       "      <td>1.380679e+09</td>\n",
       "      <td>38.542798</td>\n",
       "      <td>-90.231380</td>\n",
       "      <td>0.003860</td>\n",
       "    </tr>\n",
       "    <tr>\n",
       "      <th>std</th>\n",
       "      <td>160422.401459</td>\n",
       "      <td>1.309837e+18</td>\n",
       "      <td>156.745941</td>\n",
       "      <td>26855.283328</td>\n",
       "      <td>5.061336</td>\n",
       "      <td>13.721780</td>\n",
       "      <td>3.003909e+05</td>\n",
       "      <td>5.201104e+06</td>\n",
       "      <td>5.095829</td>\n",
       "      <td>13.733071</td>\n",
       "      <td>0.062008</td>\n",
       "    </tr>\n",
       "    <tr>\n",
       "      <th>min</th>\n",
       "      <td>0.000000</td>\n",
       "      <td>6.041621e+10</td>\n",
       "      <td>1.000000</td>\n",
       "      <td>1257.000000</td>\n",
       "      <td>20.027100</td>\n",
       "      <td>-165.672300</td>\n",
       "      <td>2.300000e+01</td>\n",
       "      <td>1.371817e+09</td>\n",
       "      <td>19.027422</td>\n",
       "      <td>-166.671575</td>\n",
       "      <td>0.000000</td>\n",
       "    </tr>\n",
       "    <tr>\n",
       "      <th>25%</th>\n",
       "      <td>138929.500000</td>\n",
       "      <td>1.800430e+14</td>\n",
       "      <td>9.630000</td>\n",
       "      <td>26292.000000</td>\n",
       "      <td>34.668900</td>\n",
       "      <td>-96.798000</td>\n",
       "      <td>7.410000e+02</td>\n",
       "      <td>1.376029e+09</td>\n",
       "      <td>34.755302</td>\n",
       "      <td>-96.905129</td>\n",
       "      <td>0.000000</td>\n",
       "    </tr>\n",
       "    <tr>\n",
       "      <th>50%</th>\n",
       "      <td>277859.000000</td>\n",
       "      <td>3.521420e+15</td>\n",
       "      <td>47.290000</td>\n",
       "      <td>48174.000000</td>\n",
       "      <td>39.371600</td>\n",
       "      <td>-87.476900</td>\n",
       "      <td>2.408000e+03</td>\n",
       "      <td>1.380762e+09</td>\n",
       "      <td>39.376593</td>\n",
       "      <td>-87.445204</td>\n",
       "      <td>0.000000</td>\n",
       "    </tr>\n",
       "    <tr>\n",
       "      <th>75%</th>\n",
       "      <td>416788.500000</td>\n",
       "      <td>4.635330e+15</td>\n",
       "      <td>83.010000</td>\n",
       "      <td>72011.000000</td>\n",
       "      <td>41.894800</td>\n",
       "      <td>-80.175200</td>\n",
       "      <td>1.968500e+04</td>\n",
       "      <td>1.385867e+09</td>\n",
       "      <td>41.954163</td>\n",
       "      <td>-80.264637</td>\n",
       "      <td>0.000000</td>\n",
       "    </tr>\n",
       "    <tr>\n",
       "      <th>max</th>\n",
       "      <td>555718.000000</td>\n",
       "      <td>4.992350e+18</td>\n",
       "      <td>22768.110000</td>\n",
       "      <td>99921.000000</td>\n",
       "      <td>65.689900</td>\n",
       "      <td>-67.950300</td>\n",
       "      <td>2.906700e+06</td>\n",
       "      <td>1.388534e+09</td>\n",
       "      <td>66.679297</td>\n",
       "      <td>-66.952026</td>\n",
       "      <td>1.000000</td>\n",
       "    </tr>\n",
       "  </tbody>\n",
       "</table>\n",
       "</div>"
      ],
      "text/plain": [
       "          Unnamed: 0        cc_num            amt            zip  \\\n",
       "count  555719.000000  5.557190e+05  555719.000000  555719.000000   \n",
       "mean   277859.000000  4.178387e+17      69.392810   48842.628015   \n",
       "std    160422.401459  1.309837e+18     156.745941   26855.283328   \n",
       "min         0.000000  6.041621e+10       1.000000    1257.000000   \n",
       "25%    138929.500000  1.800430e+14       9.630000   26292.000000   \n",
       "50%    277859.000000  3.521420e+15      47.290000   48174.000000   \n",
       "75%    416788.500000  4.635330e+15      83.010000   72011.000000   \n",
       "max    555718.000000  4.992350e+18   22768.110000   99921.000000   \n",
       "\n",
       "                 lat           long      city_pop     unix_time  \\\n",
       "count  555719.000000  555719.000000  5.557190e+05  5.557190e+05   \n",
       "mean       38.543253     -90.231325  8.822189e+04  1.380679e+09   \n",
       "std         5.061336      13.721780  3.003909e+05  5.201104e+06   \n",
       "min        20.027100    -165.672300  2.300000e+01  1.371817e+09   \n",
       "25%        34.668900     -96.798000  7.410000e+02  1.376029e+09   \n",
       "50%        39.371600     -87.476900  2.408000e+03  1.380762e+09   \n",
       "75%        41.894800     -80.175200  1.968500e+04  1.385867e+09   \n",
       "max        65.689900     -67.950300  2.906700e+06  1.388534e+09   \n",
       "\n",
       "           merch_lat     merch_long       is_fraud  \n",
       "count  555719.000000  555719.000000  555719.000000  \n",
       "mean       38.542798     -90.231380       0.003860  \n",
       "std         5.095829      13.733071       0.062008  \n",
       "min        19.027422    -166.671575       0.000000  \n",
       "25%        34.755302     -96.905129       0.000000  \n",
       "50%        39.376593     -87.445204       0.000000  \n",
       "75%        41.954163     -80.264637       0.000000  \n",
       "max        66.679297     -66.952026       1.000000  "
      ]
     },
     "execution_count": 9,
     "metadata": {},
     "output_type": "execute_result"
    }
   ],
   "source": [
    "df.describe()  #Generate descriptive statistic of the dataset"
   ]
  },
  {
   "cell_type": "code",
   "execution_count": 10,
   "id": "6e612ac9",
   "metadata": {},
   "outputs": [
    {
     "data": {
      "text/plain": [
       "Index(['Unnamed: 0', 'trans_date_trans_time', 'cc_num', 'merchant', 'category',\n",
       "       'amt', 'first', 'last', 'gender', 'street', 'city', 'state', 'zip',\n",
       "       'lat', 'long', 'city_pop', 'job', 'dob', 'trans_num', 'unix_time',\n",
       "       'merch_lat', 'merch_long', 'is_fraud'],\n",
       "      dtype='object')"
      ]
     },
     "execution_count": 10,
     "metadata": {},
     "output_type": "execute_result"
    }
   ],
   "source": [
    "df.columns  # View all the column names"
   ]
  },
  {
   "cell_type": "code",
   "execution_count": 11,
   "id": "8a63c7de",
   "metadata": {},
   "outputs": [
    {
     "data": {
      "text/plain": [
       "array([0, 1], dtype=int64)"
      ]
     },
     "execution_count": 11,
     "metadata": {},
     "output_type": "execute_result"
    }
   ],
   "source": [
    "df['is_fraud'].unique()   # Check the array of distinct values of the Target column"
   ]
  },
  {
   "cell_type": "code",
   "execution_count": 12,
   "id": "a39bef6a",
   "metadata": {},
   "outputs": [
    {
     "data": {
      "text/plain": [
       "pandas._libs.tslibs.timestamps.Timestamp"
      ]
     },
     "execution_count": 12,
     "metadata": {},
     "output_type": "execute_result"
    }
   ],
   "source": [
    "type(df.trans_date_trans_time[0])   # view the datatype of the timeseries column"
   ]
  },
  {
   "cell_type": "code",
   "execution_count": 13,
   "id": "25d2ce22",
   "metadata": {},
   "outputs": [
    {
     "data": {
      "text/plain": [
       "Unnamed: 0               0\n",
       "trans_date_trans_time    0\n",
       "cc_num                   0\n",
       "merchant                 0\n",
       "category                 0\n",
       "amt                      0\n",
       "first                    0\n",
       "last                     0\n",
       "gender                   0\n",
       "street                   0\n",
       "city                     0\n",
       "state                    0\n",
       "zip                      0\n",
       "lat                      0\n",
       "long                     0\n",
       "city_pop                 0\n",
       "job                      0\n",
       "dob                      0\n",
       "trans_num                0\n",
       "unix_time                0\n",
       "merch_lat                0\n",
       "merch_long               0\n",
       "is_fraud                 0\n",
       "dtype: int64"
      ]
     },
     "execution_count": 13,
     "metadata": {},
     "output_type": "execute_result"
    }
   ],
   "source": [
    "df.isnull().sum()     #check the null values(There is no null values)"
   ]
  },
  {
   "cell_type": "code",
   "execution_count": 14,
   "id": "f9369b91",
   "metadata": {},
   "outputs": [
    {
     "data": {
      "text/plain": [
       "0"
      ]
     },
     "execution_count": 14,
     "metadata": {},
     "output_type": "execute_result"
    }
   ],
   "source": [
    "df.duplicated().sum()     #check the duplicte values (There is no duplicate values)"
   ]
  },
  {
   "cell_type": "markdown",
   "id": "60aa36f5",
   "metadata": {},
   "source": [
    "4) EDA PROCESS\n",
    "      - Drop the unwanted columns\n",
    "      - Do set_index \n",
    "      - Do LabelEncoding for object columns\n",
    "      - Plot to find the outliers\n",
    "      - Remove outliers  "
   ]
  },
  {
   "cell_type": "code",
   "execution_count": 15,
   "id": "cd3769ee",
   "metadata": {},
   "outputs": [],
   "source": [
    "df.drop(columns={'Unnamed: 0','merchant','first','last','gender','street','city','state','lat','long','city_pop','merch_lat','merch_long','unix_time'},inplace=True)"
   ]
  },
  {
   "cell_type": "code",
   "execution_count": 16,
   "id": "d639b764",
   "metadata": {},
   "outputs": [
    {
     "data": {
      "text/html": [
       "<div>\n",
       "<style scoped>\n",
       "    .dataframe tbody tr th:only-of-type {\n",
       "        vertical-align: middle;\n",
       "    }\n",
       "\n",
       "    .dataframe tbody tr th {\n",
       "        vertical-align: top;\n",
       "    }\n",
       "\n",
       "    .dataframe thead th {\n",
       "        text-align: right;\n",
       "    }\n",
       "</style>\n",
       "<table border=\"1\" class=\"dataframe\">\n",
       "  <thead>\n",
       "    <tr style=\"text-align: right;\">\n",
       "      <th></th>\n",
       "      <th>cc_num</th>\n",
       "      <th>category</th>\n",
       "      <th>amt</th>\n",
       "      <th>zip</th>\n",
       "      <th>job</th>\n",
       "      <th>dob</th>\n",
       "      <th>trans_num</th>\n",
       "      <th>is_fraud</th>\n",
       "    </tr>\n",
       "    <tr>\n",
       "      <th>trans_date_trans_time</th>\n",
       "      <th></th>\n",
       "      <th></th>\n",
       "      <th></th>\n",
       "      <th></th>\n",
       "      <th></th>\n",
       "      <th></th>\n",
       "      <th></th>\n",
       "      <th></th>\n",
       "    </tr>\n",
       "  </thead>\n",
       "  <tbody>\n",
       "    <tr>\n",
       "      <th>2020-06-21 12:14:00</th>\n",
       "      <td>2.291160e+15</td>\n",
       "      <td>personal_care</td>\n",
       "      <td>2.86</td>\n",
       "      <td>29209</td>\n",
       "      <td>Mechanical engineer</td>\n",
       "      <td>19/03/1968</td>\n",
       "      <td>2da90c7d74bd46a0caf3777415b3ebd3</td>\n",
       "      <td>0</td>\n",
       "    </tr>\n",
       "    <tr>\n",
       "      <th>2020-06-21 12:14:00</th>\n",
       "      <td>3.573030e+15</td>\n",
       "      <td>personal_care</td>\n",
       "      <td>29.84</td>\n",
       "      <td>84002</td>\n",
       "      <td>Sales professional, IT</td>\n",
       "      <td>17/01/1990</td>\n",
       "      <td>324cc204407e99f51b0d6ca0055005e7</td>\n",
       "      <td>0</td>\n",
       "    </tr>\n",
       "    <tr>\n",
       "      <th>2020-06-21 12:14:00</th>\n",
       "      <td>3.598220e+15</td>\n",
       "      <td>health_fitness</td>\n",
       "      <td>41.28</td>\n",
       "      <td>11710</td>\n",
       "      <td>Librarian, public</td>\n",
       "      <td>21/10/1970</td>\n",
       "      <td>c81755dbbbea9d5c77f094348a7579be</td>\n",
       "      <td>0</td>\n",
       "    </tr>\n",
       "    <tr>\n",
       "      <th>2020-06-21 12:15:00</th>\n",
       "      <td>3.591920e+15</td>\n",
       "      <td>misc_pos</td>\n",
       "      <td>60.05</td>\n",
       "      <td>32780</td>\n",
       "      <td>Set designer</td>\n",
       "      <td>25/07/1987</td>\n",
       "      <td>2159175b9efe66dc301f149d3d5abf8c</td>\n",
       "      <td>0</td>\n",
       "    </tr>\n",
       "    <tr>\n",
       "      <th>2020-06-21 12:15:00</th>\n",
       "      <td>3.526830e+15</td>\n",
       "      <td>travel</td>\n",
       "      <td>3.19</td>\n",
       "      <td>49632</td>\n",
       "      <td>Furniture designer</td>\n",
       "      <td>06/07/1955</td>\n",
       "      <td>57ff021bd3f328f8738bb535c302a31b</td>\n",
       "      <td>0</td>\n",
       "    </tr>\n",
       "    <tr>\n",
       "      <th>...</th>\n",
       "      <td>...</td>\n",
       "      <td>...</td>\n",
       "      <td>...</td>\n",
       "      <td>...</td>\n",
       "      <td>...</td>\n",
       "      <td>...</td>\n",
       "      <td>...</td>\n",
       "      <td>...</td>\n",
       "    </tr>\n",
       "    <tr>\n",
       "      <th>2020-12-31 23:59:00</th>\n",
       "      <td>3.056060e+13</td>\n",
       "      <td>health_fitness</td>\n",
       "      <td>43.77</td>\n",
       "      <td>63453</td>\n",
       "      <td>Town planner</td>\n",
       "      <td>13/02/1966</td>\n",
       "      <td>9b1f753c79894c9f4b71f04581835ada</td>\n",
       "      <td>0</td>\n",
       "    </tr>\n",
       "    <tr>\n",
       "      <th>2020-12-31 23:59:00</th>\n",
       "      <td>3.556610e+15</td>\n",
       "      <td>kids_pets</td>\n",
       "      <td>111.84</td>\n",
       "      <td>77566</td>\n",
       "      <td>Futures trader</td>\n",
       "      <td>27/12/1999</td>\n",
       "      <td>2090647dac2c89a1d86c514c427f5b91</td>\n",
       "      <td>0</td>\n",
       "    </tr>\n",
       "    <tr>\n",
       "      <th>2020-12-31 23:59:00</th>\n",
       "      <td>6.011720e+15</td>\n",
       "      <td>kids_pets</td>\n",
       "      <td>86.88</td>\n",
       "      <td>99323</td>\n",
       "      <td>Musician</td>\n",
       "      <td>29/11/1981</td>\n",
       "      <td>6c5b7c8add471975aa0fec023b2e8408</td>\n",
       "      <td>0</td>\n",
       "    </tr>\n",
       "    <tr>\n",
       "      <th>2020-12-31 23:59:00</th>\n",
       "      <td>4.079770e+12</td>\n",
       "      <td>travel</td>\n",
       "      <td>7.99</td>\n",
       "      <td>83643</td>\n",
       "      <td>Cartographer</td>\n",
       "      <td>15/12/1965</td>\n",
       "      <td>14392d723bb7737606b2700ac791b7aa</td>\n",
       "      <td>0</td>\n",
       "    </tr>\n",
       "    <tr>\n",
       "      <th>2020-12-31 23:59:00</th>\n",
       "      <td>4.170690e+15</td>\n",
       "      <td>entertainment</td>\n",
       "      <td>38.13</td>\n",
       "      <td>73034</td>\n",
       "      <td>Media buyer</td>\n",
       "      <td>10/05/1993</td>\n",
       "      <td>1765bb45b3aa3224b4cdcb6e7a96cee3</td>\n",
       "      <td>0</td>\n",
       "    </tr>\n",
       "  </tbody>\n",
       "</table>\n",
       "<p>555719 rows × 8 columns</p>\n",
       "</div>"
      ],
      "text/plain": [
       "                             cc_num        category     amt    zip  \\\n",
       "trans_date_trans_time                                                \n",
       "2020-06-21 12:14:00    2.291160e+15   personal_care    2.86  29209   \n",
       "2020-06-21 12:14:00    3.573030e+15   personal_care   29.84  84002   \n",
       "2020-06-21 12:14:00    3.598220e+15  health_fitness   41.28  11710   \n",
       "2020-06-21 12:15:00    3.591920e+15        misc_pos   60.05  32780   \n",
       "2020-06-21 12:15:00    3.526830e+15          travel    3.19  49632   \n",
       "...                             ...             ...     ...    ...   \n",
       "2020-12-31 23:59:00    3.056060e+13  health_fitness   43.77  63453   \n",
       "2020-12-31 23:59:00    3.556610e+15       kids_pets  111.84  77566   \n",
       "2020-12-31 23:59:00    6.011720e+15       kids_pets   86.88  99323   \n",
       "2020-12-31 23:59:00    4.079770e+12          travel    7.99  83643   \n",
       "2020-12-31 23:59:00    4.170690e+15   entertainment   38.13  73034   \n",
       "\n",
       "                                          job         dob  \\\n",
       "trans_date_trans_time                                       \n",
       "2020-06-21 12:14:00       Mechanical engineer  19/03/1968   \n",
       "2020-06-21 12:14:00    Sales professional, IT  17/01/1990   \n",
       "2020-06-21 12:14:00         Librarian, public  21/10/1970   \n",
       "2020-06-21 12:15:00              Set designer  25/07/1987   \n",
       "2020-06-21 12:15:00        Furniture designer  06/07/1955   \n",
       "...                                       ...         ...   \n",
       "2020-12-31 23:59:00              Town planner  13/02/1966   \n",
       "2020-12-31 23:59:00            Futures trader  27/12/1999   \n",
       "2020-12-31 23:59:00                  Musician  29/11/1981   \n",
       "2020-12-31 23:59:00              Cartographer  15/12/1965   \n",
       "2020-12-31 23:59:00               Media buyer  10/05/1993   \n",
       "\n",
       "                                              trans_num  is_fraud  \n",
       "trans_date_trans_time                                              \n",
       "2020-06-21 12:14:00    2da90c7d74bd46a0caf3777415b3ebd3         0  \n",
       "2020-06-21 12:14:00    324cc204407e99f51b0d6ca0055005e7         0  \n",
       "2020-06-21 12:14:00    c81755dbbbea9d5c77f094348a7579be         0  \n",
       "2020-06-21 12:15:00    2159175b9efe66dc301f149d3d5abf8c         0  \n",
       "2020-06-21 12:15:00    57ff021bd3f328f8738bb535c302a31b         0  \n",
       "...                                                 ...       ...  \n",
       "2020-12-31 23:59:00    9b1f753c79894c9f4b71f04581835ada         0  \n",
       "2020-12-31 23:59:00    2090647dac2c89a1d86c514c427f5b91         0  \n",
       "2020-12-31 23:59:00    6c5b7c8add471975aa0fec023b2e8408         0  \n",
       "2020-12-31 23:59:00    14392d723bb7737606b2700ac791b7aa         0  \n",
       "2020-12-31 23:59:00    1765bb45b3aa3224b4cdcb6e7a96cee3         0  \n",
       "\n",
       "[555719 rows x 8 columns]"
      ]
     },
     "execution_count": 16,
     "metadata": {},
     "output_type": "execute_result"
    }
   ],
   "source": [
    "df.set_index('trans_date_trans_time',inplace=True)    #making the datetime64 column as index to plot\n",
    "df"
   ]
  },
  {
   "cell_type": "code",
   "execution_count": 17,
   "id": "1fb029ce",
   "metadata": {},
   "outputs": [],
   "source": [
    "label_encoder=LabelEncoder()  #passing instance for label encoder"
   ]
  },
  {
   "cell_type": "code",
   "execution_count": 18,
   "id": "fdb55189",
   "metadata": {},
   "outputs": [],
   "source": [
    "for i in df.columns:\n",
    "    if df[i].dtype == 'object':\n",
    "         df[i]=label_encoder.fit_transform(df[i])     #convert the categorical column to numerical"
   ]
  },
  {
   "cell_type": "code",
   "execution_count": 19,
   "id": "41d681f4",
   "metadata": {},
   "outputs": [
    {
     "data": {
      "text/html": [
       "<div>\n",
       "<style scoped>\n",
       "    .dataframe tbody tr th:only-of-type {\n",
       "        vertical-align: middle;\n",
       "    }\n",
       "\n",
       "    .dataframe tbody tr th {\n",
       "        vertical-align: top;\n",
       "    }\n",
       "\n",
       "    .dataframe thead th {\n",
       "        text-align: right;\n",
       "    }\n",
       "</style>\n",
       "<table border=\"1\" class=\"dataframe\">\n",
       "  <thead>\n",
       "    <tr style=\"text-align: right;\">\n",
       "      <th></th>\n",
       "      <th>cc_num</th>\n",
       "      <th>category</th>\n",
       "      <th>amt</th>\n",
       "      <th>zip</th>\n",
       "      <th>job</th>\n",
       "      <th>dob</th>\n",
       "      <th>trans_num</th>\n",
       "      <th>is_fraud</th>\n",
       "    </tr>\n",
       "    <tr>\n",
       "      <th>trans_date_trans_time</th>\n",
       "      <th></th>\n",
       "      <th></th>\n",
       "      <th></th>\n",
       "      <th></th>\n",
       "      <th></th>\n",
       "      <th></th>\n",
       "      <th></th>\n",
       "      <th></th>\n",
       "    </tr>\n",
       "  </thead>\n",
       "  <tbody>\n",
       "    <tr>\n",
       "      <th>2020-06-21 12:14:00</th>\n",
       "      <td>2.291160e+15</td>\n",
       "      <td>10</td>\n",
       "      <td>2.86</td>\n",
       "      <td>29209</td>\n",
       "      <td>275</td>\n",
       "      <td>544</td>\n",
       "      <td>98699</td>\n",
       "      <td>0</td>\n",
       "    </tr>\n",
       "    <tr>\n",
       "      <th>2020-06-21 12:14:00</th>\n",
       "      <td>3.573030e+15</td>\n",
       "      <td>10</td>\n",
       "      <td>29.84</td>\n",
       "      <td>84002</td>\n",
       "      <td>392</td>\n",
       "      <td>481</td>\n",
       "      <td>108785</td>\n",
       "      <td>0</td>\n",
       "    </tr>\n",
       "    <tr>\n",
       "      <th>2020-06-21 12:14:00</th>\n",
       "      <td>3.598220e+15</td>\n",
       "      <td>5</td>\n",
       "      <td>41.28</td>\n",
       "      <td>11710</td>\n",
       "      <td>259</td>\n",
       "      <td>622</td>\n",
       "      <td>433979</td>\n",
       "      <td>0</td>\n",
       "    </tr>\n",
       "    <tr>\n",
       "      <th>2020-06-21 12:15:00</th>\n",
       "      <td>3.591920e+15</td>\n",
       "      <td>9</td>\n",
       "      <td>60.05</td>\n",
       "      <td>32780</td>\n",
       "      <td>407</td>\n",
       "      <td>732</td>\n",
       "      <td>71993</td>\n",
       "      <td>0</td>\n",
       "    </tr>\n",
       "    <tr>\n",
       "      <th>2020-06-21 12:15:00</th>\n",
       "      <td>3.526830e+15</td>\n",
       "      <td>13</td>\n",
       "      <td>3.19</td>\n",
       "      <td>49632</td>\n",
       "      <td>196</td>\n",
       "      <td>169</td>\n",
       "      <td>190585</td>\n",
       "      <td>0</td>\n",
       "    </tr>\n",
       "  </tbody>\n",
       "</table>\n",
       "</div>"
      ],
      "text/plain": [
       "                             cc_num  category    amt    zip  job  dob  \\\n",
       "trans_date_trans_time                                                   \n",
       "2020-06-21 12:14:00    2.291160e+15        10   2.86  29209  275  544   \n",
       "2020-06-21 12:14:00    3.573030e+15        10  29.84  84002  392  481   \n",
       "2020-06-21 12:14:00    3.598220e+15         5  41.28  11710  259  622   \n",
       "2020-06-21 12:15:00    3.591920e+15         9  60.05  32780  407  732   \n",
       "2020-06-21 12:15:00    3.526830e+15        13   3.19  49632  196  169   \n",
       "\n",
       "                       trans_num  is_fraud  \n",
       "trans_date_trans_time                       \n",
       "2020-06-21 12:14:00        98699         0  \n",
       "2020-06-21 12:14:00       108785         0  \n",
       "2020-06-21 12:14:00       433979         0  \n",
       "2020-06-21 12:15:00        71993         0  \n",
       "2020-06-21 12:15:00       190585         0  "
      ]
     },
     "execution_count": 19,
     "metadata": {},
     "output_type": "execute_result"
    }
   ],
   "source": [
    "df.head()         "
   ]
  },
  {
   "cell_type": "code",
   "execution_count": 20,
   "id": "6ab10d33",
   "metadata": {},
   "outputs": [
    {
     "data": {
      "text/plain": [
       "{'whiskers': [<matplotlib.lines.Line2D at 0x259430c74f0>,\n",
       "  <matplotlib.lines.Line2D at 0x259430c77f0>,\n",
       "  <matplotlib.lines.Line2D at 0x25944e59940>,\n",
       "  <matplotlib.lines.Line2D at 0x25944e59c10>,\n",
       "  <matplotlib.lines.Line2D at 0x25943656d30>,\n",
       "  <matplotlib.lines.Line2D at 0x25943661040>,\n",
       "  <matplotlib.lines.Line2D at 0x2594366f160>,\n",
       "  <matplotlib.lines.Line2D at 0x2594366f430>,\n",
       "  <matplotlib.lines.Line2D at 0x2593bc73550>,\n",
       "  <matplotlib.lines.Line2D at 0x2593bc73820>,\n",
       "  <matplotlib.lines.Line2D at 0x2593bc81940>,\n",
       "  <matplotlib.lines.Line2D at 0x2593bc81c10>,\n",
       "  <matplotlib.lines.Line2D at 0x2593bc8bd30>,\n",
       "  <matplotlib.lines.Line2D at 0x2593d7d9040>,\n",
       "  <matplotlib.lines.Line2D at 0x2593d7e7160>,\n",
       "  <matplotlib.lines.Line2D at 0x2593d7e7430>],\n",
       " 'caps': [<matplotlib.lines.Line2D at 0x259430c7ac0>,\n",
       "  <matplotlib.lines.Line2D at 0x259430c7d90>,\n",
       "  <matplotlib.lines.Line2D at 0x25944e59ee0>,\n",
       "  <matplotlib.lines.Line2D at 0x259436561f0>,\n",
       "  <matplotlib.lines.Line2D at 0x25943661310>,\n",
       "  <matplotlib.lines.Line2D at 0x259436615e0>,\n",
       "  <matplotlib.lines.Line2D at 0x2594366f700>,\n",
       "  <matplotlib.lines.Line2D at 0x2594366f9d0>,\n",
       "  <matplotlib.lines.Line2D at 0x2593bc73af0>,\n",
       "  <matplotlib.lines.Line2D at 0x2593bc73dc0>,\n",
       "  <matplotlib.lines.Line2D at 0x2593bc81ee0>,\n",
       "  <matplotlib.lines.Line2D at 0x2593bc8b1f0>,\n",
       "  <matplotlib.lines.Line2D at 0x2593d7d9310>,\n",
       "  <matplotlib.lines.Line2D at 0x2593d7d95e0>,\n",
       "  <matplotlib.lines.Line2D at 0x2593d7e7700>,\n",
       "  <matplotlib.lines.Line2D at 0x2593d7e79d0>],\n",
       " 'boxes': [<matplotlib.lines.Line2D at 0x259430c7370>,\n",
       "  <matplotlib.lines.Line2D at 0x25944e59670>,\n",
       "  <matplotlib.lines.Line2D at 0x25943656a60>,\n",
       "  <matplotlib.lines.Line2D at 0x25943661e50>,\n",
       "  <matplotlib.lines.Line2D at 0x2593bc73280>,\n",
       "  <matplotlib.lines.Line2D at 0x2593bc81670>,\n",
       "  <matplotlib.lines.Line2D at 0x2593bc8ba60>,\n",
       "  <matplotlib.lines.Line2D at 0x2593d7d9e50>],\n",
       " 'medians': [<matplotlib.lines.Line2D at 0x25944e590a0>,\n",
       "  <matplotlib.lines.Line2D at 0x259436564c0>,\n",
       "  <matplotlib.lines.Line2D at 0x259436618b0>,\n",
       "  <matplotlib.lines.Line2D at 0x2594366fca0>,\n",
       "  <matplotlib.lines.Line2D at 0x2593bc810d0>,\n",
       "  <matplotlib.lines.Line2D at 0x2593bc8b4c0>,\n",
       "  <matplotlib.lines.Line2D at 0x2593d7d98b0>,\n",
       "  <matplotlib.lines.Line2D at 0x2593d7e7ca0>],\n",
       " 'fliers': [<matplotlib.lines.Line2D at 0x25944e59370>,\n",
       "  <matplotlib.lines.Line2D at 0x25943656790>,\n",
       "  <matplotlib.lines.Line2D at 0x25943661b80>,\n",
       "  <matplotlib.lines.Line2D at 0x2594366ff70>,\n",
       "  <matplotlib.lines.Line2D at 0x2593bc813a0>,\n",
       "  <matplotlib.lines.Line2D at 0x2593bc8b790>,\n",
       "  <matplotlib.lines.Line2D at 0x2593d7d9b80>,\n",
       "  <matplotlib.lines.Line2D at 0x2593d7e7f70>],\n",
       " 'means': []}"
      ]
     },
     "execution_count": 20,
     "metadata": {},
     "output_type": "execute_result"
    },
    {
     "data": {
      "image/png": "[encoded data removed]",
      "text/plain": [
       "<Figure size 640x480 with 1 Axes>"
      ]
     },
     "metadata": {},
     "output_type": "display_data"
    }
   ],
   "source": [
    "plt.boxplot(df)    #plot to view outliers"
   ]
  },
  {
   "cell_type": "code",
   "execution_count": 21,
   "id": "4997d64e",
   "metadata": {},
   "outputs": [],
   "source": [
    "#Using IQR method to remove outliers\n",
    "#using trimming since the datset is large\n",
    "  \n",
    "\n",
    "q3=df['cc_num'].quantile(0.75)\n",
    "q1=df['cc_num'].quantile(0.25)\n",
    "iqr=q3-q1\n",
    "upper_limit=q3+(1.5*iqr)\n",
    "lower_limit=q1-(1.5*iqr)\n",
    "df=df[~(df['cc_num']<upper_limit)]"
   ]
  },
  {
   "cell_type": "code",
   "execution_count": 22,
   "id": "76b89eb9",
   "metadata": {},
   "outputs": [
    {
     "data": {
      "text/plain": [
       "{'whiskers': [<matplotlib.lines.Line2D at 0x2593d6e98b0>,\n",
       "  <matplotlib.lines.Line2D at 0x2593d6e9b80>,\n",
       "  <matplotlib.lines.Line2D at 0x2593d6f9ca0>,\n",
       "  <matplotlib.lines.Line2D at 0x2593d6f9f70>,\n",
       "  <matplotlib.lines.Line2D at 0x259453e20d0>,\n",
       "  <matplotlib.lines.Line2D at 0x259453e23a0>,\n",
       "  <matplotlib.lines.Line2D at 0x259453ef4c0>,\n",
       "  <matplotlib.lines.Line2D at 0x259453ef790>,\n",
       "  <matplotlib.lines.Line2D at 0x259453fe8b0>,\n",
       "  <matplotlib.lines.Line2D at 0x259453feb80>,\n",
       "  <matplotlib.lines.Line2D at 0x2594540aca0>,\n",
       "  <matplotlib.lines.Line2D at 0x2594540af70>,\n",
       "  <matplotlib.lines.Line2D at 0x259470440d0>,\n",
       "  <matplotlib.lines.Line2D at 0x259470443a0>,\n",
       "  <matplotlib.lines.Line2D at 0x259470504c0>,\n",
       "  <matplotlib.lines.Line2D at 0x25947050790>],\n",
       " 'caps': [<matplotlib.lines.Line2D at 0x2593d6e9e50>,\n",
       "  <matplotlib.lines.Line2D at 0x2593d6f9160>,\n",
       "  <matplotlib.lines.Line2D at 0x2593d705280>,\n",
       "  <matplotlib.lines.Line2D at 0x2593d705550>,\n",
       "  <matplotlib.lines.Line2D at 0x259453e2670>,\n",
       "  <matplotlib.lines.Line2D at 0x259453e2940>,\n",
       "  <matplotlib.lines.Line2D at 0x259453efa60>,\n",
       "  <matplotlib.lines.Line2D at 0x259453efd30>,\n",
       "  <matplotlib.lines.Line2D at 0x259453fee50>,\n",
       "  <matplotlib.lines.Line2D at 0x2594540a160>,\n",
       "  <matplotlib.lines.Line2D at 0x25945417280>,\n",
       "  <matplotlib.lines.Line2D at 0x25945417550>,\n",
       "  <matplotlib.lines.Line2D at 0x25947044670>,\n",
       "  <matplotlib.lines.Line2D at 0x25947044940>,\n",
       "  <matplotlib.lines.Line2D at 0x25947050a60>,\n",
       "  <matplotlib.lines.Line2D at 0x25947050d30>],\n",
       " 'boxes': [<matplotlib.lines.Line2D at 0x2593d6e95e0>,\n",
       "  <matplotlib.lines.Line2D at 0x2593d6f99d0>,\n",
       "  <matplotlib.lines.Line2D at 0x2593d705dc0>,\n",
       "  <matplotlib.lines.Line2D at 0x259453ef1f0>,\n",
       "  <matplotlib.lines.Line2D at 0x259453fe5e0>,\n",
       "  <matplotlib.lines.Line2D at 0x2594540a9d0>,\n",
       "  <matplotlib.lines.Line2D at 0x25945417dc0>,\n",
       "  <matplotlib.lines.Line2D at 0x259470501f0>],\n",
       " 'medians': [<matplotlib.lines.Line2D at 0x2593d6f9430>,\n",
       "  <matplotlib.lines.Line2D at 0x2593d705820>,\n",
       "  <matplotlib.lines.Line2D at 0x259453e2c10>,\n",
       "  <matplotlib.lines.Line2D at 0x259453fe040>,\n",
       "  <matplotlib.lines.Line2D at 0x2594540a430>,\n",
       "  <matplotlib.lines.Line2D at 0x25945417820>,\n",
       "  <matplotlib.lines.Line2D at 0x25947044c10>,\n",
       "  <matplotlib.lines.Line2D at 0x25947060040>],\n",
       " 'fliers': [<matplotlib.lines.Line2D at 0x2593d6f9700>,\n",
       "  <matplotlib.lines.Line2D at 0x2593d705af0>,\n",
       "  <matplotlib.lines.Line2D at 0x259453e2ee0>,\n",
       "  <matplotlib.lines.Line2D at 0x259453fe310>,\n",
       "  <matplotlib.lines.Line2D at 0x2594540a700>,\n",
       "  <matplotlib.lines.Line2D at 0x25945417af0>,\n",
       "  <matplotlib.lines.Line2D at 0x25947044ee0>,\n",
       "  <matplotlib.lines.Line2D at 0x25947060310>],\n",
       " 'means': []}"
      ]
     },
     "execution_count": 22,
     "metadata": {},
     "output_type": "execute_result"
    },
    {
     "data": {
      "image/png": "[encoded data removed]",
      "text/plain": [
       "<Figure size 640x480 with 1 Axes>"
      ]
     },
     "metadata": {},
     "output_type": "display_data"
    }
   ],
   "source": [
    "plt.boxplot(df)"
   ]
  },
  {
   "cell_type": "code",
   "execution_count": 23,
   "id": "4f9ddf63",
   "metadata": {},
   "outputs": [
    {
     "data": {
      "text/html": [
       "<div>\n",
       "<style scoped>\n",
       "    .dataframe tbody tr th:only-of-type {\n",
       "        vertical-align: middle;\n",
       "    }\n",
       "\n",
       "    .dataframe tbody tr th {\n",
       "        vertical-align: top;\n",
       "    }\n",
       "\n",
       "    .dataframe thead th {\n",
       "        text-align: right;\n",
       "    }\n",
       "</style>\n",
       "<table border=\"1\" class=\"dataframe\">\n",
       "  <thead>\n",
       "    <tr style=\"text-align: right;\">\n",
       "      <th></th>\n",
       "      <th>cc_num</th>\n",
       "      <th>category</th>\n",
       "      <th>amt</th>\n",
       "      <th>zip</th>\n",
       "      <th>job</th>\n",
       "      <th>dob</th>\n",
       "      <th>trans_num</th>\n",
       "      <th>is_fraud</th>\n",
       "    </tr>\n",
       "  </thead>\n",
       "  <tbody>\n",
       "    <tr>\n",
       "      <th>cc_num</th>\n",
       "      <td>1.000000</td>\n",
       "      <td>0.000573</td>\n",
       "      <td>-0.000402</td>\n",
       "      <td>-0.163650</td>\n",
       "      <td>0.055548</td>\n",
       "      <td>0.192530</td>\n",
       "      <td>-0.002649</td>\n",
       "      <td>0.019648</td>\n",
       "    </tr>\n",
       "    <tr>\n",
       "      <th>category</th>\n",
       "      <td>0.000573</td>\n",
       "      <td>1.000000</td>\n",
       "      <td>0.023012</td>\n",
       "      <td>0.007440</td>\n",
       "      <td>0.003527</td>\n",
       "      <td>0.005875</td>\n",
       "      <td>0.002845</td>\n",
       "      <td>0.006544</td>\n",
       "    </tr>\n",
       "    <tr>\n",
       "      <th>amt</th>\n",
       "      <td>-0.000402</td>\n",
       "      <td>0.023012</td>\n",
       "      <td>1.000000</td>\n",
       "      <td>-0.004406</td>\n",
       "      <td>-0.016322</td>\n",
       "      <td>-0.004795</td>\n",
       "      <td>-0.000912</td>\n",
       "      <td>0.114406</td>\n",
       "    </tr>\n",
       "    <tr>\n",
       "      <th>zip</th>\n",
       "      <td>-0.163650</td>\n",
       "      <td>0.007440</td>\n",
       "      <td>-0.004406</td>\n",
       "      <td>1.000000</td>\n",
       "      <td>0.107926</td>\n",
       "      <td>-0.194417</td>\n",
       "      <td>0.002013</td>\n",
       "      <td>-0.010189</td>\n",
       "    </tr>\n",
       "    <tr>\n",
       "      <th>job</th>\n",
       "      <td>0.055548</td>\n",
       "      <td>0.003527</td>\n",
       "      <td>-0.016322</td>\n",
       "      <td>0.107926</td>\n",
       "      <td>1.000000</td>\n",
       "      <td>0.124887</td>\n",
       "      <td>0.001894</td>\n",
       "      <td>-0.003515</td>\n",
       "    </tr>\n",
       "    <tr>\n",
       "      <th>dob</th>\n",
       "      <td>0.192530</td>\n",
       "      <td>0.005875</td>\n",
       "      <td>-0.004795</td>\n",
       "      <td>-0.194417</td>\n",
       "      <td>0.124887</td>\n",
       "      <td>1.000000</td>\n",
       "      <td>0.000708</td>\n",
       "      <td>-0.026149</td>\n",
       "    </tr>\n",
       "    <tr>\n",
       "      <th>trans_num</th>\n",
       "      <td>-0.002649</td>\n",
       "      <td>0.002845</td>\n",
       "      <td>-0.000912</td>\n",
       "      <td>0.002013</td>\n",
       "      <td>0.001894</td>\n",
       "      <td>0.000708</td>\n",
       "      <td>1.000000</td>\n",
       "      <td>-0.001916</td>\n",
       "    </tr>\n",
       "    <tr>\n",
       "      <th>is_fraud</th>\n",
       "      <td>0.019648</td>\n",
       "      <td>0.006544</td>\n",
       "      <td>0.114406</td>\n",
       "      <td>-0.010189</td>\n",
       "      <td>-0.003515</td>\n",
       "      <td>-0.026149</td>\n",
       "      <td>-0.001916</td>\n",
       "      <td>1.000000</td>\n",
       "    </tr>\n",
       "  </tbody>\n",
       "</table>\n",
       "</div>"
      ],
      "text/plain": [
       "             cc_num  category       amt       zip       job       dob  \\\n",
       "cc_num     1.000000  0.000573 -0.000402 -0.163650  0.055548  0.192530   \n",
       "category   0.000573  1.000000  0.023012  0.007440  0.003527  0.005875   \n",
       "amt       -0.000402  0.023012  1.000000 -0.004406 -0.016322 -0.004795   \n",
       "zip       -0.163650  0.007440 -0.004406  1.000000  0.107926 -0.194417   \n",
       "job        0.055548  0.003527 -0.016322  0.107926  1.000000  0.124887   \n",
       "dob        0.192530  0.005875 -0.004795 -0.194417  0.124887  1.000000   \n",
       "trans_num -0.002649  0.002845 -0.000912  0.002013  0.001894  0.000708   \n",
       "is_fraud   0.019648  0.006544  0.114406 -0.010189 -0.003515 -0.026149   \n",
       "\n",
       "           trans_num  is_fraud  \n",
       "cc_num     -0.002649  0.019648  \n",
       "category    0.002845  0.006544  \n",
       "amt        -0.000912  0.114406  \n",
       "zip         0.002013 -0.010189  \n",
       "job         0.001894 -0.003515  \n",
       "dob         0.000708 -0.026149  \n",
       "trans_num   1.000000 -0.001916  \n",
       "is_fraud   -0.001916  1.000000  "
      ]
     },
     "execution_count": 23,
     "metadata": {},
     "output_type": "execute_result"
    }
   ],
   "source": [
    "cor=df.corr()        #check the correlation\n",
    "cor"
   ]
  },
  {
   "cell_type": "markdown",
   "id": "150f3f1c",
   "metadata": {},
   "source": [
    "5) MODEL BUILDING\n",
    "       - divide inputs and Target columns (x and y)\n",
    "       - split the dataset into training and testing \n",
    "       - fit and predict \n",
    "       - use metrics to find accuracy"
   ]
  },
  {
   "cell_type": "code",
   "execution_count": 24,
   "id": "479a36df",
   "metadata": {},
   "outputs": [
    {
     "data": {
      "text/html": [
       "<div>\n",
       "<style scoped>\n",
       "    .dataframe tbody tr th:only-of-type {\n",
       "        vertical-align: middle;\n",
       "    }\n",
       "\n",
       "    .dataframe tbody tr th {\n",
       "        vertical-align: top;\n",
       "    }\n",
       "\n",
       "    .dataframe thead th {\n",
       "        text-align: right;\n",
       "    }\n",
       "</style>\n",
       "<table border=\"1\" class=\"dataframe\">\n",
       "  <thead>\n",
       "    <tr style=\"text-align: right;\">\n",
       "      <th></th>\n",
       "      <th>cc_num</th>\n",
       "      <th>category</th>\n",
       "      <th>amt</th>\n",
       "      <th>zip</th>\n",
       "      <th>job</th>\n",
       "      <th>dob</th>\n",
       "      <th>trans_num</th>\n",
       "    </tr>\n",
       "    <tr>\n",
       "      <th>trans_date_trans_time</th>\n",
       "      <th></th>\n",
       "      <th></th>\n",
       "      <th></th>\n",
       "      <th></th>\n",
       "      <th></th>\n",
       "      <th></th>\n",
       "      <th></th>\n",
       "    </tr>\n",
       "  </thead>\n",
       "  <tbody>\n",
       "    <tr>\n",
       "      <th>2020-06-21 12:18:00</th>\n",
       "      <td>4.906630e+18</td>\n",
       "      <td>12</td>\n",
       "      <td>2.33</td>\n",
       "      <td>33040</td>\n",
       "      <td>460</td>\n",
       "      <td>347</td>\n",
       "      <td>1849</td>\n",
       "    </tr>\n",
       "    <tr>\n",
       "      <th>2020-06-21 12:19:00</th>\n",
       "      <td>4.861310e+18</td>\n",
       "      <td>0</td>\n",
       "      <td>80.11</td>\n",
       "      <td>70774</td>\n",
       "      <td>428</td>\n",
       "      <td>478</td>\n",
       "      <td>246722</td>\n",
       "    </tr>\n",
       "    <tr>\n",
       "      <th>2020-06-21 12:20:00</th>\n",
       "      <td>4.560000e+18</td>\n",
       "      <td>7</td>\n",
       "      <td>37.95</td>\n",
       "      <td>80951</td>\n",
       "      <td>291</td>\n",
       "      <td>252</td>\n",
       "      <td>384567</td>\n",
       "    </tr>\n",
       "    <tr>\n",
       "      <th>2020-06-21 12:29:00</th>\n",
       "      <td>4.110270e+18</td>\n",
       "      <td>7</td>\n",
       "      <td>31.19</td>\n",
       "      <td>38778</td>\n",
       "      <td>137</td>\n",
       "      <td>180</td>\n",
       "      <td>502769</td>\n",
       "    </tr>\n",
       "    <tr>\n",
       "      <th>2020-06-21 12:31:00</th>\n",
       "      <td>4.855490e+18</td>\n",
       "      <td>10</td>\n",
       "      <td>68.88</td>\n",
       "      <td>5654</td>\n",
       "      <td>15</td>\n",
       "      <td>848</td>\n",
       "      <td>352980</td>\n",
       "    </tr>\n",
       "    <tr>\n",
       "      <th>...</th>\n",
       "      <td>...</td>\n",
       "      <td>...</td>\n",
       "      <td>...</td>\n",
       "      <td>...</td>\n",
       "      <td>...</td>\n",
       "      <td>...</td>\n",
       "      <td>...</td>\n",
       "    </tr>\n",
       "    <tr>\n",
       "      <th>2020-12-31 23:25:00</th>\n",
       "      <td>4.537000e+18</td>\n",
       "      <td>0</td>\n",
       "      <td>11.24</td>\n",
       "      <td>87533</td>\n",
       "      <td>218</td>\n",
       "      <td>522</td>\n",
       "      <td>2295</td>\n",
       "    </tr>\n",
       "    <tr>\n",
       "      <th>2020-12-31 23:31:00</th>\n",
       "      <td>4.989850e+18</td>\n",
       "      <td>12</td>\n",
       "      <td>7.58</td>\n",
       "      <td>29127</td>\n",
       "      <td>28</td>\n",
       "      <td>257</td>\n",
       "      <td>137988</td>\n",
       "    </tr>\n",
       "    <tr>\n",
       "      <th>2020-12-31 23:34:00</th>\n",
       "      <td>4.312130e+18</td>\n",
       "      <td>10</td>\n",
       "      <td>1.60</td>\n",
       "      <td>21208</td>\n",
       "      <td>96</td>\n",
       "      <td>322</td>\n",
       "      <td>6058</td>\n",
       "    </tr>\n",
       "    <tr>\n",
       "      <th>2020-12-31 23:39:00</th>\n",
       "      <td>4.537000e+18</td>\n",
       "      <td>10</td>\n",
       "      <td>16.72</td>\n",
       "      <td>87533</td>\n",
       "      <td>218</td>\n",
       "      <td>522</td>\n",
       "      <td>185672</td>\n",
       "    </tr>\n",
       "    <tr>\n",
       "      <th>2020-12-31 23:54:00</th>\n",
       "      <td>4.319580e+18</td>\n",
       "      <td>5</td>\n",
       "      <td>123.84</td>\n",
       "      <td>41810</td>\n",
       "      <td>70</td>\n",
       "      <td>5</td>\n",
       "      <td>302124</td>\n",
       "    </tr>\n",
       "  </tbody>\n",
       "</table>\n",
       "<p>50982 rows × 7 columns</p>\n",
       "</div>"
      ],
      "text/plain": [
       "                             cc_num  category     amt    zip  job  dob  \\\n",
       "trans_date_trans_time                                                    \n",
       "2020-06-21 12:18:00    4.906630e+18        12    2.33  33040  460  347   \n",
       "2020-06-21 12:19:00    4.861310e+18         0   80.11  70774  428  478   \n",
       "2020-06-21 12:20:00    4.560000e+18         7   37.95  80951  291  252   \n",
       "2020-06-21 12:29:00    4.110270e+18         7   31.19  38778  137  180   \n",
       "2020-06-21 12:31:00    4.855490e+18        10   68.88   5654   15  848   \n",
       "...                             ...       ...     ...    ...  ...  ...   \n",
       "2020-12-31 23:25:00    4.537000e+18         0   11.24  87533  218  522   \n",
       "2020-12-31 23:31:00    4.989850e+18        12    7.58  29127   28  257   \n",
       "2020-12-31 23:34:00    4.312130e+18        10    1.60  21208   96  322   \n",
       "2020-12-31 23:39:00    4.537000e+18        10   16.72  87533  218  522   \n",
       "2020-12-31 23:54:00    4.319580e+18         5  123.84  41810   70    5   \n",
       "\n",
       "                       trans_num  \n",
       "trans_date_trans_time             \n",
       "2020-06-21 12:18:00         1849  \n",
       "2020-06-21 12:19:00       246722  \n",
       "2020-06-21 12:20:00       384567  \n",
       "2020-06-21 12:29:00       502769  \n",
       "2020-06-21 12:31:00       352980  \n",
       "...                          ...  \n",
       "2020-12-31 23:25:00         2295  \n",
       "2020-12-31 23:31:00       137988  \n",
       "2020-12-31 23:34:00         6058  \n",
       "2020-12-31 23:39:00       185672  \n",
       "2020-12-31 23:54:00       302124  \n",
       "\n",
       "[50982 rows x 7 columns]"
      ]
     },
     "execution_count": 24,
     "metadata": {},
     "output_type": "execute_result"
    }
   ],
   "source": [
    "x=df.iloc[:,:-1]       \n",
    "x"
   ]
  },
  {
   "cell_type": "code",
   "execution_count": 25,
   "id": "2127bd0f",
   "metadata": {},
   "outputs": [
    {
     "data": {
      "text/html": [
       "<div>\n",
       "<style scoped>\n",
       "    .dataframe tbody tr th:only-of-type {\n",
       "        vertical-align: middle;\n",
       "    }\n",
       "\n",
       "    .dataframe tbody tr th {\n",
       "        vertical-align: top;\n",
       "    }\n",
       "\n",
       "    .dataframe thead th {\n",
       "        text-align: right;\n",
       "    }\n",
       "</style>\n",
       "<table border=\"1\" class=\"dataframe\">\n",
       "  <thead>\n",
       "    <tr style=\"text-align: right;\">\n",
       "      <th></th>\n",
       "      <th>is_fraud</th>\n",
       "    </tr>\n",
       "    <tr>\n",
       "      <th>trans_date_trans_time</th>\n",
       "      <th></th>\n",
       "    </tr>\n",
       "  </thead>\n",
       "  <tbody>\n",
       "    <tr>\n",
       "      <th>2020-06-21 12:18:00</th>\n",
       "      <td>0</td>\n",
       "    </tr>\n",
       "    <tr>\n",
       "      <th>2020-06-21 12:19:00</th>\n",
       "      <td>0</td>\n",
       "    </tr>\n",
       "    <tr>\n",
       "      <th>2020-06-21 12:20:00</th>\n",
       "      <td>0</td>\n",
       "    </tr>\n",
       "    <tr>\n",
       "      <th>2020-06-21 12:29:00</th>\n",
       "      <td>0</td>\n",
       "    </tr>\n",
       "    <tr>\n",
       "      <th>2020-06-21 12:31:00</th>\n",
       "      <td>0</td>\n",
       "    </tr>\n",
       "    <tr>\n",
       "      <th>...</th>\n",
       "      <td>...</td>\n",
       "    </tr>\n",
       "    <tr>\n",
       "      <th>2020-12-31 23:25:00</th>\n",
       "      <td>0</td>\n",
       "    </tr>\n",
       "    <tr>\n",
       "      <th>2020-12-31 23:31:00</th>\n",
       "      <td>0</td>\n",
       "    </tr>\n",
       "    <tr>\n",
       "      <th>2020-12-31 23:34:00</th>\n",
       "      <td>0</td>\n",
       "    </tr>\n",
       "    <tr>\n",
       "      <th>2020-12-31 23:39:00</th>\n",
       "      <td>0</td>\n",
       "    </tr>\n",
       "    <tr>\n",
       "      <th>2020-12-31 23:54:00</th>\n",
       "      <td>0</td>\n",
       "    </tr>\n",
       "  </tbody>\n",
       "</table>\n",
       "<p>50982 rows × 1 columns</p>\n",
       "</div>"
      ],
      "text/plain": [
       "                       is_fraud\n",
       "trans_date_trans_time          \n",
       "2020-06-21 12:18:00           0\n",
       "2020-06-21 12:19:00           0\n",
       "2020-06-21 12:20:00           0\n",
       "2020-06-21 12:29:00           0\n",
       "2020-06-21 12:31:00           0\n",
       "...                         ...\n",
       "2020-12-31 23:25:00           0\n",
       "2020-12-31 23:31:00           0\n",
       "2020-12-31 23:34:00           0\n",
       "2020-12-31 23:39:00           0\n",
       "2020-12-31 23:54:00           0\n",
       "\n",
       "[50982 rows x 1 columns]"
      ]
     },
     "execution_count": 25,
     "metadata": {},
     "output_type": "execute_result"
    }
   ],
   "source": [
    "y=df.iloc[:,-1:]\n",
    "y                        #  Target column is binary (0,1)"
   ]
  },
  {
   "cell_type": "code",
   "execution_count": 27,
   "id": "8bae7c45",
   "metadata": {},
   "outputs": [],
   "source": [
    "x_train,x_test,y_train,y_test=train_test_split(x,y,test_size=0.3,shuffle=True,random_state=666) #model_selection"
   ]
  },
  {
   "cell_type": "code",
   "execution_count": 28,
   "id": "2379c8e8",
   "metadata": {},
   "outputs": [],
   "source": [
    "#Logistic Regression__________________\n",
    "\n",
    "lg=LogisticRegression()"
   ]
  },
  {
   "cell_type": "code",
   "execution_count": 29,
   "id": "3ccc3dc9",
   "metadata": {},
   "outputs": [
    {
     "name": "stderr",
     "output_type": "stream",
     "text": [
      "C:\\Users\\skaar\\anaconda3\\lib\\site-packages\\sklearn\\utils\\validation.py:993: DataConversionWarning: A column-vector y was passed when a 1d array was expected. Please change the shape of y to (n_samples, ), for example using ravel().\n",
      "  y = column_or_1d(y, warn=True)\n",
      "C:\\Users\\skaar\\anaconda3\\lib\\site-packages\\sklearn\\linear_model\\_logistic.py:814: ConvergenceWarning: lbfgs failed to converge (status=2):\n",
      "ABNORMAL_TERMINATION_IN_LNSRCH.\n",
      "\n",
      "Increase the number of iterations (max_iter) or scale the data as shown in:\n",
      "    https://scikit-learn.org/stable/modules/preprocessing.html\n",
      "Please also refer to the documentation for alternative solver options:\n",
      "    https://scikit-learn.org/stable/modules/linear_model.html#logistic-regression\n",
      "  n_iter_i = _check_optimize_result(\n"
     ]
    },
    {
     "data": {
      "text/plain": [
       "LogisticRegression()"
      ]
     },
     "execution_count": 29,
     "metadata": {},
     "output_type": "execute_result"
    }
   ],
   "source": [
    "lg.fit(x_train,y_train)         # fit- Trains the model in training dataset"
   ]
  },
  {
   "cell_type": "code",
   "execution_count": 30,
   "id": "1ef2184c",
   "metadata": {},
   "outputs": [],
   "source": [
    "y_pred=lg.predict(x_test)                # Predict - Predict the x_test\n",
    "accuracy=accuracy_score(y_test,y_pred)   # accuracy_score is a metrics used for classification models to find accuracy "
   ]
  },
  {
   "cell_type": "code",
   "execution_count": 31,
   "id": "ba68d9bd",
   "metadata": {},
   "outputs": [
    {
     "data": {
      "text/plain": [
       "99.66001961425303"
      ]
     },
     "execution_count": 31,
     "metadata": {},
     "output_type": "execute_result"
    }
   ],
   "source": [
    "accuracy*100"
   ]
  },
  {
   "cell_type": "code",
   "execution_count": null,
   "id": "bf674793",
   "metadata": {},
   "outputs": [],
   "source": [
    "y_probs=lg.predict_proba(x_test)[:, 1]  # Probability estimates for the positive class"
   ]
  },
  {
   "cell_type": "code",
   "execution_count": null,
   "id": "b3f20a56",
   "metadata": {},
   "outputs": [],
   "source": [
    "fpr,tpr,thresholds=roc_curve(y_test, y_probs)   # Compute the ROC curv"
   ]
  },
  {
   "cell_type": "code",
   "execution_count": null,
   "id": "3bb61696",
   "metadata": {},
   "outputs": [],
   "source": [
    "auc_score = roc_auc_score(y_test, y_probs)\n",
    "auc_score"
   ]
  },
  {
   "cell_type": "code",
   "execution_count": null,
   "id": "41db9980",
   "metadata": {},
   "outputs": [],
   "source": []
  },
  {
   "cell_type": "code",
   "execution_count": 32,
   "id": "010479c2",
   "metadata": {},
   "outputs": [],
   "source": [
    "#DecisionTree_____________________\n",
    "\n",
    "dtc=DecisionTreeClassifier(criterion=\"entropy\", max_depth=2) #entropy nide-measures the impurities,\n",
    "                                                             #max_depth-no.of.edges from root node"
   ]
  },
  {
   "cell_type": "code",
   "execution_count": 33,
   "id": "d9f8f0fa",
   "metadata": {},
   "outputs": [
    {
     "data": {
      "text/plain": [
       "DecisionTreeClassifier(criterion='entropy', max_depth=2)"
      ]
     },
     "execution_count": 33,
     "metadata": {},
     "output_type": "execute_result"
    }
   ],
   "source": [
    "dtc.fit(x_train,y_train)"
   ]
  },
  {
   "cell_type": "code",
   "execution_count": 34,
   "id": "5ee37493",
   "metadata": {},
   "outputs": [],
   "source": [
    "y_pred=dtc.predict(x_test)"
   ]
  },
  {
   "cell_type": "code",
   "execution_count": 35,
   "id": "0e7e02a1",
   "metadata": {},
   "outputs": [],
   "source": [
    "acc=accuracy_score(y_pred,y_test)"
   ]
  },
  {
   "cell_type": "code",
   "execution_count": 36,
   "id": "4a11e427",
   "metadata": {},
   "outputs": [
    {
     "data": {
      "text/plain": [
       "99.66001961425303"
      ]
     },
     "execution_count": 36,
     "metadata": {},
     "output_type": "execute_result"
    }
   ],
   "source": [
    "acc*100"
   ]
  },
  {
   "cell_type": "code",
   "execution_count": 37,
   "id": "c74b301d",
   "metadata": {},
   "outputs": [
    {
     "data": {
      "text/plain": [
       "[Text(0.5, 0.8333333333333334, 'X[2] <= 252.42\\nentropy = 0.034\\nsamples = 35687\\nvalue = [35561, 126]'),\n",
       " Text(0.25, 0.5, 'X[2] <= 23.915\\nentropy = 0.013\\nsamples = 34685\\nvalue = [34644, 41]'),\n",
       " Text(0.125, 0.16666666666666666, 'entropy = 0.028\\nsamples = 12169\\nvalue = [12134, 35]'),\n",
       " Text(0.375, 0.16666666666666666, 'entropy = 0.004\\nsamples = 22516\\nvalue = [22510, 6]'),\n",
       " Text(0.75, 0.5, 'X[2] <= 712.53\\nentropy = 0.419\\nsamples = 1002\\nvalue = [917, 85]'),\n",
       " Text(0.625, 0.16666666666666666, 'entropy = 0.285\\nsamples = 824\\nvalue = [783, 41]'),\n",
       " Text(0.875, 0.16666666666666666, 'entropy = 0.807\\nsamples = 178\\nvalue = [134, 44]')]"
      ]
     },
     "execution_count": 37,
     "metadata": {},
     "output_type": "execute_result"
    },
    {
     "data": {
      "image/png": "[encoded data removed]",
      "text/plain": [
       "<Figure size 640x480 with 1 Axes>"
      ]
     },
     "metadata": {},
     "output_type": "display_data"
    }
   ],
   "source": [
    "tree.plot_tree(dtc)    #tree plotting"
   ]
  },
  {
   "cell_type": "code",
   "execution_count": 38,
   "id": "e098aeb6",
   "metadata": {},
   "outputs": [],
   "source": [
    "#Random Forest_____________________\n",
    "\n",
    "rfc=RandomForestClassifier(n_estimators =100)   #n_estimators-no.of.decision trees"
   ]
  },
  {
   "cell_type": "code",
   "execution_count": 39,
   "id": "ee2a4e6a",
   "metadata": {},
   "outputs": [
    {
     "name": "stderr",
     "output_type": "stream",
     "text": [
      "C:\\Users\\skaar\\AppData\\Local\\Temp\\ipykernel_11000\\4070307935.py:1: DataConversionWarning: A column-vector y was passed when a 1d array was expected. Please change the shape of y to (n_samples,), for example using ravel().\n",
      "  rfc.fit(x_train,y_train)\n"
     ]
    },
    {
     "data": {
      "text/plain": [
       "RandomForestClassifier()"
      ]
     },
     "execution_count": 39,
     "metadata": {},
     "output_type": "execute_result"
    }
   ],
   "source": [
    "rfc.fit(x_train,y_train)"
   ]
  },
  {
   "cell_type": "code",
   "execution_count": 40,
   "id": "4d62eb3f",
   "metadata": {},
   "outputs": [],
   "source": [
    "y_pred=rfc.predict(x_test)"
   ]
  },
  {
   "cell_type": "code",
   "execution_count": 41,
   "id": "37ea2213",
   "metadata": {},
   "outputs": [],
   "source": [
    "accu=accuracy_score(y_pred,y_test)"
   ]
  },
  {
   "cell_type": "code",
   "execution_count": 42,
   "id": "a32ec427",
   "metadata": {},
   "outputs": [
    {
     "data": {
      "text/plain": [
       "99.7777051323962"
      ]
     },
     "execution_count": 42,
     "metadata": {},
     "output_type": "execute_result"
    }
   ],
   "source": [
    "accu*100"
   ]
  },
  {
   "cell_type": "markdown",
   "id": "1d645faf",
   "metadata": {},
   "source": [
    "6) DISPLAY THE PLOT"
   ]
  },
  {
   "cell_type": "code",
   "execution_count": 43,
   "id": "3a2a81e6",
   "metadata": {},
   "outputs": [
    {
     "data": {
      "image/png": "[encoded data removed]",
      "text/plain": [
       "<Figure size 1000x1000 with 2 Axes>"
      ]
     },
     "metadata": {},
     "output_type": "display_data"
    }
   ],
   "source": [
    "plt.figure(figsize=(10,10))\n",
    "sns.heatmap(cor,annot=True)\n",
    "plt.show()"
   ]
  },
  {
   "cell_type": "markdown",
   "id": "bd639264",
   "metadata": {},
   "source": [
    "7) CONCLUSION\n",
    "\n",
    "This project demonstrates how different models can be applied to TimeSeries dataset for fraud detection, also the tree and correlation maps are plotted."
   ]
  }
 ],
 "metadata": {
  "kernelspec": {
   "display_name": "Python 3 (ipykernel)",
   "language": "python",
   "name": "python3"
  },
  "language_info": {
   "codemirror_mode": {
    "name": "ipython",
    "version": 3
   },
   "file_extension": ".py",
   "mimetype": "text/x-python",
   "name": "python",
   "nbconvert_exporter": "python",
   "pygments_lexer": "ipython3",
   "version": "3.9.13"
  }
 },
 "nbformat": 4,
 "nbformat_minor": 5
}
